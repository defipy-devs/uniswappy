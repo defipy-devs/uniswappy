{
 "cells": [
  {
   "cell_type": "markdown",
   "id": "bbadac2a-bf42-4db1-8acb-ad918c7c89f5",
   "metadata": {},
   "source": [
    "## Test for Liquidity Leaks"
   ]
  },
  {
   "cell_type": "code",
   "execution_count": 1,
   "id": "79912f6d-1d23-4c62-9dfe-1d0ead235941",
   "metadata": {},
   "outputs": [],
   "source": [
    "import os\n",
    "import copy\n",
    "import numpy as np\n",
    "import pandas as pd\n",
    "import time\n",
    "import datetime\n",
    "\n",
    "import matplotlib.pyplot as plt"
   ]
  },
  {
   "cell_type": "code",
   "execution_count": 2,
   "id": "b45c9861-544e-4bef-ad6e-dafd21eb3460",
   "metadata": {},
   "outputs": [],
   "source": [
    "from uniswappy import *\n",
    "import math"
   ]
  },
  {
   "cell_type": "code",
   "execution_count": 3,
   "id": "26e771c9-c5f2-4dde-8d7b-4564813f089f",
   "metadata": {},
   "outputs": [],
   "source": [
    "user_nm = 'user0'\n",
    "dai_amount = 10000\n",
    "sys_amount = 100000"
   ]
  },
  {
   "cell_type": "code",
   "execution_count": 4,
   "id": "0de99129-fc47-48cc-b85d-e9f5c3f0ad52",
   "metadata": {},
   "outputs": [
    {
     "name": "stdout",
     "output_type": "stream",
     "text": [
      "Exchange SYS-DAI (LP)\n",
      "Reserves: SYS = 1000.0, DAI = 1000.0\n",
      "Liquidity: 1000.0 \n",
      "\n",
      "lp tokens: 1000000000000000000000.000000 sqrt(k): 1000000000000000000000.000000\n",
      "\n",
      "-----------------------------------------\n",
      "1 LP token is worth 1.996006 DAI\n",
      "-----------------------------------------\n",
      "\n",
      "Exchange SYS-DAI (LP)\n",
      "Reserves: SYS = 900.0, DAI = 900.0\n",
      "Liquidity: 900.0 \n",
      "\n",
      "(sub liquidity) lp tokens: 900000000000000000000.000000 sqrt(k) 900000000000000000000.000000\n",
      "\n",
      "Exchange SYS-DAI (LP)\n",
      "Reserves: SYS = 1000.0, DAI = 1000.0\n",
      "Liquidity: 1000.0 \n",
      "\n",
      "(add liquidity) lp tokens: 1000000000000000000000.000000 sqrt(k): 1000000000000000000000.000000\n",
      "-----------------------------------------\n",
      "\n",
      "Exchange SYS-DAI (LP)\n",
      "Reserves: SYS = 900.0, DAI = 900.0\n",
      "Liquidity: 900.0 \n",
      "\n",
      "(sub liquidity) lp tokens: 900000000000000000000.000000 sqrt(k) 900000000000000000000.000000\n",
      "\n",
      "Exchange SYS-DAI (LP)\n",
      "Reserves: SYS = 1000.0, DAI = 1000.0\n",
      "Liquidity: 1000.0 \n",
      "\n",
      "(add liquidity) lp tokens: 1000000000000000000000.000000 sqrt(k): 1000000000000000000000.000000\n",
      "-----------------------------------------\n",
      "\n",
      "Exchange SYS-DAI (LP)\n",
      "Reserves: SYS = 900.0, DAI = 900.0\n",
      "Liquidity: 900.0 \n",
      "\n",
      "(sub liquidity) lp tokens: 900000000000000000000.000000 sqrt(k) 900000000000000000000.000000\n",
      "\n",
      "Exchange SYS-DAI (LP)\n",
      "Reserves: SYS = 1000.0, DAI = 1000.0\n",
      "Liquidity: 1000.0 \n",
      "\n",
      "(add liquidity) lp tokens: 1000000000000000000000.000000 sqrt(k): 1000000000000000000000.000000\n",
      "-----------------------------------------\n",
      "\n",
      "Exchange SYS-DAI (LP)\n",
      "Reserves: SYS = 900.0, DAI = 900.0\n",
      "Liquidity: 900.0 \n",
      "\n",
      "(sub liquidity) lp tokens: 900000000000000000000.000000 sqrt(k) 900000000000000000000.000000\n",
      "\n",
      "Exchange SYS-DAI (LP)\n",
      "Reserves: SYS = 1000.0, DAI = 1000.0\n",
      "Liquidity: 1000.0 \n",
      "\n",
      "(add liquidity) lp tokens: 1000000000000000000000.000000 sqrt(k): 1000000000000000000000.000000\n",
      "-----------------------------------------\n",
      "\n",
      "Exchange SYS-DAI (LP)\n",
      "Reserves: SYS = 900.0, DAI = 900.0\n",
      "Liquidity: 900.0 \n",
      "\n",
      "(sub liquidity) lp tokens: 900000000000000000000.000000 sqrt(k) 900000000000000000000.000000\n",
      "\n",
      "Exchange SYS-DAI (LP)\n",
      "Reserves: SYS = 1000.0, DAI = 1000.0\n",
      "Liquidity: 1000.0 \n",
      "\n",
      "(add liquidity) lp tokens: 1000000000000000000000.000000 sqrt(k): 1000000000000000000000.000000\n",
      "-----------------------------------------\n",
      "\n",
      "Exchange SYS-DAI (LP)\n",
      "Reserves: SYS = 900.0, DAI = 900.0\n",
      "Liquidity: 900.0 \n",
      "\n",
      "(sub liquidity) lp tokens: 900000000000000000000.000000 sqrt(k) 900000000000000000000.000000\n",
      "\n",
      "Exchange SYS-DAI (LP)\n",
      "Reserves: SYS = 1000.0, DAI = 1000.0\n",
      "Liquidity: 1000.0 \n",
      "\n",
      "(add liquidity) lp tokens: 1000000000000000000000.000000 sqrt(k): 1000000000000000000000.000000\n",
      "-----------------------------------------\n",
      "\n",
      "Exchange SYS-DAI (LP)\n",
      "Reserves: SYS = 900.0, DAI = 900.0\n",
      "Liquidity: 900.0 \n",
      "\n",
      "(sub liquidity) lp tokens: 900000000000000000000.000000 sqrt(k) 900000000000000000000.000000\n",
      "\n",
      "Exchange SYS-DAI (LP)\n",
      "Reserves: SYS = 1000.0, DAI = 1000.0\n",
      "Liquidity: 1000.0 \n",
      "\n",
      "(add liquidity) lp tokens: 1000000000000000000000.000000 sqrt(k): 1000000000000000000000.000000\n",
      "-----------------------------------------\n",
      "\n",
      "Exchange SYS-DAI (LP)\n",
      "Reserves: SYS = 900.0, DAI = 900.0\n",
      "Liquidity: 900.0 \n",
      "\n",
      "(sub liquidity) lp tokens: 900000000000000000000.000000 sqrt(k) 900000000000000000000.000000\n",
      "\n",
      "Exchange SYS-DAI (LP)\n",
      "Reserves: SYS = 1000.0, DAI = 1000.0\n",
      "Liquidity: 1000.0 \n",
      "\n",
      "(add liquidity) lp tokens: 1000000000000000000000.000000 sqrt(k): 1000000000000000000000.000000\n",
      "-----------------------------------------\n",
      "\n",
      "Exchange SYS-DAI (LP)\n",
      "Reserves: SYS = 900.0, DAI = 900.0\n",
      "Liquidity: 900.0 \n",
      "\n",
      "(sub liquidity) lp tokens: 900000000000000000000.000000 sqrt(k) 900000000000000000000.000000\n",
      "\n",
      "Exchange SYS-DAI (LP)\n",
      "Reserves: SYS = 1000.0, DAI = 1000.0\n",
      "Liquidity: 1000.0 \n",
      "\n",
      "(add liquidity) lp tokens: 1000000000000000000000.000000 sqrt(k): 1000000000000000000000.000000\n",
      "-----------------------------------------\n",
      "\n",
      "Exchange SYS-DAI (LP)\n",
      "Reserves: SYS = 900.0, DAI = 900.0\n",
      "Liquidity: 900.0 \n",
      "\n",
      "(sub liquidity) lp tokens: 900000000000000000000.000000 sqrt(k) 900000000000000000000.000000\n",
      "\n",
      "Exchange SYS-DAI (LP)\n",
      "Reserves: SYS = 1000.0, DAI = 1000.0\n",
      "Liquidity: 1000.0 \n",
      "\n",
      "(add liquidity) lp tokens: 1000000000000000000000.000000 sqrt(k): 1000000000000000000000.000000\n",
      "-----------------------------------------\n",
      "\n",
      "-----------------------------------------\n",
      "1 LP token is worth 1.996006 DAI\n",
      "-----------------------------------------\n",
      "\n"
     ]
    }
   ],
   "source": [
    "dai1 = ERC20(\"DAI\", \"0x111\")\n",
    "sys1 = ERC20(\"SYS\", \"0x09\")\n",
    "exchg_data = UniswapExchangeData(tkn0 = sys1, tkn1 = dai1, symbol=\"LP\", address=\"0x011\")\n",
    "\n",
    "factory = UniswapFactory(\"SYS pool factory\", \"0x2\")\n",
    "lp = factory.deploy(exchg_data)\n",
    "lp.add_liquidity(user_nm, 1000, 1000, 1000, 1000)\n",
    "lp.summary()\n",
    "print('lp tokens: {:.6f} sqrt(k): {:.6f}\\n'.format(lp.total_supply, math.isqrt(lp.reserve0*lp.reserve1)))\n",
    "\n",
    "amt = 100\n",
    "\n",
    "print('-----------------------------------------')\n",
    "print('1 LP token is worth {:.6f} DAI'.format(LPQuote(False).get_amount_from_lp(lp, dai1, 1)))\n",
    "print('-----------------------------------------\\n')\n",
    "\n",
    "for k in range(10):\n",
    "    \n",
    "    RemoveLiquidity().apply(lp, dai1, user_nm, amt) \n",
    "    lp.summary()\n",
    "    print('(sub liquidity) lp tokens: {:.6f} sqrt(k) {:.6f}\\n'.format(lp.total_supply, math.isqrt(lp.reserve0*lp.reserve1)))    \n",
    "    \n",
    "    AddLiquidity().apply(lp, dai1, user_nm, amt) \n",
    "    lp.summary()\n",
    "    print('(add liquidity) lp tokens: {:.6f} sqrt(k): {:.6f}'.format(lp.total_supply, math.isqrt(lp.reserve0*lp.reserve1)))\n",
    "\n",
    "\n",
    "    print('-----------------------------------------\\n')\n",
    "    \n",
    "print('-----------------------------------------')\n",
    "print('1 LP token is worth {:.6f} DAI'.format(LPQuote(False).get_amount_from_lp(lp, dai1, 1)))\n",
    "print('-----------------------------------------\\n')    "
   ]
  },
  {
   "cell_type": "code",
   "execution_count": 5,
   "id": "5e4b406c-d670-443b-83fa-c88c126f96b6",
   "metadata": {},
   "outputs": [
    {
     "name": "stdout",
     "output_type": "stream",
     "text": [
      "Exchange SYS-DAI (LP)\n",
      "Reserves: SYS = 100000.0, DAI = 10000.0\n",
      "Liquidity: 31622.776601683792 \n",
      "\n"
     ]
    }
   ],
   "source": [
    "dai1 = ERC20(\"DAI\", \"0x111\")\n",
    "sys1 = ERC20(\"SYS\", \"0x09\")\n",
    "exchg_data = UniswapExchangeData(tkn0 = sys1, tkn1 = dai1, symbol=\"LP\", address=\"0x011\")\n",
    "\n",
    "factory = UniswapFactory(\"SYS pool factory\", \"0x2\")\n",
    "lp = factory.deploy(exchg_data)\n",
    "lp.add_liquidity(user_nm, sys_amount, dai_amount, sys_amount, dai_amount)\n",
    "lp.summary()"
   ]
  },
  {
   "cell_type": "markdown",
   "id": "bb14717d-649b-4ccf-8f86-e720c567e2b9",
   "metadata": {},
   "source": [
    "### Liquidity leak test-batch #1"
   ]
  },
  {
   "cell_type": "code",
   "execution_count": 6,
   "id": "fe0eba62-61bd-45a6-9666-de5c96f7a4d9",
   "metadata": {},
   "outputs": [
    {
     "name": "stdout",
     "output_type": "stream",
     "text": [
      "Exchange SYS-DAI (LP)\n",
      "Reserves: SYS = 100000.0, DAI = 10000.0\n",
      "Liquidity: 31622.776601683792 \n",
      "\n",
      "Pre-tests:\n",
      "- 1 LP token is 0.631497 DAI\n",
      "- we are starting with 31622.776602 LP token\n"
     ]
    }
   ],
   "source": [
    "lp.summary()\n",
    "dai_amt = LPQuote(False).get_amount_from_lp(lp, dai1, 1)\n",
    "print('Pre-tests:')\n",
    "print('- 1 LP token is {:.6f} DAI'.format(dai_amt))\n",
    "print('- we are starting with {:.6f} LP token'.format(lp.get_liquidity_from_provider(user_nm)))"
   ]
  },
  {
   "cell_type": "markdown",
   "id": "7ffba19e-41b1-45db-9b3c-5dfc3aae6b5a",
   "metadata": {},
   "source": [
    "#### Test 1: AddLiquidity / RemoveLiquidity"
   ]
  },
  {
   "cell_type": "code",
   "execution_count": 7,
   "id": "55985bb0-0282-4c7f-8b77-9f5ddf4f31b8",
   "metadata": {},
   "outputs": [],
   "source": [
    "for k in range(10):\n",
    "    vault_lp1_amt = 2000\n",
    "    dai_amount1 = LPQuote(True).get_amount(lp, dai1, vault_lp1_amt) \n",
    "    AddLiquidity().apply(lp, dai1, user_nm, vault_lp1_amt) \n",
    "    RemoveLiquidity().apply(lp, dai1, user_nm, abs(vault_lp1_amt))  "
   ]
  },
  {
   "cell_type": "code",
   "execution_count": 8,
   "id": "155cd1c8-7359-4399-a95f-89ed7cd16ea1",
   "metadata": {},
   "outputs": [
    {
     "name": "stdout",
     "output_type": "stream",
     "text": [
      "Exchange SYS-DAI (LP)\n",
      "Reserves: SYS = 99999.99999999999, DAI = 9999.999999999998\n",
      "Liquidity: 31622.77660168379 \n",
      "\n",
      "Post test:\n",
      "- 1 LP token is 0.631497 DAI\n",
      "- we have 31622.776602 LP token remaining\n"
     ]
    }
   ],
   "source": [
    "lp.summary()\n",
    "dai_amt = LPQuote(False).get_amount_from_lp(lp, dai1, 1)\n",
    "print('Post test:')\n",
    "print('- 1 LP token is {:.6f} DAI'.format(dai_amt))\n",
    "print('- we have {:.6f} LP token remaining'.format(lp.get_liquidity_from_provider(user_nm)))"
   ]
  }
 ],
 "metadata": {
  "kernelspec": {
   "display_name": "Python 3 (ipykernel)",
   "language": "python",
   "name": "python3"
  },
  "language_info": {
   "codemirror_mode": {
    "name": "ipython",
    "version": 3
   },
   "file_extension": ".py",
   "mimetype": "text/x-python",
   "name": "python",
   "nbconvert_exporter": "python",
   "pygments_lexer": "ipython3",
   "version": "3.10.0rc2"
  }
 },
 "nbformat": 4,
 "nbformat_minor": 5
}
