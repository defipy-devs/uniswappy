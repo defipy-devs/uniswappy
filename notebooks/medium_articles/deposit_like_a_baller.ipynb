{
 "cells": [
  {
   "cell_type": "markdown",
   "id": "8497145d-a630-4c95-860a-b534aed34a81",
   "metadata": {},
   "source": [
    "# Uniswap Deposits like an Baller"
   ]
  },
  {
   "cell_type": "code",
   "execution_count": 17,
   "id": "685294f3-f8e2-42f7-aa29-f396873fb8b5",
   "metadata": {},
   "outputs": [],
   "source": [
    "import os\n",
    "import math\n",
    "import numpy as np\n",
    "from termcolor import colored"
   ]
  },
  {
   "cell_type": "code",
   "execution_count": 18,
   "id": "a1f99434-79ec-49c3-9de6-4c8a569c6531",
   "metadata": {},
   "outputs": [],
   "source": [
    "from uniswappy import *"
   ]
  },
  {
   "cell_type": "code",
   "execution_count": 19,
   "id": "36f7fe68-bc6d-4990-8d74-4ec69beb8512",
   "metadata": {},
   "outputs": [],
   "source": [
    "user_nm = 'user0'\n",
    "eth_amount = 1000\n",
    "usdc_amount = 1000000"
   ]
  },
  {
   "cell_type": "markdown",
   "id": "91356ac0-b762-4b00-8476-c37ba69b47f6",
   "metadata": {},
   "source": [
    "#### SwapDeposit (incl. fee):\n",
    "\n",
    "* A ```SwapDeposit``` is where a certain amount of a specific token is deposited into the LP under one operation\n",
    "* Includes two steps:\n",
    "    * (step 1) perform approx. 50% swap for opposing token\n",
    "    * (step 2) using amt from step 1, perform 1:1 deposit\n",
    "* A portion of the incoming funds are swapped to achieve equal portions of both assets\n",
    "* These portions are then deposited into the LP\n",
    "* To ensure all the funds are deposited, we must determine the portion ($\\alpha$) of $s_{in}$ that must first get swapped\n",
    "\n",
    "> $ \\Delta x =\\Delta x_{swap}  + \\Delta x_{deposit}$\n",
    "\n",
    "> $ \\Delta x =\\alpha \\Delta x   + \\Delta x_{deposit}$\n",
    "\n",
    "\n",
    "#### Follows this system of equations:\n",
    "\n",
    "> (Eq. 1) $\\Delta y = \\frac{997 y \\alpha \\Delta x }{1000x + 997\\alpha\\Delta x }$\n",
    "\n",
    "> (Eq. 2) $\\Delta x = \\alpha\\Delta x   + \\frac{\\Delta y(x + \\alpha\\Delta x )}{y - \\Delta y}$\n",
    "\n",
    "where \n",
    "* $\\Delta x$ -> amt token in \n",
    "* $\\Delta y$ -> amt opposing token out after swap\n",
    "* $\\alpha$ -> portion of $\\Delta x$ swapped in\n",
    "* x -> reserve0\n",
    "* y -> reserve1"
   ]
  },
  {
   "cell_type": "markdown",
   "id": "2b273c68-cbdc-4de9-b6b6-13fff82c4f9b",
   "metadata": {},
   "source": [
    "### Let's highlight why the above considerations are important ..."
   ]
  },
  {
   "cell_type": "code",
   "execution_count": 20,
   "id": "d4937c98-58d9-42bc-90f1-197550a1e002",
   "metadata": {},
   "outputs": [
    {
     "name": "stdout",
     "output_type": "stream",
     "text": [
      "***\n",
      "Initial LP\n",
      "***\n",
      "Exchange ETH-USDC (LP)\n",
      "Reserves: ETH = 1000.0, USDC = 1000000.0\n",
      "Liquidity: 31622.776601683792 \n",
      "\n",
      "***\n",
      "LP post step 1\n",
      "***\n",
      "Exchange ETH-USDC (LP)\n",
      "Reserves: ETH = 1050.0, USDC = 952517.026241844\n",
      "Liquidity: 31622.776601683792 \n",
      "\n",
      "***\n",
      "LP post step 2\n",
      "***\n",
      "Exchange ETH-USDC (LP)\n",
      "Reserves: ETH = 1100.0, USDC = 997874.9798724081\n",
      "Liquidity: 33128.623106525876 \n",
      "\n",
      "Given 100 initial ETH:\n",
      "  (step 1) 50.0 ETH must first get swapped for 47482.973758155924 \n",
      "  (step 2) The received TKN gets deposited along with the remaining 50.0 ETH\n",
      "\n",
      "Total deposited is 50.000000 + 50.000000 = 100.000000 ETH:\n",
      "However, we have \u001b[1m\u001b[31m-997874979872408079134912\u001b[0m unaccounted USDC which need to be considered when using a 50/50 split\n"
     ]
    }
   ],
   "source": [
    "eth = ERC20(\"ETH\", \"0x09\")\n",
    "usdc = ERC20(\"USDC\", \"0x111\")\n",
    "exchg_data = UniswapExchangeData(tkn0 = eth, tkn1 = usdc, symbol=\"LP\", address=\"0x011\")\n",
    "\n",
    "factory = UniswapFactory(\"ETH pool factory\", \"0x2\")\n",
    "lp = factory.deploy(exchg_data)\n",
    "lp.add_liquidity(user_nm, eth_amount, usdc_amount, eth_amount, usdc_amount)\n",
    "\n",
    "print('***\\nInitial LP\\n***')\n",
    "lp.summary()\n",
    "\n",
    "s_in = 100\n",
    "alpha = 0.5\n",
    "s_out = Swap().apply(lp, eth, user_nm, alpha*s_in)\n",
    "\n",
    "print('***\\nLP post step 1\\n***')\n",
    "lp.summary()\n",
    "    \n",
    "balance0 = alpha*s_in\n",
    "balance1 = lp.quote(balance0, lp.reserve0, lp.reserve1)\n",
    "lp.add_liquidity(user_nm, balance0, balance1, balance0, balance1) \n",
    "\n",
    "print('***\\nLP post step 2\\n***')\n",
    "lp.summary() \n",
    "\n",
    "\n",
    "print('Given {} initial ETH:'.format(s_in))\n",
    "print('  (step 1) {} ETH must first get swapped for {} '.format(alpha*s_in, s_out))\n",
    "print('  (step 2) The received TKN gets deposited along with the remaining {} ETH'.format(balance0))\n",
    "\n",
    "print('\\nTotal deposited is {:.6f} + {:.6f} = {:.6f} ETH:'.format(alpha*s_in,  balance0, alpha*s_in + balance0))\n",
    "print('However, we have {} unaccounted USDC which need to be considered when using a 50/50 split'.format(colored(str(usdc_amount-lp.reserve1), 'red', attrs=['bold'])))"
   ]
  },
  {
   "cell_type": "markdown",
   "id": "e907be0a-c905-4a90-9553-4dc5ba12ea7d",
   "metadata": {},
   "source": [
    "### Let's now address this problem ..."
   ]
  },
  {
   "cell_type": "code",
   "execution_count": 21,
   "id": "76d9edf2-fab8-47a5-8ad4-57ae6791070f",
   "metadata": {},
   "outputs": [],
   "source": [
    "usdc = ERC20(\"TKN\", \"0x111\")\n",
    "eth = ERC20(\"ETH\", \"0x09\")\n",
    "exchg_data = UniswapExchangeData(tkn0 = eth, tkn1 = usdc, symbol=\"LP\", address=\"0x011\")\n",
    "\n",
    "factory = UniswapFactory(\"ETH pool factory\", \"0x2\")\n",
    "lp = factory.deploy(exchg_data)\n",
    "lp.add_liquidity(user_nm, eth_amount, usdc_amount, eth_amount, usdc_amount)\n",
    "\n",
    "s_in = 100\n",
    "alpha = 0.5\n",
    "y = lp.reserve1\n",
    "x = lp.reserve0"
   ]
  },
  {
   "cell_type": "markdown",
   "id": "59dfa98f-ca16-4881-8aed-94bd087c17a2",
   "metadata": {},
   "source": [
    "#### Plug above into equation (1), and see how many TKN we get when 50% of ETH is swapped in for step (1)"
   ]
  },
  {
   "cell_type": "code",
   "execution_count": 22,
   "id": "e85a8f4d-fe91-4f08-b4d5-7a47f9c7b4ec",
   "metadata": {},
   "outputs": [
    {
     "name": "stdout",
     "output_type": "stream",
     "text": [
      "For 100 ETH, we get 49850.00 TKN with a 50% portion\n"
     ]
    }
   ],
   "source": [
    "s_out = (997*alpha*s_in*y)/(1000*x + 997*alpha*s_in)\n",
    "print('For {} ETH, we get {:.2f} TKN with a 50% portion'.format(s_in, s_out))"
   ]
  },
  {
   "cell_type": "markdown",
   "id": "82577435-f59e-4212-ba04-fe60475b1b3d",
   "metadata": {},
   "source": [
    "#### Now, lets check how many ETH gets SwapDeposited in when 50% of ETH is swapped in for step (1)"
   ]
  },
  {
   "cell_type": "code",
   "execution_count": 23,
   "id": "b91829c3-6c2d-4bab-9a8f-00e8d9417f4d",
   "metadata": {},
   "outputs": [
    {
     "name": "stdout",
     "output_type": "stream",
     "text": [
      "Instead of 100 ETH, we get 99.85 ETH under a 50% portion\n"
     ]
    }
   ],
   "source": [
    "a1_out = alpha*s_in + s_out*(x + alpha*s_in)/(y - s_out)\n",
    "print('Instead of {} ETH, we get {:.2f} ETH under a 50% portion'.format(s_in, a1_out))"
   ]
  },
  {
   "cell_type": "markdown",
   "id": "5660c788-ba06-40c7-8d67-a9e51b3b50a1",
   "metadata": {},
   "source": [
    "We can see that there is an imbalance in the system under a 50% distribution for step (1); \n",
    "* we need to solve the system above for $\\alpha$ to get the proper distribution\n",
    "* plug (1) into (2) and we get:\n",
    "\n",
    "$\\Delta x = \\alpha\\Delta x + \\left(\\frac{997 y\\alpha\\Delta x}{1000x + 997\\alpha\\Delta x} \\right) \\left(\\frac{ x + \\alpha\\Delta x}{y - \\frac{997 y \\alpha \\Delta x}{1000x + 997\\alpha\\Delta x}} \\right)$\n",
    "\n",
    "reduces to: \n",
    "\n",
    "$\\alpha^2 \\frac{997 \\Delta x^2}{1000x} + \\alpha\\frac{1997\\Delta x}{1000} - \\Delta x = 0$\n",
    "\n",
    "#### Now, solve for $\\alpha$, and we can calculate the correct distribution using ```calc_deposit_dist``` "
   ]
  },
  {
   "cell_type": "code",
   "execution_count": 24,
   "id": "c6787841-d624-4812-9235-473a48eaefbe",
   "metadata": {},
   "outputs": [],
   "source": [
    "def calc_deposit_portion(lp, token_in, dx):\n",
    "\n",
    "    tokens = lp.factory.token_from_exchange[lp.name]\n",
    "    if(token_in.token_name == lp.token0):\n",
    "        tkn_supply = lp.get_reserve(tokens[lp.token0])\n",
    "    else:    \n",
    "        tkn_supply = lp.get_reserve(tokens[lp.token1])\n",
    "            \n",
    "    a = 997*(dx**2)/(1000*tkn_supply)\n",
    "    b = dx*(1997/1000)\n",
    "    c = -dx\n",
    "\n",
    "    alpha = -(b - np.sqrt(b*b - 4*a*c)) / (2*a)\n",
    "    return alpha "
   ]
  },
  {
   "cell_type": "code",
   "execution_count": 25,
   "id": "1700980e-2da6-411e-9957-852408b28fc9",
   "metadata": {},
   "outputs": [
    {
     "name": "stdout",
     "output_type": "stream",
     "text": [
      "The correct swap distrbution (for step 1) is 0.4888217399419355\n"
     ]
    }
   ],
   "source": [
    "alpha = calc_deposit_portion(lp, eth, s_in)\n",
    "print('The correct swap distrbution (for step 1) is {}'.format(alpha))"
   ]
  },
  {
   "cell_type": "markdown",
   "id": "d4bed8c5-4ebd-400c-94d4-4c2011512b02",
   "metadata": {},
   "source": [
    "#### Now, check against our reduced quadratic, and we should expect to get 0"
   ]
  },
  {
   "cell_type": "code",
   "execution_count": 26,
   "id": "9f7863c9-c13c-44f0-914e-a45e382c4978",
   "metadata": {},
   "outputs": [
    {
     "data": {
      "text/plain": [
       "-2.382298533595474"
      ]
     },
     "execution_count": 26,
     "metadata": {},
     "output_type": "execute_result"
    }
   ],
   "source": [
    "997*(alpha**2)*(s_in**2)/(1000*x) + alpha*s_in*(1997/1000) - s_in"
   ]
  },
  {
   "cell_type": "markdown",
   "id": "4a4894df-cded-406e-864d-f027de99e8b7",
   "metadata": {},
   "source": [
    "#### Finally, lets run through the steps to a ```SwapDeposit``` and compare above"
   ]
  },
  {
   "cell_type": "code",
   "execution_count": 27,
   "id": "7b53ea0a-85f5-4425-b0ec-1b4486ce2bbc",
   "metadata": {},
   "outputs": [
    {
     "data": {
      "text/plain": [
       "49850.0"
      ]
     },
     "execution_count": 27,
     "metadata": {},
     "output_type": "execute_result"
    }
   ],
   "source": [
    "s_out"
   ]
  },
  {
   "cell_type": "code",
   "execution_count": 28,
   "id": "2f5ae806-62c2-43d7-9d08-220eb0864312",
   "metadata": {},
   "outputs": [
    {
     "data": {
      "text/plain": [
       "50.0"
      ]
     },
     "execution_count": 28,
     "metadata": {},
     "output_type": "execute_result"
    }
   ],
   "source": [
    "balance0"
   ]
  },
  {
   "cell_type": "code",
   "execution_count": 29,
   "id": "69614f0f-6d0e-49b9-bfa6-1172e0b8de75",
   "metadata": {},
   "outputs": [
    {
     "data": {
      "text/plain": [
       "48.88217399419355"
      ]
     },
     "execution_count": 29,
     "metadata": {},
     "output_type": "execute_result"
    }
   ],
   "source": [
    "alpha*s_in "
   ]
  },
  {
   "cell_type": "code",
   "execution_count": 30,
   "id": "2a11a7b9-5c39-449c-9c9a-03946d899ea6",
   "metadata": {},
   "outputs": [
    {
     "data": {
      "text/plain": [
       "51.11782600580645"
      ]
     },
     "execution_count": 30,
     "metadata": {},
     "output_type": "execute_result"
    }
   ],
   "source": [
    "s_in-alpha*s_in "
   ]
  },
  {
   "cell_type": "code",
   "execution_count": 31,
   "id": "682b222a-85b2-4249-8ad0-81afa9efc5ac",
   "metadata": {},
   "outputs": [
    {
     "name": "stdout",
     "output_type": "stream",
     "text": [
      "***\n",
      "Initial LP\n",
      "***\n",
      "Exchange ETH-USDC (LP)\n",
      "Reserves: ETH = 1000.0, USDC = 1000000.0\n",
      "Liquidity: 31622.776601683792 \n",
      "\n",
      "***\n",
      "LP post step 1\n",
      "***\n",
      "Exchange ETH-USDC (LP)\n",
      "Reserves: ETH = 1048.8821739941936, USDC = 953529.2490856305\n",
      "Liquidity: 31622.776601683792 \n",
      "\n",
      "***\n",
      "LP post step 2\n",
      "***\n",
      "Exchange ETH-USDC (LP)\n",
      "Reserves: ETH = 1100.0, USDC = 1000000.0\n",
      "Liquidity: 33163.92929950274 \n",
      "\n",
      "Given 100 initial ETH:\n",
      "  (step 1) 48.88217399419355 ETH must first get swapped for 46470.75091436945 USDC\n",
      "  (step 2) The received USDC gets deposited along with the remaining 51.11782600580645 ETH\n",
      "\n",
      "Total deposited is 48.882174 + 51.117826 = 100.000000 ETH:\n"
     ]
    }
   ],
   "source": [
    "usdc = ERC20(\"USDC\", \"0x111\")\n",
    "eth = ERC20(\"ETH\", \"0x09\")\n",
    "exchg_data = UniswapExchangeData(tkn0 = eth, tkn1 = usdc, symbol=\"LP\", address=\"0x011\")\n",
    "\n",
    "factory = UniswapFactory(\"ETH pool factory\", \"0x2\")\n",
    "lp = factory.deploy(exchg_data)\n",
    "lp.add_liquidity(user_nm, eth_amount, usdc_amount, eth_amount, usdc_amount)\n",
    "\n",
    "print('***\\nInitial LP\\n***')\n",
    "lp.summary()\n",
    "\n",
    "s_in = 100\n",
    "alpha = calc_deposit_portion(lp, eth, s_in)\n",
    "s_out = Swap().apply(lp, eth, user_nm, alpha*s_in)\n",
    "\n",
    "print('***\\nLP post step 1\\n***')\n",
    "lp.summary()\n",
    "    \n",
    "balance1 = s_out\n",
    "#balance0 = lp.quote(s_out, lp.reserve1, lp.reserve0)\n",
    "balance0 = s_in-alpha*s_in \n",
    "lp.add_liquidity(user_nm, balance0, balance1, balance0, balance1) \n",
    "\n",
    "print('***\\nLP post step 2\\n***')\n",
    "lp.summary() \n",
    "\n",
    "\n",
    "print('Given {} initial ETH:'.format(s_in))\n",
    "print('  (step 1) {} ETH must first get swapped for {} USDC'.format(alpha*s_in, s_out))\n",
    "print('  (step 2) The received USDC gets deposited along with the remaining {} ETH'.format(balance0))\n",
    "\n",
    "print('\\nTotal deposited is {:.6f} + {:.6f} = {:.6f} ETH:'.format(alpha*s_in,  balance0, alpha*s_in + balance0))"
   ]
  },
  {
   "cell_type": "markdown",
   "id": "70b7cace-2da1-48aa-8cb3-2e40bda047e1",
   "metadata": {},
   "source": [
    "#### Finally, let's check when our solution is integrated into ```SwapDeposit```"
   ]
  },
  {
   "cell_type": "code",
   "execution_count": 32,
   "id": "be62b0b4-6f46-4deb-8a68-0a96aad777f5",
   "metadata": {},
   "outputs": [
    {
     "name": "stdout",
     "output_type": "stream",
     "text": [
      "Exchange ETH-USDC (LP)\n",
      "Reserves: ETH = 1000.0, USDC = 1000000.0\n",
      "Liquidity: 31622.776601683792 \n",
      "\n",
      "Exchange ETH-USDC (LP)\n",
      "Reserves: ETH = 1100.0, USDC = 1000000.0\n",
      "Liquidity: 33163.92929950274 \n",
      "\n"
     ]
    }
   ],
   "source": [
    "usdc = ERC20(\"USDC\", \"0x111\")\n",
    "eth = ERC20(\"ETH\", \"0x09\")\n",
    "exchg_data = UniswapExchangeData(tkn0 = eth, tkn1 = usdc, symbol=\"LP\", address=\"0x011\")\n",
    "\n",
    "factory = UniswapFactory(\"ETH pool factory\", \"0x2\")\n",
    "lp = factory.deploy(exchg_data)\n",
    "lp.add_liquidity(user_nm, eth_amount, usdc_amount, eth_amount, usdc_amount)\n",
    "lp.summary()\n",
    "\n",
    "s_in = 100\n",
    "dep = SwapDeposit().apply(lp, eth, user_nm, s_in)\n",
    "lp.summary()"
   ]
  }
 ],
 "metadata": {
  "kernelspec": {
   "display_name": "py3",
   "language": "python",
   "name": "py3"
  },
  "language_info": {
   "codemirror_mode": {
    "name": "ipython",
    "version": 3
   },
   "file_extension": ".py",
   "mimetype": "text/x-python",
   "name": "python",
   "nbconvert_exporter": "python",
   "pygments_lexer": "ipython3",
   "version": "3.10.0rc2"
  }
 },
 "nbformat": 4,
 "nbformat_minor": 5
}
