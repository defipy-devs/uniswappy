{
 "cells": [
  {
   "cell_type": "code",
   "execution_count": 21,
   "id": "11728e57-19e3-4612-8d0c-7aefef793c2a",
   "metadata": {},
   "outputs": [
    {
     "data": {
      "text/plain": [
       "66000"
      ]
     },
     "execution_count": 21,
     "metadata": {},
     "output_type": "execute_result"
    }
   ],
   "source": [
    "lwr_tick"
   ]
  },
  {
   "cell_type": "code",
   "execution_count": 20,
   "id": "7533a600-9e5a-4342-b61e-06d8eeda2f39",
   "metadata": {},
   "outputs": [
    {
     "data": {
      "text/plain": [
       "86040"
      ]
     },
     "execution_count": 20,
     "metadata": {},
     "output_type": "execute_result"
    }
   ],
   "source": [
    "upr_tick"
   ]
  },
  {
   "cell_type": "code",
   "execution_count": 19,
   "id": "9cd4cd2b-b892-4a5e-bf90-c3bb9c726339",
   "metadata": {},
   "outputs": [
    {
     "name": "stdout",
     "output_type": "stream",
     "text": [
      "Exchange ETH-TKN (LP)\n",
      "Real Reserves:   ETH = 99.99999999999999, TKN = 199779.47475604186\n",
      "Gross Liquidity: 11342.603725825951 \n",
      "\n"
     ]
    }
   ],
   "source": [
    "from defipy import *\n",
    "user_nm = 'user0'\n",
    "eth_amount = 100.0\n",
    "tkn_amount = 200000.0\n",
    "\n",
    "fee = UniV3Utils.FeeAmount.MEDIUM\n",
    "tick_spacing = UniV3Utils.TICK_SPACINGS[fee]\n",
    "\n",
    "eth = ERC20(\"ETH\", \"0x09\")\n",
    "tkn = ERC20(\"TKN\", \"0x111\")\n",
    "\n",
    "exchg_data = UniswapExchangeData(tkn0 = eth, tkn1 = tkn, symbol=\"LP\",\n",
    "                                   address=\"0x011\", version = 'V3',\n",
    "                                   tick_spacing = tick_spacing,\n",
    "                                   fee = fee)\n",
    "\n",
    "init_p = tkn_amount/eth_amount\n",
    "lwr_tick = UniV3Helper().get_price_tick(lp, -1, init_p, 10000)\n",
    "upr_tick = UniV3Helper().get_price_tick(lp, 1, init_p, 10000)\n",
    "\n",
    "factory = UniswapFactory(\"ETH pool factory\", \"0x2\")\n",
    "lp = factory.deploy(exchg_data)\n",
    "\n",
    "Join().apply(lp, user_nm, eth_amount, tkn_amount, lwr_tick, upr_tick)\n",
    "lp.summary()"
   ]
  }
 ],
 "metadata": {
  "kernelspec": {
   "display_name": "Python 3 (ipykernel)",
   "language": "python",
   "name": "python3"
  },
  "language_info": {
   "codemirror_mode": {
    "name": "ipython",
    "version": 3
   },
   "file_extension": ".py",
   "mimetype": "text/x-python",
   "name": "python",
   "nbconvert_exporter": "python",
   "pygments_lexer": "ipython3",
   "version": "3.10.0rc2"
  }
 },
 "nbformat": 4,
 "nbformat_minor": 5
}
