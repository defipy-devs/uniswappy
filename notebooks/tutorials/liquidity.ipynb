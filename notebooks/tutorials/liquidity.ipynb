{
 "cells": [
  {
   "cell_type": "markdown",
   "id": "1810cab6-3b3c-4c72-94da-a66ab8e42bb8",
   "metadata": {},
   "source": [
    "## Adding / Removing Liquidity"
   ]
  },
  {
   "cell_type": "code",
   "execution_count": 1,
   "id": "1e790717-d489-461d-bd90-3f154dcad138",
   "metadata": {},
   "outputs": [],
   "source": [
    "import os\n",
    "import copy\n",
    "import numpy as np\n",
    "import pandas as pd\n",
    "import time\n",
    "import datetime\n",
    "import math\n",
    "import matplotlib.pyplot as plt"
   ]
  },
  {
   "cell_type": "code",
   "execution_count": 2,
   "id": "9e1efcbc-f52d-4c8a-a4e1-9d2b40680a15",
   "metadata": {},
   "outputs": [],
   "source": [
    "from uniswappy import *"
   ]
  },
  {
   "cell_type": "code",
   "execution_count": 3,
   "id": "26c71fd0-d596-4254-befc-c08df6bcf9a5",
   "metadata": {},
   "outputs": [],
   "source": [
    "user_nm = 'user0'\n",
    "eth_amount = 1000\n",
    "tkn_amount = 100000"
   ]
  },
  {
   "cell_type": "markdown",
   "id": "0d1f8e7c-4cd8-4425-8045-42f3eaa03ce9",
   "metadata": {},
   "source": [
    "**AddLiquidity()**: add LP based on eth "
   ]
  },
  {
   "cell_type": "code",
   "execution_count": 4,
   "id": "2fd42006-249a-4ef2-a986-dde545e5aee3",
   "metadata": {},
   "outputs": [
    {
     "name": "stdout",
     "output_type": "stream",
     "text": [
      "Exchange ETH-TKN (LP)\n",
      "Reserves: ETH = 1000.0, TKN = 100000.0\n",
      "Liquidity: 10000.0 \n",
      "\n",
      "Exchange ETH-TKN (LP)\n",
      "Reserves: ETH = 1010.0, TKN = 101000.0\n",
      "Liquidity: 10100.0 \n",
      "\n"
     ]
    },
    {
     "data": {
      "text/plain": [
       "1010000000000000000000"
      ]
     },
     "execution_count": 4,
     "metadata": {},
     "output_type": "execute_result"
    }
   ],
   "source": [
    "tkn = ERC20(\"TKN\", \"0x111\")\n",
    "eth = ERC20(\"ETH\", \"0x09\")\n",
    "exchg_data = UniswapExchangeData(tkn0 = eth, tkn1 = tkn, symbol=\"LP\", address=\"0x011\")\n",
    "\n",
    "factory = UniswapFactory(\"ETH pool factory\", \"0x2\")\n",
    "lp = factory.deploy(exchg_data)\n",
    "lp.add_liquidity(user_nm, eth_amount, tkn_amount, eth_amount, tkn_amount)\n",
    "lp.summary()\n",
    "\n",
    "liq = AddLiquidity().apply(lp, eth, user_nm, 10)\n",
    "lp.summary()\n",
    "\n",
    "lp.reserve0"
   ]
  },
  {
   "cell_type": "markdown",
   "id": "00770ce4-f309-4b66-89d0-a87e265ffa3d",
   "metadata": {},
   "source": [
    "**AddLiquidity()**: add LP based on tkn "
   ]
  },
  {
   "cell_type": "code",
   "execution_count": 5,
   "id": "98276d82-c205-4da5-bec4-99762dea129d",
   "metadata": {},
   "outputs": [
    {
     "name": "stdout",
     "output_type": "stream",
     "text": [
      "Exchange ETH-TKN (LP)\n",
      "Reserves: ETH = 1000.0, TKN = 100000.0\n",
      "Liquidity: 10000.0 \n",
      "\n",
      "Exchange ETH-TKN (LP)\n",
      "Reserves: ETH = 1000.0, TKN = 100000.0\n",
      "Liquidity: 9992.54738063394 \n",
      "\n"
     ]
    }
   ],
   "source": [
    "tkn = ERC20(\"TKN\", \"0x111\")\n",
    "eth = ERC20(\"ETH\", \"0x09\")\n",
    "exchg_data = UniswapExchangeData(tkn0 = eth, tkn1 = tkn, symbol=\"LP\", address=\"0x011\")\n",
    "\n",
    "factory = UniswapFactory(\"ETH pool factory\", \"0x2\")\n",
    "lp = factory.deploy(exchg_data)\n",
    "lp.add_liquidity(user_nm, eth_amount, tkn_amount, eth_amount, tkn_amount)\n",
    "lp.summary()\n",
    "\n",
    "liq_tot = 0\n",
    "N = 50\n",
    "for k in range(0,N):\n",
    "    dep = SwapDeposit().apply(lp, eth, user_nm, 10)\n",
    "    WithdrawSwap().apply(lp, eth, user_nm, 10) \n",
    "      \n",
    "lp.summary()"
   ]
  },
  {
   "cell_type": "markdown",
   "id": "0213077b-5715-4c8a-aa2d-b3a6c99ae6ac",
   "metadata": {},
   "source": [
    "**RemoveLiquidity()**: remove LP based on eth "
   ]
  },
  {
   "cell_type": "code",
   "execution_count": 6,
   "id": "f8ad7e1c-9e42-4e88-baed-975e1a09a8e6",
   "metadata": {},
   "outputs": [
    {
     "name": "stdout",
     "output_type": "stream",
     "text": [
      "Exchange ETH-TKN (LP)\n",
      "Reserves: ETH = 1000.0, TKN = 100000.0\n",
      "Liquidity: 10000.0 \n",
      "\n",
      "Exchange ETH-TKN (LP)\n",
      "Reserves: ETH = 990.0, TKN = 99000.0\n",
      "Liquidity: 9900.0 \n",
      "\n"
     ]
    }
   ],
   "source": [
    "tkn = ERC20(\"TKN\", \"0x111\")\n",
    "eth = ERC20(\"ETH\", \"0x09\")\n",
    "exchg_data = UniswapExchangeData(tkn0 = eth, tkn1 = tkn, symbol=\"LP\", address=\"0x011\")\n",
    "\n",
    "factory = UniswapFactory(\"ETH pool factory\", \"0x2\")\n",
    "lp = factory.deploy(exchg_data)\n",
    "lp.add_liquidity(user_nm, eth_amount, tkn_amount, eth_amount, tkn_amount)\n",
    "lp.summary()\n",
    "\n",
    "liq = RemoveLiquidity().apply(lp, eth, user_nm, 10)\n",
    "lp.summary()"
   ]
  },
  {
   "cell_type": "markdown",
   "id": "215ead0a-7cb1-46c0-9aab-67e80f7a3c1f",
   "metadata": {},
   "source": [
    "**RemoveLiquidity(tkn)**: remove LP based on eth "
   ]
  },
  {
   "cell_type": "code",
   "execution_count": 7,
   "id": "628dc800-226b-42d9-911d-50748c717f49",
   "metadata": {},
   "outputs": [
    {
     "name": "stdout",
     "output_type": "stream",
     "text": [
      "Exchange ETH-TKN (LP)\n",
      "Reserves: ETH = 1000.0, TKN = 100000.0\n",
      "Liquidity: 10000.0 \n",
      "\n"
     ]
    },
    {
     "data": {
      "text/plain": [
       "10000000000000000000000"
      ]
     },
     "execution_count": 7,
     "metadata": {},
     "output_type": "execute_result"
    }
   ],
   "source": [
    "tkn = ERC20(\"TKN\", \"0x111\")\n",
    "eth = ERC20(\"ETH\", \"0x09\")\n",
    "exchg_data = UniswapExchangeData(tkn0 = eth, tkn1 = tkn, symbol=\"LP\", address=\"0x011\")\n",
    "\n",
    "factory = UniswapFactory(\"ETH pool factory\", \"0x2\")\n",
    "lp = factory.deploy(exchg_data)\n",
    "lp.add_liquidity(user_nm, eth_amount, tkn_amount, eth_amount, tkn_amount)\n",
    "lp.summary()\n",
    "\n",
    "lp.total_supply"
   ]
  },
  {
   "cell_type": "code",
   "execution_count": 8,
   "id": "518c22d1-7c97-4b3b-bcd9-805811ddb79c",
   "metadata": {},
   "outputs": [
    {
     "name": "stdout",
     "output_type": "stream",
     "text": [
      "Exchange ETH-TKN (LP)\n",
      "Reserves: ETH = 990.0, TKN = 99000.0\n",
      "Liquidity: 9900.0 \n",
      "\n"
     ]
    },
    {
     "data": {
      "text/plain": [
       "9900000000000000000000"
      ]
     },
     "execution_count": 8,
     "metadata": {},
     "output_type": "execute_result"
    }
   ],
   "source": [
    "liq = RemoveLiquidity().apply(lp, tkn, user_nm, 1000)\n",
    "lp.summary()\n",
    "\n",
    "lp.total_supply"
   ]
  },
  {
   "cell_type": "markdown",
   "id": "4cb68aea-eaae-4581-a6b3-59cfe6dd1da7",
   "metadata": {},
   "source": [
    "**RemoveLiquidity(tkn)**: remove LP based on eth "
   ]
  },
  {
   "cell_type": "code",
   "execution_count": 9,
   "id": "3f0407b9-b7b4-4f48-a7c9-63282504fe5b",
   "metadata": {},
   "outputs": [
    {
     "name": "stdout",
     "output_type": "stream",
     "text": [
      "Exchange ETH-TKN (LP)\n",
      "Reserves: ETH = 1000.0, TKN = 100000.0\n",
      "Liquidity: 10000.0 \n",
      "\n",
      "Exchange ETH-TKN (LP)\n",
      "Reserves: ETH = 1030.0, TKN = 103000.0\n",
      "Liquidity: 10300.0 \n",
      "\n"
     ]
    }
   ],
   "source": [
    "tkn = ERC20(\"TKN\", \"0x111\")\n",
    "eth = ERC20(\"ETH\", \"0x09\")\n",
    "exchg_data = UniswapExchangeData(tkn0 = eth, tkn1 = tkn, symbol=\"LP\", address=\"0x011\")\n",
    "\n",
    "factory = UniswapFactory(\"ETH pool factory\", \"0x2\")\n",
    "lp = factory.deploy(exchg_data)\n",
    "lp.add_liquidity(user_nm, eth_amount, tkn_amount, eth_amount, tkn_amount)\n",
    "lp.summary()\n",
    "\n",
    "liq = AddLiquidity().apply(lp, tkn, user_nm, 1000)\n",
    "#liq = RemoveLiquidity().apply(lp, tkn, user_nm, 1000)\n",
    "liq = AddLiquidity().apply(lp, tkn, user_nm, 1000)\n",
    "#liq = RemoveLiquidity().apply(lp, tkn, user_nm, 1000)\n",
    "liq = AddLiquidity().apply(lp, tkn, user_nm, 1000)\n",
    "#liq = RemoveLiquidity().apply(lp, tkn, user_nm, 1000)\n",
    "lp.summary()"
   ]
  }
 ],
 "metadata": {
  "kernelspec": {
   "display_name": "Python 3 (ipykernel)",
   "language": "python",
   "name": "python3"
  },
  "language_info": {
   "codemirror_mode": {
    "name": "ipython",
    "version": 3
   },
   "file_extension": ".py",
   "mimetype": "text/x-python",
   "name": "python",
   "nbconvert_exporter": "python",
   "pygments_lexer": "ipython3",
   "version": "3.10.0rc2"
  }
 },
 "nbformat": 4,
 "nbformat_minor": 5
}
