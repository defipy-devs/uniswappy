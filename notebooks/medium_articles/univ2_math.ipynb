{
 "cells": [
  {
   "cell_type": "code",
   "execution_count": 132,
   "id": "8a723893-0919-4395-ba90-7f65927fbf7d",
   "metadata": {},
   "outputs": [],
   "source": [
    "from uniswappy import *\n",
    "import math"
   ]
  },
  {
   "cell_type": "code",
   "execution_count": 133,
   "id": "b92ea0fc-31c9-43ef-ad39-2cc48db443af",
   "metadata": {},
   "outputs": [],
   "source": [
    "user_nm = 'user_intro'\n",
    "eth_amount = 1000\n",
    "dai_amount = 1000000"
   ]
  },
  {
   "cell_type": "markdown",
   "id": "02082d2e-f39d-4648-806a-19ca219dc0ec",
   "metadata": {},
   "source": [
    "## (1) Derivation of Uni V2 swap "
   ]
  },
  {
   "cell_type": "code",
   "execution_count": 134,
   "id": "d3b26a81-999a-49bb-897f-26f295abea21",
   "metadata": {},
   "outputs": [
    {
     "name": "stdout",
     "output_type": "stream",
     "text": [
      "Exchange ETH-DAI (LP)\n",
      "Reserves: ETH = 1000.0, DAI = 1000000.0\n",
      "Liquidity: 31622.776601683792 \n",
      "\n"
     ]
    }
   ],
   "source": [
    "dai = ERC20(\"DAI\", \"0x111\")\n",
    "eth = ERC20(\"ETH\", \"0x09\")\n",
    "exchg_data = UniswapExchangeData(tkn0 = eth, tkn1 = dai, symbol=\"LP\", address=\"0x011\")\n",
    "\n",
    "factory = UniswapFactory(\"ETH pool factory\", \"0x2\")\n",
    "lp = factory.deploy(exchg_data)\n",
    "Join().apply(lp, user_nm, eth_amount, dai_amount)\n",
    "lp.summary()"
   ]
  },
  {
   "cell_type": "markdown",
   "id": "f1c65454-fab7-4ca7-8db4-fbaaa67715a4",
   "metadata": {},
   "source": [
    "Swap fee\n",
    ">   $\\gamma = 1 - 0.003 = \\frac{997}{1000}$\n",
    ">\n",
    "Swap CPT formula with fee\n",
    "> (Eq.1)  $ \\quad (x - \\Delta x)(y + \\gamma \\Delta y) = xy$\n",
    ">\n",
    "Isolate $\\Delta x$\n",
    "> (Eq.2)  $ \\quad \\Delta x = x - \\frac{xy}{y + \\gamma \\Delta y}$\n",
    ">\n",
    "Some additional algebra\n",
    "> (Eq.3) $ \\quad \\Delta x = \\frac{\\gamma x\\Delta y}{y + \\gamma \\Delta y}$"
   ]
  },
  {
   "cell_type": "markdown",
   "id": "92b419c0-bbcd-42db-bddc-d063178670fc",
   "metadata": {},
   "source": [
    "### Perform swap using dervation"
   ]
  },
  {
   "cell_type": "code",
   "execution_count": 135,
   "id": "4e32ecc2-133c-4831-bdd8-aaddcc639fd3",
   "metadata": {},
   "outputs": [
    {
     "name": "stdout",
     "output_type": "stream",
     "text": [
      "We receive 0.99601 ETH for 1000 DAI\n"
     ]
    }
   ],
   "source": [
    "dy = 1000\n",
    "gamma = 997/1000\n",
    "x = lp.get_reserve(eth)\n",
    "y = lp.get_reserve(dai)\n",
    "\n",
    "dx = (gamma*x*dy)/(y + gamma*dy)\n",
    "\n",
    "print(f'We receive {dx:.5f} ETH for {dy} DAI')"
   ]
  },
  {
   "cell_type": "markdown",
   "id": "93caf4fb-491b-4cf7-87fc-8256c3dbe72e",
   "metadata": {},
   "source": [
    "### Perform swap using uniswappy"
   ]
  },
  {
   "cell_type": "code",
   "execution_count": 136,
   "id": "0fb66b3f-a580-4024-8b6b-335855dbab26",
   "metadata": {},
   "outputs": [
    {
     "name": "stdout",
     "output_type": "stream",
     "text": [
      "Exchange ETH-DAI (LP)\n",
      "Reserves: ETH = 999.00399301896, DAI = 1001000.0\n",
      "Liquidity: 31622.776601683792 \n",
      "\n",
      "We receive 0.99601 ETH for 1000 DAI\n"
     ]
    }
   ],
   "source": [
    "out = Swap().apply(lp, dai, user_nm, dy)\n",
    "lp.summary()\n",
    "\n",
    "print(f'We receive {out:.5f} ETH for {dy} DAI')"
   ]
  },
  {
   "cell_type": "markdown",
   "id": "9ae1b299-87cf-43cd-baac-5b93136826e4",
   "metadata": {},
   "source": [
    "## (2) Derivation of Uni V2 doubled-sided withdraw "
   ]
  },
  {
   "cell_type": "code",
   "execution_count": 137,
   "id": "a60aadd6-0bdb-44d8-82b3-ab9891fb18c4",
   "metadata": {},
   "outputs": [
    {
     "name": "stdout",
     "output_type": "stream",
     "text": [
      "Exchange ETH-DAI (LP)\n",
      "Reserves: ETH = 1000.0, DAI = 1000000.0\n",
      "Liquidity: 31622.776601683792 \n",
      "\n"
     ]
    }
   ],
   "source": [
    "dai = ERC20(\"DAI\", \"0x111\")\n",
    "eth = ERC20(\"ETH\", \"0x09\")\n",
    "exchg_data = UniswapExchangeData(tkn0 = eth, tkn1 = dai, symbol=\"LP\", address=\"0x011\")\n",
    "\n",
    "factory = UniswapFactory(\"ETH pool factory\", \"0x2\")\n",
    "lp = factory.deploy(exchg_data)\n",
    "Join().apply(lp, user_nm, eth_amount, dai_amount)\n",
    "lp.summary()"
   ]
  },
  {
   "cell_type": "code",
   "execution_count": 138,
   "id": "7491af37-b603-42eb-af6a-1f8efc701dcb",
   "metadata": {},
   "outputs": [],
   "source": [
    "dx = 1\n",
    "x = lp.get_reserve(eth)\n",
    "y = lp.get_reserve(dai)\n",
    "L = lp.get_liquidity()"
   ]
  },
  {
   "cell_type": "markdown",
   "id": "8691ae6c-a61d-4712-9147-1e7e5a6abacc",
   "metadata": {},
   "source": [
    "Given CPT formula \n",
    "> $ xy = L^2 $\n",
    ">\n",
    "\n",
    "Price is determined as such\n",
    "> $P = \\frac{y}{x} = \\frac{\\Delta y}{\\Delta x}$\n",
    ">\n",
    "> \n",
    "> $P = \\frac{y}{x} = \\frac{y^2}{xy} = \\frac{y^2}{L^2}$, $\\quad P = \\frac{y}{x} = \\frac{xy}{x^2} = \\frac{L^2}{x^2}$\n",
    ">  \n",
    "\n",
    "Given P above, calculate $\\Delta x$ and $\\Delta y$ while maintaining price integrity\n",
    "\n",
    "> $\\sqrt{P} = \\frac{y}{L}$, $\\quad\\quad\\quad \\sqrt{P} = \\frac{L}{x}$\n",
    "> \n",
    "> $\\sqrt{\\frac{\\Delta y}{\\Delta x}} = \\frac{y}{L}$, $\\quad\\quad \\sqrt{\\frac{\\Delta y}{\\Delta x}} = \\frac{L}{x}$\n",
    "> \n",
    "> $\\sqrt{\\frac{\\Delta y^2}{\\Delta x \\Delta y}} = \\frac{y}{L}$, $\\quad \\sqrt{\\frac{\\Delta y \\Delta x}{\\Delta x^2}} = \\frac{L}{x}$\n",
    ">\n",
    "> $\\frac{\\Delta y}{\\Delta L} = \\frac{y}{L}$, $\\quad\\quad\\quad \\frac{\\Delta L}{\\Delta x} = \\frac{L}{x}$\n",
    ">\n",
    "> $\\Delta y = \\frac{y \\Delta L}{L}$, $\\quad\\quad \\Delta x = \\frac{x \\Delta L}{L}$\n",
    ">\n",
    "\n",
    "Take RHS of CPT formula and deduct $\\Delta x$ and $\\Delta y$ from both $x$ and $y$ to maintain integrity of the price \n",
    "> $ (x - \\Delta x)(y - \\Delta y) = (x - \\frac{x \\Delta L}{L})(y - \\frac{y \\Delta L}{L})$\n",
    ">\n",
    "> $\\quad\\quad\\quad\\quad\\quad\\quad\\quad\\quad = xy - 2xy\\frac{\\Delta L}{L} + xy\\frac{\\Delta L}{L} $\n",
    ">  \n",
    "> $\\quad\\quad\\quad\\quad\\quad\\quad\\quad\\quad = (L - \\Delta L)^2$\n",
    ">\n",
    "\n",
    "CPT withdraw formula \n",
    "> $ (x - \\Delta x)(y - \\Delta y) = (L - \\Delta L)^2 $"
   ]
  },
  {
   "cell_type": "markdown",
   "id": "d30070c8-aceb-4219-babb-410a27e935b2",
   "metadata": {},
   "source": [
    "### Perform withdraw using dervation"
   ]
  },
  {
   "cell_type": "code",
   "execution_count": 139,
   "id": "cf4e5774-485f-4d43-81b7-923a53808661",
   "metadata": {},
   "outputs": [
    {
     "name": "stdout",
     "output_type": "stream",
     "text": [
      "The updated reserves are 999.0 ETH and 999000.0 DAI, and the updated liquidity is 31591.153825\n"
     ]
    }
   ],
   "source": [
    "dL = dx*L/x\n",
    "dy = y*dL/L\n",
    "new_x = (x-dx)\n",
    "new_y = (y-dy) \n",
    "new_L = L-dL\n",
    "\n",
    "print(f'The updated reserves are {new_x} ETH and {new_y} DAI, and the updated liquidity is {new_L:8f}')"
   ]
  },
  {
   "cell_type": "markdown",
   "id": "398d0a19-46e9-40dc-8f2b-4e523a9dba34",
   "metadata": {},
   "source": [
    "### Perform withdraw using uniswappy"
   ]
  },
  {
   "cell_type": "code",
   "execution_count": 140,
   "id": "e7a0e46c-cb4a-4ad6-9ba5-c1f810f654c6",
   "metadata": {},
   "outputs": [
    {
     "name": "stdout",
     "output_type": "stream",
     "text": [
      "Exchange ETH-DAI (LP)\n",
      "Reserves: ETH = 999.0, DAI = 999000.0\n",
      "Liquidity: 31591.15382508211 \n",
      "\n"
     ]
    }
   ],
   "source": [
    "RemoveLiquidity().apply(lp, eth, user_nm, dx)\n",
    "lp.summary()"
   ]
  },
  {
   "cell_type": "markdown",
   "id": "9784b0bc-09cf-4c30-86c1-6b1a47e0ef43",
   "metadata": {},
   "source": [
    "## (2) Derivation of Uni V2 doubled-sided deposit "
   ]
  },
  {
   "cell_type": "code",
   "execution_count": 141,
   "id": "69990c7f-01b7-4cbf-a5ec-30e9ad573931",
   "metadata": {},
   "outputs": [
    {
     "name": "stdout",
     "output_type": "stream",
     "text": [
      "Exchange ETH-DAI (LP)\n",
      "Reserves: ETH = 1000.0, DAI = 1000000.0\n",
      "Liquidity: 31622.776601683792 \n",
      "\n"
     ]
    }
   ],
   "source": [
    "dai = ERC20(\"DAI\", \"0x111\")\n",
    "eth = ERC20(\"ETH\", \"0x09\")\n",
    "exchg_data = UniswapExchangeData(tkn0 = eth, tkn1 = dai, symbol=\"LP\", address=\"0x011\")\n",
    "\n",
    "factory = UniswapFactory(\"ETH pool factory\", \"0x2\")\n",
    "lp = factory.deploy(exchg_data)\n",
    "Join().apply(lp, user_nm, eth_amount, dai_amount)\n",
    "lp.summary()"
   ]
  },
  {
   "cell_type": "code",
   "execution_count": 142,
   "id": "c9db822a-c622-40d2-8a0c-c8bf8f22f497",
   "metadata": {},
   "outputs": [],
   "source": [
    "dx = 1\n",
    "x = lp.get_reserve(eth)\n",
    "y = lp.get_reserve(dai)\n",
    "L = lp.get_liquidity()"
   ]
  },
  {
   "cell_type": "markdown",
   "id": "23d385b4-fa58-4ffe-ac9f-eff6ffd40ce2",
   "metadata": {},
   "source": [
    "We know from above to maintain price integrity, $\\Delta x$ and $\\Delta y$ are determined as such\n",
    "> $\\Delta y = \\frac{y \\Delta L}{L}$, $\\quad\\quad \\Delta x = \\frac{x \\Delta L}{L}$\n",
    ">\n",
    "Take RHS of CPT formula and add $\\Delta x$ and $\\Delta y$ to both $x$ and $y$ to maintain integrity of the price \n",
    "> $ (x + \\Delta x)(y + \\Delta y) = (x + \\frac{x \\Delta L}{L})(y + \\frac{y \\Delta L}{L})$\n",
    ">\n",
    "\n",
    "Perform algebra simular to above and we get the CPT deposit formula \n",
    "> $ (x + \\Delta x)(y + \\Delta y) = (L + \\Delta L)^2 $"
   ]
  },
  {
   "cell_type": "markdown",
   "id": "e85805a7-752c-4e3c-8859-48e55d505f61",
   "metadata": {},
   "source": [
    "### Perform deposit using dervation"
   ]
  },
  {
   "cell_type": "code",
   "execution_count": 143,
   "id": "baba4312-9417-46d1-a9ff-b92f2144437b",
   "metadata": {},
   "outputs": [
    {
     "name": "stdout",
     "output_type": "stream",
     "text": [
      "The updated reserves are 1001.0 ETH and 1001000.0 DAI, and the updated liquidity is 31654.399378\n"
     ]
    }
   ],
   "source": [
    "dL = dx*L/x\n",
    "dy = y*dL/L\n",
    "new_x = (x+dx)\n",
    "new_y = (y+dy) \n",
    "new_L = L+dL\n",
    "\n",
    "print(f'The updated reserves are {new_x} ETH and {new_y} DAI, and the updated liquidity is {new_L:8f}')"
   ]
  },
  {
   "cell_type": "markdown",
   "id": "06cc6c79-0974-4dba-bfdc-07b48de78528",
   "metadata": {},
   "source": [
    "### Perform deposit using uniswappy"
   ]
  },
  {
   "cell_type": "code",
   "execution_count": 144,
   "id": "84925a0c-f8c5-4e01-97e3-e611e2879ba4",
   "metadata": {},
   "outputs": [
    {
     "name": "stdout",
     "output_type": "stream",
     "text": [
      "Exchange ETH-DAI (LP)\n",
      "Reserves: ETH = 1001.0, DAI = 1001000.0\n",
      "Liquidity: 31654.399378285478 \n",
      "\n"
     ]
    }
   ],
   "source": [
    "AddLiquidity().apply(lp, eth, user_nm, dx)\n",
    "lp.summary()"
   ]
  }
 ],
 "metadata": {
  "kernelspec": {
   "display_name": "Python 3 (ipykernel)",
   "language": "python",
   "name": "python3"
  },
  "language_info": {
   "codemirror_mode": {
    "name": "ipython",
    "version": 3
   },
   "file_extension": ".py",
   "mimetype": "text/x-python",
   "name": "python",
   "nbconvert_exporter": "python",
   "pygments_lexer": "ipython3",
   "version": "3.10.0rc2"
  }
 },
 "nbformat": 4,
 "nbformat_minor": 5
}
