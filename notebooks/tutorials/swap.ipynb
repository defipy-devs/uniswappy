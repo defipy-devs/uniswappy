{
 "cells": [
  {
   "cell_type": "markdown",
   "id": "075b7dc2-ad4e-4ecd-85c7-3cb9e228eac5",
   "metadata": {},
   "source": [
    "## Swap() abstraction"
   ]
  },
  {
   "cell_type": "code",
   "execution_count": 1,
   "id": "606231ed-0cd6-4e16-8cb1-fdb006d45c78",
   "metadata": {},
   "outputs": [],
   "source": [
    "import os\n",
    "import copy\n",
    "import numpy as np\n",
    "import pandas as pd\n",
    "import time\n",
    "import datetime\n",
    "import math\n",
    "import matplotlib.pyplot as plt"
   ]
  },
  {
   "cell_type": "code",
   "execution_count": 2,
   "id": "e7af61ea-c200-47a0-9966-413844057de7",
   "metadata": {},
   "outputs": [],
   "source": [
    "from uniswappy import *"
   ]
  },
  {
   "cell_type": "code",
   "execution_count": 3,
   "id": "b184fd54-c4ed-4989-a8ec-9624937e70d2",
   "metadata": {},
   "outputs": [],
   "source": [
    "user_nm = 'user0'\n",
    "eth_amount = 1000\n",
    "tkn_amount = 100000"
   ]
  },
  {
   "cell_type": "markdown",
   "id": "e9b294af-bdc8-4b37-bdac-7d792245a98d",
   "metadata": {},
   "source": [
    "**swap(tkn):** swap tkn for eth"
   ]
  },
  {
   "cell_type": "code",
   "execution_count": 4,
   "id": "f63d8e75-81ca-457c-a594-7c824d8879af",
   "metadata": {},
   "outputs": [
    {
     "name": "stdout",
     "output_type": "stream",
     "text": [
      "Exchange ETH-TKN (LP)\n",
      "Reserves: ETH = 1000.0, TKN = 100000.0\n",
      "Liquidity: 10000.0 \n",
      "\n",
      "Exchange ETH-TKN (LP)\n",
      "Reserves: ETH = 1001.0, TKN = 99900.399301896\n",
      "Liquidity: 10000.0 \n",
      "\n",
      "0.997997\n"
     ]
    }
   ],
   "source": [
    "tkn = ERC20(\"TKN\", \"0x111\")\n",
    "eth = ERC20(\"ETH\", \"0x09\")\n",
    "exchg_data = UniswapExchangeData(tkn0 = eth, tkn1 = tkn, symbol=\"LP\", address=\"0x011\")\n",
    "\n",
    "factory = UniswapFactory(\"ETH pool factory\", \"0x2\")\n",
    "lp = factory.deploy(exchg_data)\n",
    "lp.add_liquidity(user_nm, eth_amount, tkn_amount, eth_amount, tkn_amount)\n",
    "lp.summary()\n",
    "\n",
    "out = Swap().apply(lp, eth, user_nm, 1)\n",
    "lp.summary()\n",
    "\n",
    "print((out * lp.reserve0) / lp.reserve1)"
   ]
  },
  {
   "cell_type": "code",
   "execution_count": 5,
   "id": "f808ce37-83f5-4edd-a888-01c82c19480a",
   "metadata": {},
   "outputs": [
    {
     "name": "stdout",
     "output_type": "stream",
     "text": [
      "Exchange ETH-TKN (LP)\n",
      "Reserves: ETH = 1000.0, TKN = 100000.0\n",
      "Liquidity: 10000.0 \n",
      "\n",
      "Exchange ETH-TKN (LP)\n",
      "Reserves: ETH = 1010.0, TKN = 99012.84196560294\n",
      "Liquidity: 10000.0 \n",
      "\n"
     ]
    },
    {
     "data": {
      "text/plain": [
       "987.1580343970613"
      ]
     },
     "execution_count": 5,
     "metadata": {},
     "output_type": "execute_result"
    }
   ],
   "source": [
    "tkn = ERC20(\"TKN\", \"0x111\")\n",
    "eth = ERC20(\"ETH\", \"0x09\")\n",
    "exchg_data = UniswapExchangeData(tkn0 = eth, tkn1 = tkn, symbol=\"LP\", address=\"0x011\")\n",
    "\n",
    "factory = UniswapFactory(\"ETH pool factory\", \"0x2\")\n",
    "lp = factory.deploy(exchg_data)\n",
    "lp.add_liquidity(user_nm, eth_amount, tkn_amount, eth_amount, tkn_amount)\n",
    "lp.summary()\n",
    "\n",
    "out = Swap().apply(lp, eth, user_nm, 10)\n",
    "lp.summary()\n",
    "\n",
    "out"
   ]
  }
 ],
 "metadata": {
  "kernelspec": {
   "display_name": "py3",
   "language": "python",
   "name": "py3"
  },
  "language_info": {
   "codemirror_mode": {
    "name": "ipython",
    "version": 3
   },
   "file_extension": ".py",
   "mimetype": "text/x-python",
   "name": "python",
   "nbconvert_exporter": "python",
   "pygments_lexer": "ipython3",
   "version": "3.10.0rc2"
  }
 },
 "nbformat": 4,
 "nbformat_minor": 5
}
