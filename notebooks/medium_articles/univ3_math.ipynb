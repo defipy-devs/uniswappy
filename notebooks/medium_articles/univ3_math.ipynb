{
 "cells": [
  {
   "cell_type": "markdown",
   "id": "f4ea8192-c213-4b1d-ad5b-af53b14f3deb",
   "metadata": {},
   "source": [
    "# Uniswap V3 Math Tutorial\n",
    "\n",
    "In this tutorial, we review the following:\n",
    "* Swap\n",
    "* Double-sided withdraw\n",
    "* Double-sided deposit"
   ]
  },
  {
   "cell_type": "code",
   "execution_count": 634,
   "id": "8a723893-0919-4395-ba90-7f65927fbf7d",
   "metadata": {},
   "outputs": [],
   "source": [
    "from uniswappy import *\n",
    "import numpy as np\n",
    "import matplotlib.pyplot as plt\n",
    "import math"
   ]
  },
  {
   "cell_type": "code",
   "execution_count": 635,
   "id": "aa0ea999-3c55-4ba6-96be-e7f5521ed1a7",
   "metadata": {},
   "outputs": [],
   "source": [
    "user_nm = 'user_intro'\n",
    "eth_amount = 1000\n",
    "dai_amount = 1000000\n",
    "fee = UniV3Utils.FeeAmount.MEDIUM\n",
    "tick_spacing = UniV3Utils.TICK_SPACINGS[fee]\n",
    "lwr_tick = UniV3Utils.getMinTick(tick_spacing)\n",
    "upr_tick = UniV3Utils.getMaxTick(tick_spacing)"
   ]
  },
  {
   "cell_type": "markdown",
   "id": "02082d2e-f39d-4648-806a-19ca219dc0ec",
   "metadata": {},
   "source": [
    "## (1a) Swap: dy -> dx "
   ]
  },
  {
   "cell_type": "code",
   "execution_count": 636,
   "id": "d3b26a81-999a-49bb-897f-26f295abea21",
   "metadata": {},
   "outputs": [
    {
     "name": "stdout",
     "output_type": "stream",
     "text": [
      "Exchange ETH-TKN (LP)\n",
      "Real Reserves:   ETH = 1000.0000000000001, TKN = 1000000.0000000001\n",
      "Gross Liquidity: 31622.776601683796 \n",
      "\n"
     ]
    }
   ],
   "source": [
    "eth = ERC20(\"ETH\", \"0x09\")\n",
    "dai = ERC20(\"TKN\", \"0x111\")\n",
    "\n",
    "exchg_data = UniswapExchangeData(tkn0 = eth, tkn1 = dai, symbol=\"LP\", \n",
    "                                   address=\"0x011\", version = 'V3', \n",
    "                                   tick_spacing = tick_spacing, \n",
    "                                   fee = fee)\n",
    "\n",
    "factory = UniswapFactory(\"ETH pool factory\", \"0x2\")\n",
    "lp = factory.deploy(exchg_data)\n",
    "\n",
    "Join().apply(lp, user_nm, eth_amount, dai_amount, lwr_tick, upr_tick)\n",
    "lp.summary()"
   ]
  },
  {
   "cell_type": "markdown",
   "id": "40c3f9bd-1cf7-4d4e-81cb-c6876dbc7043",
   "metadata": {},
   "source": [
    "Calculate $\\Delta x$\n",
    "\n",
    "$\\quad\\quad \\Delta x = L (\\frac{1}{\\sqrt{P}} - \\frac{1}{\\sqrt{P_{next}}})$\n",
    "\n",
    "where\n",
    "\n",
    "$\\quad\\quad \\sqrt{P_{next}}  = \\sqrt{P} + \\frac{997 \\Delta y}{1000 L}$"
   ]
  },
  {
   "cell_type": "markdown",
   "id": "92b419c0-bbcd-42db-bddc-d063178670fc",
   "metadata": {},
   "source": [
    "### Perform dy -> dx swap using dervation"
   ]
  },
  {
   "cell_type": "code",
   "execution_count": 637,
   "id": "4e32ecc2-133c-4831-bdd8-aaddcc639fd3",
   "metadata": {},
   "outputs": [
    {
     "name": "stdout",
     "output_type": "stream",
     "text": [
      "We receive 0.99601 ETH for 1000 DAI\n"
     ]
    }
   ],
   "source": [
    "dy = 1000\n",
    "\n",
    "Q96 = 2**96\n",
    "sqrtp_cur = lp.slot0.sqrtPriceX96/Q96 # convert from Q96 to human\n",
    "\n",
    "gamma = 997/1000 \n",
    "x = lp.get_reserve(eth)\n",
    "y = lp.get_reserve(dai)\n",
    "L = lp.get_liquidity()\n",
    "\n",
    "sqrtp_next = sqrtp_cur + (gamma*dy) / (L)\n",
    "dx = L * (1/sqrtp_cur - 1/sqrtp_next) \n",
    "\n",
    "print(f'We receive {dx:.5f} ETH for {dy} DAI')"
   ]
  },
  {
   "cell_type": "markdown",
   "id": "93caf4fb-491b-4cf7-87fc-8256c3dbe72e",
   "metadata": {},
   "source": [
    "### Perform dy -> dx swap using uniswappy"
   ]
  },
  {
   "cell_type": "code",
   "execution_count": 638,
   "id": "0fb66b3f-a580-4024-8b6b-335855dbab26",
   "metadata": {},
   "outputs": [
    {
     "name": "stdout",
     "output_type": "stream",
     "text": [
      "Exchange ETH-TKN (LP)\n",
      "Real Reserves:   ETH = 999.0039930189602, TKN = 1001000.0000000001\n",
      "Gross Liquidity: 31622.776601683796 \n",
      "\n",
      "We receive 0.99601 ETH for 1000 DAI\n",
      "Confirm price: (1/sqrtp_next^2)=0.00099801 vs (actual price)=0.00099801\n"
     ]
    }
   ],
   "source": [
    "out = Swap().apply(lp, dai, user_nm, dy)\n",
    "lp.summary()\n",
    "\n",
    "print(f'We receive {out:.5f} ETH for {dy} DAI')\n",
    "print(f'Confirm price: (1/sqrtp_next^2)={1/sqrtp_next**2:.8f} vs (actual price)={lp.get_price(dai):.8f}') "
   ]
  },
  {
   "cell_type": "markdown",
   "id": "4c70df88-c967-4a9a-b77f-dc3acf6321ee",
   "metadata": {},
   "source": [
    "## (1b) Swap: dx -> dy "
   ]
  },
  {
   "cell_type": "code",
   "execution_count": 639,
   "id": "328dbfda-2da6-4a1f-8c28-aa092ff8a039",
   "metadata": {},
   "outputs": [
    {
     "name": "stdout",
     "output_type": "stream",
     "text": [
      "Exchange ETH-TKN (LP)\n",
      "Real Reserves:   ETH = 1000.0000000000001, TKN = 1000000.0000000001\n",
      "Gross Liquidity: 31622.776601683796 \n",
      "\n"
     ]
    }
   ],
   "source": [
    "eth = ERC20(\"ETH\", \"0x09\")\n",
    "dai = ERC20(\"TKN\", \"0x111\")\n",
    "\n",
    "exchg_data = UniswapExchangeData(tkn0 = eth, tkn1 = dai, symbol=\"LP\", \n",
    "                                   address=\"0x011\", version = 'V3', \n",
    "                                   tick_spacing = tick_spacing, \n",
    "                                   fee = fee)\n",
    "\n",
    "factory = UniswapFactory(\"ETH pool factory\", \"0x2\")\n",
    "lp = factory.deploy(exchg_data)\n",
    "\n",
    "Join().apply(lp, user_nm, eth_amount, dai_amount, lwr_tick, upr_tick)\n",
    "lp.summary()"
   ]
  },
  {
   "cell_type": "markdown",
   "id": "2b8e9556-8a1f-4f39-9159-10b20d1cfbc9",
   "metadata": {},
   "source": [
    "Calculate $\\Delta y$\n",
    "\n",
    "$\\quad\\quad \\Delta y = L (\\sqrt{P} - \\sqrt{P_{next}})$\n",
    "\n",
    "where \n",
    "\n",
    "$\\quad\\quad \\sqrt{P_{next}}  =\\frac{1}{ \\frac{1}{\\sqrt{P}} + \\frac{997 \\Delta x}{1000 L}}$"
   ]
  },
  {
   "cell_type": "markdown",
   "id": "07794f6f-7f60-464b-bb02-808b405a757a",
   "metadata": {},
   "source": [
    "### Perform dx -> dy swap using dervation"
   ]
  },
  {
   "cell_type": "code",
   "execution_count": 640,
   "id": "6e1fd45d-667b-47d7-8151-24ae0269a777",
   "metadata": {},
   "outputs": [
    {
     "name": "stdout",
     "output_type": "stream",
     "text": [
      "We receive 996.00698 DAI for 1 ETH\n"
     ]
    }
   ],
   "source": [
    "dx = 1\n",
    "\n",
    "Q96 = 2**96\n",
    "sqrtp_cur = lp.slot0.sqrtPriceX96/Q96 # convert from Q96 to human\n",
    "\n",
    "gamma = 997/1000 \n",
    "x = lp.get_reserve(eth)\n",
    "y = lp.get_reserve(dai)\n",
    "L = lp.get_liquidity()\n",
    "\n",
    "sqrtp_next = 1/(1/sqrtp_cur + (gamma*dx)/(L))\n",
    "dy = L * (sqrtp_cur - sqrtp_next)\n",
    "\n",
    "print(f'We receive {dy:.5f} DAI for {dx} ETH')"
   ]
  },
  {
   "cell_type": "code",
   "execution_count": 641,
   "id": "8c1a5a3f-4b74-4bee-b3ce-733a419bbcb9",
   "metadata": {},
   "outputs": [
    {
     "name": "stdout",
     "output_type": "stream",
     "text": [
      "Exchange ETH-TKN (LP)\n",
      "Real Reserves:   ETH = 1001.0000000000001, TKN = 999003.9930189601\n",
      "Gross Liquidity: 31622.776601683796 \n",
      "\n",
      "We receive 996.00698 DAI for 1 ETH\n",
      "Confirm price: (sqrtp_next^2)=998.008978 vs (actual price)=998.008978\n"
     ]
    }
   ],
   "source": [
    "out = Swap().apply(lp, eth, user_nm, dx)\n",
    "lp.summary()\n",
    "\n",
    "print(f'We receive {out:.5f} DAI for {dx} ETH')\n",
    "print(f'Confirm price: (sqrtp_next^2)={sqrtp_next**2:.6f} vs (actual price)={lp.get_price(eth):.6f}') "
   ]
  },
  {
   "cell_type": "markdown",
   "id": "70a850e5-4de5-4ffa-8104-f0e4549b33c2",
   "metadata": {},
   "source": [
    "## (2) Double-sided withdrawal"
   ]
  },
  {
   "cell_type": "code",
   "execution_count": 642,
   "id": "b87cfd74-2d84-4b33-97c6-886d5c11c86e",
   "metadata": {},
   "outputs": [
    {
     "name": "stdout",
     "output_type": "stream",
     "text": [
      "Exchange ETH-TKN (LP)\n",
      "Real Reserves:   ETH = 1000.0000000000001, TKN = 1000000.0000000001\n",
      "Gross Liquidity: 31622.776601683796 \n",
      "\n"
     ]
    }
   ],
   "source": [
    "eth = ERC20(\"ETH\", \"0x09\")\n",
    "dai = ERC20(\"TKN\", \"0x111\")\n",
    "\n",
    "exchg_data = UniswapExchangeData(tkn0 = eth, tkn1 = dai, symbol=\"LP\", \n",
    "                                   address=\"0x011\", version = 'V3', \n",
    "                                   tick_spacing = tick_spacing, \n",
    "                                   fee = fee)\n",
    "\n",
    "factory = UniswapFactory(\"ETH pool factory\", \"0x2\")\n",
    "lp = factory.deploy(exchg_data)\n",
    "\n",
    "Join().apply(lp, user_nm, eth_amount, dai_amount, lwr_tick, upr_tick)\n",
    "lp.summary()"
   ]
  },
  {
   "cell_type": "code",
   "execution_count": 643,
   "id": "0e775084-39a0-4e48-91e2-c96fd91b838d",
   "metadata": {},
   "outputs": [],
   "source": [
    "sqrtp_pa = TickMath.getSqrtRatioAtTick(lwr_tick)/2**96\n",
    "sqrtp_pb = TickMath.getSqrtRatioAtTick(upr_tick)/2**96 \n",
    "sqrtp_cur = lp.slot0.sqrtPriceX96/2**96 "
   ]
  },
  {
   "cell_type": "markdown",
   "id": "7234b89b-b9f4-4d46-b708-7926207a6056",
   "metadata": {},
   "source": [
    "### Calculate withdrawal using derivation"
   ]
  },
  {
   "cell_type": "code",
   "execution_count": 644,
   "id": "d23e259d-01a6-4aed-8072-d1373d258c02",
   "metadata": {},
   "outputs": [
    {
     "name": "stdout",
     "output_type": "stream",
     "text": [
      "The updated reserves are 999.000000 ETH and 999000.000000 DAI, and the updated liquidity is 31591.153825\n"
     ]
    }
   ],
   "source": [
    "dx = 1\n",
    "\n",
    "dPx = (1/sqrtp_cur - 1/sqrtp_pb)  \n",
    "dPy = (sqrtp_cur - sqrtp_pa) \n",
    "\n",
    "Q96 = 2**96\n",
    "pa_sqrt_human = TickMath.getSqrtRatioAtTick(lwr_tick)/Q96\n",
    "pb_sqrt_human = TickMath.getSqrtRatioAtTick(upr_tick)/Q96\n",
    "Lx = dx/(1/sqrtp_cur - 1/pb_sqrt_human)\n",
    "\n",
    "dx = dLx*dPx\n",
    "dy = dLx*dPy\n",
    "\n",
    "new_x = (x-dx)\n",
    "new_y = (y-dy) \n",
    "new_L = L-dLx\n",
    "\n",
    "print(f'The updated reserves are {new_x:8f} ETH and {new_y:8f} DAI, and the updated liquidity is {new_L:8f}')"
   ]
  },
  {
   "cell_type": "markdown",
   "id": "ed70bcce-2bdc-43b8-b375-2f37a23a0c0b",
   "metadata": {},
   "source": [
    "### Perform withdrawal using uniswappy"
   ]
  },
  {
   "cell_type": "code",
   "execution_count": 645,
   "id": "9515689c-8286-4fb9-bdc9-770a77626454",
   "metadata": {},
   "outputs": [
    {
     "name": "stdout",
     "output_type": "stream",
     "text": [
      "Exchange ETH-TKN (LP)\n",
      "Real Reserves:   ETH = 999.0000000000001, TKN = 999000.0000000001\n",
      "Gross Liquidity: 31591.15382508211 \n",
      "\n"
     ]
    }
   ],
   "source": [
    "RemoveLiquidity().apply(lp, eth, user_nm, dx, lwr_tick, upr_tick)\n",
    "lp.summary()"
   ]
  },
  {
   "cell_type": "markdown",
   "id": "3590fd31-84db-4aa8-a579-a3a6b009c072",
   "metadata": {},
   "source": [
    "## (3) Double-sided deposit"
   ]
  },
  {
   "cell_type": "code",
   "execution_count": 646,
   "id": "660e9e7f-4bcc-4865-aff1-2afe78909ffe",
   "metadata": {},
   "outputs": [
    {
     "name": "stdout",
     "output_type": "stream",
     "text": [
      "Exchange ETH-TKN (LP)\n",
      "Real Reserves:   ETH = 1000.0000000000001, TKN = 1000000.0000000001\n",
      "Gross Liquidity: 31622.776601683796 \n",
      "\n"
     ]
    }
   ],
   "source": [
    "eth = ERC20(\"ETH\", \"0x09\")\n",
    "dai = ERC20(\"TKN\", \"0x111\")\n",
    "\n",
    "exchg_data = UniswapExchangeData(tkn0 = eth, tkn1 = dai, symbol=\"LP\", \n",
    "                                   address=\"0x011\", version = 'V3', \n",
    "                                   tick_spacing = tick_spacing, \n",
    "                                   fee = fee)\n",
    "\n",
    "factory = UniswapFactory(\"ETH pool factory\", \"0x2\")\n",
    "lp = factory.deploy(exchg_data)\n",
    "\n",
    "Join().apply(lp, user_nm, eth_amount, dai_amount, lwr_tick, upr_tick)\n",
    "lp.summary()"
   ]
  },
  {
   "cell_type": "code",
   "execution_count": 647,
   "id": "9670b1c5-469a-4ae9-a96b-71b78c39327c",
   "metadata": {},
   "outputs": [],
   "source": [
    "sqrtp_pa = TickMath.getSqrtRatioAtTick(lwr_tick)/2**96\n",
    "sqrtp_pb = TickMath.getSqrtRatioAtTick(upr_tick)/2**96 \n",
    "sqrtp_cur = lp.slot0.sqrtPriceX96/2**96 "
   ]
  },
  {
   "cell_type": "markdown",
   "id": "61b80e7a-a05d-4208-a2fd-b8dc593780d8",
   "metadata": {},
   "source": [
    "$\\quad\\quad \\Delta P_{x} = \\frac{1}{\\sqrt{P}} - \\frac{1}{\\sqrt{P_{b}}} \\quad\\quad  \\Delta P_{y} = \\sqrt{P} - \\sqrt{P_{a}} $\n",
    "\n",
    "$\\quad\\quad \\Delta x = \\Delta L \\Delta P_{x}  \\quad\\quad \\Delta y = \\Delta L \\Delta P_{y}$"
   ]
  },
  {
   "cell_type": "markdown",
   "id": "15878b9e-5f30-4469-9486-46ccb5a0ff2b",
   "metadata": {},
   "source": [
    "### Calculate deposit using derivation"
   ]
  },
  {
   "cell_type": "code",
   "execution_count": 648,
   "id": "8cd8624e-37cc-4b3d-a22e-f9776fc4e39c",
   "metadata": {},
   "outputs": [
    {
     "name": "stdout",
     "output_type": "stream",
     "text": [
      "The updated reserves are 1001.000000 ETH and 1001000.000000 DAI, and the updated liquidity is 31654.399378\n"
     ]
    }
   ],
   "source": [
    "dx = 1\n",
    "dPx = (1/sqrtp_cur - 1/sqrtp_pb)  \n",
    "dPy = (sqrtp_cur - sqrtp_pa) \n",
    "\n",
    "Q96 = 2**96\n",
    "pa_sqrt_human = TickMath.getSqrtRatioAtTick(lwr_tick)/Q96\n",
    "pb_sqrt_human = TickMath.getSqrtRatioAtTick(upr_tick)/Q96\n",
    "Lx = dx/(1/sqrtp_cur - 1/pb_sqrt_human)\n",
    "\n",
    "dx = dLx*dPx\n",
    "dy = dLx*dPy\n",
    "\n",
    "new_x = x+dx\n",
    "new_y = y+dy\n",
    "new_L = L+dLx\n",
    "\n",
    "print(f'The updated reserves are {new_x:8f} ETH and {new_y:8f} DAI, and the updated liquidity is {new_L:8f}')"
   ]
  },
  {
   "cell_type": "markdown",
   "id": "acb443ed-1805-4609-af25-471feb7cb4c5",
   "metadata": {},
   "source": [
    "### Perform deposit using uniswappy"
   ]
  },
  {
   "cell_type": "code",
   "execution_count": 649,
   "id": "0c5971d7-3784-4c18-997d-ff39a551084c",
   "metadata": {},
   "outputs": [
    {
     "name": "stdout",
     "output_type": "stream",
     "text": [
      "Exchange ETH-TKN (LP)\n",
      "Real Reserves:   ETH = 1001.0000000000001, TKN = 1001000.0000000001\n",
      "Gross Liquidity: 31654.39937828548 \n",
      "\n"
     ]
    }
   ],
   "source": [
    "AddLiquidity().apply(lp, eth, user_nm, dx, lwr_tick, upr_tick)\n",
    "lp.summary()"
   ]
  },
  {
   "cell_type": "markdown",
   "id": "a38c05e5-762f-4e34-a73d-61ae22ad9a99",
   "metadata": {},
   "source": [
    "## (4a) Single-sided withdrawal: dx"
   ]
  },
  {
   "cell_type": "code",
   "execution_count": 650,
   "id": "d16b7960-115e-40e4-876e-5132375fcb39",
   "metadata": {},
   "outputs": [
    {
     "name": "stdout",
     "output_type": "stream",
     "text": [
      "Exchange ETH-TKN (LP)\n",
      "Real Reserves:   ETH = 1000.0000000000001, TKN = 1000000.0000000001\n",
      "Gross Liquidity: 31622.776601683796 \n",
      "\n"
     ]
    }
   ],
   "source": [
    "eth = ERC20(\"ETH\", \"0x09\")\n",
    "dai = ERC20(\"TKN\", \"0x111\")\n",
    "\n",
    "exchg_data = UniswapExchangeData(tkn0 = eth, tkn1 = dai, symbol=\"LP\", \n",
    "                                   address=\"0x011\", version = 'V3', \n",
    "                                   tick_spacing = tick_spacing, \n",
    "                                   fee = fee)\n",
    "\n",
    "factory = UniswapFactory(\"ETH pool factory\", \"0x2\")\n",
    "lp = factory.deploy(exchg_data)\n",
    "\n",
    "Join().apply(lp, user_nm, eth_amount, dai_amount, lwr_tick, upr_tick)\n",
    "lp.summary()"
   ]
  },
  {
   "cell_type": "markdown",
   "id": "02f501ee-230d-4558-a1f8-f84fe623df01",
   "metadata": {},
   "source": [
    "A single-sided withdraw constitutes of the sum total of a withdraw and a swap, otherwise known as a WithdrawSwap, and is given by\n",
    "\n",
    "$\\quad\\quad \\Delta x = \\Delta L ( \\frac{1}{\\sqrt{P}} - \\frac{1}{\\sqrt{P_{b}}})$, $\\quad\\quad \\Delta y = \\Delta L (\\sqrt{P} - \\sqrt{P_{a}})$\n",
    "\n",
    "$\\quad\\quad \\Delta y_{ws} = \\Delta y + (L - \\Delta L) (\\sqrt{P} - \\frac{1}{ \\frac{1}{\\sqrt{P}} + \\frac{997 \\Delta x}{1000(L - \\Delta L)} })$"
   ]
  },
  {
   "cell_type": "markdown",
   "id": "130973a4-820a-41ff-854f-2c4dd51ea773",
   "metadata": {},
   "source": [
    "### Perform single-sided withdrawal using uniswappy"
   ]
  },
  {
   "cell_type": "code",
   "execution_count": 651,
   "id": "acaa8d3a-45ba-415e-b8d5-53029529d77f",
   "metadata": {},
   "outputs": [
    {
     "name": "stdout",
     "output_type": "stream",
     "text": [
      "Exchange ETH-TKN (LP)\n",
      "Real Reserves:   ETH = 999.0000000000001, TKN = 1000000.0000000001\n",
      "Gross Liquidity: 31606.937511796757 \n",
      "\n"
     ]
    }
   ],
   "source": [
    "WithdrawSwap().apply(lp, eth, user_nm, 1, lwr_tick, upr_tick)\n",
    "lp.summary()"
   ]
  },
  {
   "cell_type": "markdown",
   "id": "4c70066a-97b0-447a-94ec-c7cfd87114b5",
   "metadata": {},
   "source": [
    "## (4b) Single-sided withdrawal: dy"
   ]
  },
  {
   "cell_type": "code",
   "execution_count": 652,
   "id": "cfea54fd-293c-4fa9-a1db-837d84ee0f33",
   "metadata": {},
   "outputs": [
    {
     "name": "stdout",
     "output_type": "stream",
     "text": [
      "Exchange ETH-TKN (LP)\n",
      "Real Reserves:   ETH = 1000.0000000000001, TKN = 1000000.0000000001\n",
      "Gross Liquidity: 31622.776601683796 \n",
      "\n"
     ]
    }
   ],
   "source": [
    "eth = ERC20(\"ETH\", \"0x09\")\n",
    "dai = ERC20(\"TKN\", \"0x111\")\n",
    "\n",
    "exchg_data = UniswapExchangeData(tkn0 = eth, tkn1 = dai, symbol=\"LP\", \n",
    "                                   address=\"0x011\", version = 'V3', \n",
    "                                   tick_spacing = tick_spacing, \n",
    "                                   fee = fee)\n",
    "\n",
    "factory = UniswapFactory(\"ETH pool factory\", \"0x2\")\n",
    "lp = factory.deploy(exchg_data)\n",
    "\n",
    "Join().apply(lp, user_nm, eth_amount, dai_amount, lwr_tick, upr_tick)\n",
    "lp.summary()"
   ]
  },
  {
   "cell_type": "markdown",
   "id": "346da0c1-cd56-46f6-b452-17dae4832b3f",
   "metadata": {},
   "source": [
    "A single-sided withdraw constitutes of the sum total of a withdraw and a swap, otherwise known as a WithdrawSwap, and is given by\n",
    "\n",
    "$\\quad\\quad \\Delta x = \\Delta L ( \\frac{1}{\\sqrt{P}} - \\frac{1}{\\sqrt{P_{b}}})$, $\\quad\\quad \\Delta y = \\Delta L (\\sqrt{P} - \\sqrt{P_{a}})$\n",
    "\n",
    "$\\quad\\quad \\Delta x_{ws} = \\Delta x + (L - \\Delta L) (\\frac{1}{\\sqrt{P}} - \\frac{1}{ \\sqrt{P} + \\frac{997 \\Delta y}{1000(L - \\Delta L)} })$"
   ]
  },
  {
   "cell_type": "markdown",
   "id": "47c4424d-9f18-4ad5-aebf-152db11fbbbd",
   "metadata": {},
   "source": [
    "### Perform single-sided withdrawal using uniswappy"
   ]
  },
  {
   "cell_type": "code",
   "execution_count": 653,
   "id": "c4049029-79e9-4a02-b9bd-3e7393a93b31",
   "metadata": {},
   "outputs": [
    {
     "name": "stdout",
     "output_type": "stream",
     "text": [
      "Exchange ETH-TKN (LP)\n",
      "Real Reserves:   ETH = 1000.0000000000001, TKN = 999000.0\n",
      "Gross Liquidity: 31606.937511796754 \n",
      "\n"
     ]
    }
   ],
   "source": [
    "WithdrawSwap().apply(lp, dai, user_nm, 1000, lwr_tick, upr_tick)\n",
    "lp.summary()"
   ]
  }
 ],
 "metadata": {
  "kernelspec": {
   "display_name": "Python 3 (ipykernel)",
   "language": "python",
   "name": "python3"
  },
  "language_info": {
   "codemirror_mode": {
    "name": "ipython",
    "version": 3
   },
   "file_extension": ".py",
   "mimetype": "text/x-python",
   "name": "python",
   "nbconvert_exporter": "python",
   "pygments_lexer": "ipython3",
   "version": "3.10.0rc2"
  }
 },
 "nbformat": 4,
 "nbformat_minor": 5
}
