{
 "cells": [
  {
   "cell_type": "code",
   "execution_count": 26,
   "id": "0a1b7455-a8fa-4c6e-9da2-dc6555d5d8ea",
   "metadata": {},
   "outputs": [],
   "source": [
    "from uniswappy import *  "
   ]
  },
  {
   "cell_type": "code",
   "execution_count": 297,
   "id": "f9b85cd6-06d9-462c-ae30-36b2f72b1ec4",
   "metadata": {},
   "outputs": [],
   "source": [
    "def add_liquidity1(x_tkn, y_tkn, lp_in, iVault, amt_in):\n",
    "    itkn_nm = y_tkn.token_name\n",
    "    parent_tkn = y_tkn.parent_tkn\n",
    "    parent_lp = lp_in.factory.parent_lp\n",
    "    SwapIndexMint(iVault).apply(parent_lp, parent_tkn, user_nm, amt_in)\n",
    "    mint_itkn_deposit = iVault.index_tokens[itkn_nm]['last_lp_deposit']\n",
    "    opposite_tkn = x_tkn.token_name != parent_tkn.token_name\n",
    "    tkn_amount1 = LPQuote(opposite_tkn).get_amount_from_lp(parent_lp, parent_tkn, mint_itkn_deposit) \n",
    "    price_itkn = tkn_amount1/mint_itkn_deposit \n",
    "    AddLiquidity(price_itkn).apply(lp_in, y_tkn, user_nm, mint_itkn_deposit)  \n",
    "\n",
    "def add_liquidity2(itkn, lp_in, iVault, amt_in):\n",
    "    itkn_nm = itkn.token_name\n",
    "    parent_tkn = itkn.parent_tkn\n",
    "    parent_lp = lp_in.factory.parent_lp\n",
    "    SwapIndexMint(iVault).apply(parent_lp, parent_tkn, user_nm, amt_in)\n",
    "    mint_itkn_deposit = iVault.index_tokens[itkn_nm]['last_lp_deposit']\n",
    "    tkn_amount1 = LPQuote(False).get_amount_from_lp(parent_lp, parent_tkn, mint_itkn_deposit) \n",
    "    price_itkn = tkn_amount1/mint_itkn_deposit \n",
    "\n",
    "    itkn1_deposit = 0.5*mint_itkn_deposit\n",
    "    itkn2_deposit = 0.5*mint_itkn_deposit\n",
    "    lp_in.add_liquidity(user_nm, itkn1_deposit, itkn2_deposit, itkn1_deposit, itkn2_deposit)   \n",
    "\n",
    "def add_liquidity3(itkn, lp_in, iVault, amt_in, user_nm):\n",
    "    itkn_nm = itkn.token_name\n",
    "    parent_tkn = itkn.parent_tkn\n",
    "    parent_lp = lp_in.factory.parent_lp\n",
    "    SwapIndexMint(iVault).apply(parent_lp, parent_tkn, user_nm, amt_in)\n",
    "    mint_itkn_deposit = iVault.index_tokens[itkn_nm]['last_lp_deposit']\n",
    "    tkn_amount1 = LPQuote(False).get_amount_from_lp(parent_lp, parent_tkn, mint_itkn_deposit) \n",
    "    price_itkn = tkn_amount1/mint_itkn_deposit \n"
   ]
  },
  {
   "cell_type": "code",
   "execution_count": 915,
   "id": "fbfb82e3-46b3-43d0-a6d0-851e10fd2846",
   "metadata": {},
   "outputs": [
    {
     "name": "stdout",
     "output_type": "stream",
     "text": [
      "Exchange SYS-DAI (LP)\n",
      "Reserves: SYS = 100000, DAI = 10000\n",
      "Liquidity: 31622.776601683792 \n",
      "\n"
     ]
    }
   ],
   "source": [
    "user_nm = 'user0'\n",
    "dai_amount = 10000\n",
    "sys_amount = 100000\n",
    "\n",
    "dai1 = ERC20(\"DAI\", \"0x111\")\n",
    "sys1 = ERC20(\"SYS\", \"0x09\")\n",
    "exchg_data = UniswapExchangeData(tkn0 = sys1, tkn1 = dai1, symbol=\"LP\", address=\"0x011\", version = 'V2')\n",
    "\n",
    "iVault1 = IndexVault('iVault1', \"0x7\")\n",
    "iVault2 = IndexVault('iVault2', \"0x7\")\n",
    "\n",
    "factory = UniswapFactory(\"SYS pool factory\", \"0x2\")\n",
    "lp = factory.deploy(exchg_data)\n",
    "Join().apply(lp, user_nm, sys_amount, dai_amount)\n",
    "lp.summary()"
   ]
  },
  {
   "cell_type": "code",
   "execution_count": 916,
   "id": "8c18acc4-87f5-4480-9145-28a388a36837",
   "metadata": {},
   "outputs": [
    {
     "name": "stdout",
     "output_type": "stream",
     "text": [
      "Exchange SYS-DAI (LP)\n",
      "Reserves: SYS = 109999.99999999997, DAI = 10000.0\n",
      "Liquidity: 33163.92929950274 \n",
      "\n",
      "1541.153 added LP tokens is now worth 9972.072 SYS tokens\n",
      "1541.153 added LP tokens is now worth 906.552 DAI tokens\n"
     ]
    }
   ],
   "source": [
    "user_test = 'test'\n",
    "sys_deposit1 = 10000\n",
    "SwapDeposit().apply(lp, sys1, user_test, sys_deposit1)\n",
    "lp.summary()\n",
    "\n",
    "lp_deposit1 = lp.last_liquidity_deposit\n",
    "sys_lp_worth = LPQuote(False).get_amount_from_lp(lp, sys1, lp_deposit1)\n",
    "lp.liquidity_providers\n",
    "\n",
    "sys_lp_worth = LPQuote(False).get_amount_from_lp(lp, sys1, lp_deposit1)\n",
    "dai_lp_worth = LPQuote(False).get_amount_from_lp(lp, dai1, lp_deposit1)\n",
    "\n",
    "print(f'{lp_deposit1:.3f} added LP tokens is now worth {sys_lp_worth:.3f} SYS tokens')\n",
    "print(f'{lp_deposit1:.3f} added LP tokens is now worth {dai_lp_worth:.3f} DAI tokens')"
   ]
  },
  {
   "cell_type": "code",
   "execution_count": 917,
   "id": "2871c43a-2f05-4e99-95f5-819fc9388204",
   "metadata": {},
   "outputs": [
    {
     "name": "stdout",
     "output_type": "stream",
     "text": [
      "Exchange SYS-DAI (LP)\n",
      "Reserves: SYS = 119999.99999999996, DAI = 10000.0\n",
      "Liquidity: 34636.37919845741 \n",
      "\n",
      "1472.450 added LP tokens is now worth 9971.897 SYS tokens\n",
      "1472.450 added LP tokens is now worth 830.991 DAI tokens\n"
     ]
    }
   ],
   "source": [
    "sys_deposit2 = 10000\n",
    "isys3 = IndexERC20(\"iSYS\", \"0x09\", sys1, lp)\n",
    "idai3 = IndexERC20(\"iDAI\", \"0x09\", dai1, lp)\n",
    "exchg_data5 = UniswapExchangeData(tkn0 = isys3, tkn1 = idai3, symbol=\"LP5\", address=\"0x012\", version = 'V2')\n",
    "lp5 = factory.deploy(exchg_data5)\n",
    "\n",
    "add_liquidity3(isys3, lp5, iVault1, sys_deposit2, user_test)\n",
    "lp.summary()\n",
    "lp.liquidity_providers\n",
    "\n",
    "lp_deposit2 = iVault1.index_tokens['iSYS']['total_lp']\n",
    "# lp_deposit3 = iVault2.index_tokens['iDAI']['total_lp']\n",
    "\n",
    "sys_lp_worth = LPQuote(False).get_amount_from_lp(lp, sys1, lp_deposit2)\n",
    "dai_lp_worth = LPQuote(False).get_amount_from_lp(lp, dai1, lp_deposit2)\n",
    "\n",
    "print(f'{lp_deposit2:.3f} added LP tokens is now worth {sys_lp_worth:.3f} SYS tokens')\n",
    "print(f'{lp_deposit2:.3f} added LP tokens is now worth {dai_lp_worth:.3f} DAI tokens')"
   ]
  },
  {
   "cell_type": "code",
   "execution_count": 918,
   "id": "bad441ca-ab2a-49de-8b2e-16888f42a0c6",
   "metadata": {},
   "outputs": [
    {
     "name": "stdout",
     "output_type": "stream",
     "text": [
      "Exchange SYS-DAI (LP)\n",
      "Reserves: SYS = 119999.99999999996, DAI = 11000.000000000002\n",
      "Liquidity: 36324.401408421756 \n",
      "\n",
      "1688.022 added LP tokens is now worth 10878.624 SYS tokens\n",
      "1688.022 added LP tokens is now worth 997.207 DAI tokens\n"
     ]
    }
   ],
   "source": [
    "dai_deposit2 = 1000\n",
    "\n",
    "add_liquidity3(idai3, lp5, iVault2, dai_deposit2, user_test)\n",
    "lp.summary()\n",
    "\n",
    "lp_deposit3 = iVault2.index_tokens['iDAI']['total_lp']\n",
    "\n",
    "sys_lp_worth = LPQuote(False).get_amount_from_lp(lp, sys1, lp_deposit3)\n",
    "dai_lp_worth = LPQuote(False).get_amount_from_lp(lp, dai1, lp_deposit3)\n",
    "\n",
    "print(f'{lp_deposit3:.3f} added LP tokens is now worth {sys_lp_worth:.3f} SYS tokens')\n",
    "print(f'{lp_deposit3:.3f} added LP tokens is now worth {dai_lp_worth:.3f} DAI tokens')"
   ]
  },
  {
   "cell_type": "code",
   "execution_count": 886,
   "id": "98f0b943-87ff-4d10-8be0-15c711ba4efd",
   "metadata": {},
   "outputs": [],
   "source": [
    "# dai_deposit2 = 1000\n",
    "\n",
    "# add_liquidity3(idai3, lp5, iVault2, dai_deposit2, user_test)\n",
    "# lp.summary()\n",
    "# lp.liquidity_providers"
   ]
  },
  {
   "cell_type": "code",
   "execution_count": 919,
   "id": "0d4b967a-b077-45f0-8ca5-58332360967e",
   "metadata": {},
   "outputs": [
    {
     "name": "stdout",
     "output_type": "stream",
     "text": [
      "4701.625 added LP tokens is now worth 29018.523 SYS tokens\n",
      "4701.625 added LP tokens is now worth 2660.031 DAI tokens\n"
     ]
    }
   ],
   "source": [
    "lp_added = lp_deposit1 + lp_deposit2  + lp_deposit3 \n",
    "\n",
    "sys_lp_worth = LPQuote(False).get_amount_from_lp(lp, sys1, lp_added)\n",
    "dai_lp_worth = LPQuote(False).get_amount_from_lp(lp, dai1, lp_added)\n",
    "\n",
    "print(f'{lp_added:.3f} added LP tokens is now worth {sys_lp_worth:.3f} SYS tokens')\n",
    "print(f'{lp_added:.3f} added LP tokens is now worth {dai_lp_worth:.3f} DAI tokens')"
   ]
  },
  {
   "cell_type": "code",
   "execution_count": 641,
   "id": "1ebd8501-ccfb-4e4f-95ae-fc94283d0622",
   "metadata": {},
   "outputs": [],
   "source": [
    "# Swap().apply(lp, dai1, user_nm, 1000)\n",
    "# lp.summary()\n",
    "# lp.liquidity_providers"
   ]
  },
  {
   "cell_type": "code",
   "execution_count": 920,
   "id": "21c3c2ae-0197-4d56-a613-ce85f659f5b3",
   "metadata": {},
   "outputs": [
    {
     "name": "stdout",
     "output_type": "stream",
     "text": [
      "Exchange SYS-DAI (LP)\n",
      "Reserves: SYS = 90981.47725015799, DAI = 11000.000000000002\n",
      "Liquidity: 31622.776601683803 \n",
      "\n"
     ]
    },
    {
     "data": {
      "text/plain": [
       "29018.52274984197"
      ]
     },
     "execution_count": 920,
     "metadata": {},
     "output_type": "execute_result"
    }
   ],
   "source": [
    "amount_out = WithdrawSwap().apply(lp, sys1, user_test, sys_lp_worth)\n",
    "lp.summary()\n",
    "amount_out"
   ]
  },
  {
   "cell_type": "code",
   "execution_count": 145,
   "id": "f40a945d-bb16-40c4-bf47-573bd6446a40",
   "metadata": {},
   "outputs": [
    {
     "data": {
      "text/plain": [
       "13078.909880327346"
      ]
     },
     "execution_count": 145,
     "metadata": {},
     "output_type": "execute_result"
    }
   ],
   "source": [
    "iVault1.index_tokens['iSYS']['total_lp']"
   ]
  },
  {
   "cell_type": "code",
   "execution_count": 146,
   "id": "721255f6-e72b-49ce-965c-9664dad66393",
   "metadata": {},
   "outputs": [
    {
     "data": {
      "text/plain": [
       "99824.0322147581"
      ]
     },
     "execution_count": 146,
     "metadata": {},
     "output_type": "execute_result"
    }
   ],
   "source": [
    "LPQuote(False).get_amount_from_lp(lp, sys1, iVault1.index_tokens['iSYS']['total_lp'])"
   ]
  },
  {
   "cell_type": "code",
   "execution_count": 147,
   "id": "6a7caa88-253a-46ef-919b-3820b0a2d147",
   "metadata": {},
   "outputs": [
    {
     "data": {
      "text/plain": [
       "4991.201610737904"
      ]
     },
     "execution_count": 147,
     "metadata": {},
     "output_type": "execute_result"
    }
   ],
   "source": [
    "LPQuote(False).get_amount_from_lp(lp, dai1, iVault1.index_tokens['iSYS']['total_lp'])"
   ]
  },
  {
   "cell_type": "code",
   "execution_count": 107,
   "id": "67d390a1-17c3-43ef-88e2-350f6b4fa260",
   "metadata": {},
   "outputs": [
    {
     "name": "stdout",
     "output_type": "stream",
     "text": [
      "Exchange SYS-DAI (LP)\n",
      "Reserves: SYS = 100000, DAI = 10000\n",
      "Liquidity: 31622.776601683792 \n",
      "\n",
      "Exchange iSYS-iDAI (LP5)\n",
      "Reserves: iSYS = 0, iDAI = 0\n",
      "Liquidity: 0 \n",
      "\n"
     ]
    }
   ],
   "source": [
    "dai1 = ERC20(\"DAI\", \"0x111\")\n",
    "sys1 = ERC20(\"SYS\", \"0x09\")\n",
    "exchg_data = UniswapExchangeData(tkn0 = sys1, tkn1 = dai1, symbol=\"LP\", address=\"0x011\", version = 'V2')\n",
    "\n",
    "iVault1 = IndexVault('iVault1', \"0x7\")\n",
    "iVault2 = IndexVault('iVault2', \"0x7\")\n",
    "\n",
    "factory = UniswapFactory(\"SYS pool factory\", \"0x2\")\n",
    "lp = factory.deploy(exchg_data)\n",
    "Join().apply(lp, user_nm, sys_amount, dai_amount)\n",
    "lp.summary()\n",
    "\n",
    "isys3 = IndexERC20(\"iSYS\", \"0x09\", sys1, lp)\n",
    "idai3 = IndexERC20(\"iDAI\", \"0x09\", dai1, lp)\n",
    "exchg_data5 = UniswapExchangeData(tkn0 = isys3, tkn1 = idai3, symbol=\"LP5\", address=\"0x012\", version = 'V2')\n",
    "lp5 = factory.deploy(exchg_data5)\n",
    "lp5.summary()"
   ]
  },
  {
   "cell_type": "code",
   "execution_count": 108,
   "id": "225be908-aaff-468b-b05a-48c48b7174b5",
   "metadata": {},
   "outputs": [
    {
     "name": "stdout",
     "output_type": "stream",
     "text": [
      "Exchange SYS-DAI (LP)\n",
      "Reserves: SYS = 200000.00000000003, DAI = 11000.000000000002\n",
      "Liquidity: 46880.24675160935 \n",
      "\n",
      "Exchange iSYS-iDAI (LP5)\n",
      "Reserves: iSYS = 0, iDAI = 0\n",
      "Liquidity: 0 \n",
      "\n"
     ]
    }
   ],
   "source": [
    "add_liquidity3(isys3, lp5, iVault1, 100000)\n",
    "add_liquidity3(idai3, lp5, iVault2, 1000)\n",
    "lp.summary()\n",
    "lp5.summary()"
   ]
  },
  {
   "cell_type": "code",
   "execution_count": 104,
   "id": "7c696a5c-13d7-494b-a9b9-82c89d210b71",
   "metadata": {},
   "outputs": [
    {
     "data": {
      "text/plain": [
       "{'iSYS': {'token': <uniswappy.erc.ERC20.ERC20 at 0x1372991b0>,\n",
       "  'total': 99824.0322147581,\n",
       "  'total_lp': 13078.909880327346,\n",
       "  'last_deposit': 99824.0322147581,\n",
       "  'last_lp_deposit': 13078.909880327346,\n",
       "  'parent_token': 'SYS',\n",
       "  'exchange': 'SYSDAI-LP'}}"
      ]
     },
     "execution_count": 104,
     "metadata": {},
     "output_type": "execute_result"
    }
   ],
   "source": [
    "iVault1.index_tokens"
   ]
  },
  {
   "cell_type": "code",
   "execution_count": 105,
   "id": "5e5bb742-0363-4569-8ed8-844117817beb",
   "metadata": {},
   "outputs": [
    {
     "data": {
      "text/plain": [
       "{'iDAI': {'token': <uniswappy.erc.ERC20.ERC20 at 0x137299600>,\n",
       "  'total': 997.207170638066,\n",
       "  'total_lp': 2178.560269598218,\n",
       "  'last_deposit': 997.207170638066,\n",
       "  'last_lp_deposit': 2178.560269598218,\n",
       "  'parent_token': 'DAI',\n",
       "  'exchange': 'SYSDAI-LP'}}"
      ]
     },
     "execution_count": 105,
     "metadata": {},
     "output_type": "execute_result"
    }
   ],
   "source": [
    "iVault2.index_tokens"
   ]
  },
  {
   "cell_type": "code",
   "execution_count": 32,
   "id": "99cafb5a-baf2-4123-b617-b6fa41469a8e",
   "metadata": {},
   "outputs": [
    {
     "name": "stdout",
     "output_type": "stream",
     "text": [
      "x: 200000.0, y: 22000.000000000004\n"
     ]
    }
   ],
   "source": [
    "amt_x = lp.reserve0 + LPQuote().get_amount(lp, dai1, lp.reserve1)\n",
    "amt_y = LPQuote().get_amount(lp, sys1, lp.reserve0) + lp.reserve1\n",
    "print('x: {}, y: {}'.format(amt_x, amt_y))"
   ]
  },
  {
   "cell_type": "code",
   "execution_count": 33,
   "id": "9713ff02-9da2-49ac-99e2-dfdddfad525f",
   "metadata": {},
   "outputs": [
    {
     "name": "stdout",
     "output_type": "stream",
     "text": [
      "x: 9172.871828435185, y: 1009.0159011278704\n"
     ]
    }
   ],
   "source": [
    "amt_x = RebaseIndexToken().apply(lp, sys1, lp5.reserve0) + RebaseIndexToken().apply(lp, sys1, lp5.reserve1)\n",
    "amt_y = RebaseIndexToken().apply(lp, dai1, lp5.reserve0) + RebaseIndexToken().apply(lp, dai1, lp5.reserve1)\n",
    "print('x: {}, y: {}'.format(amt_x, amt_y))"
   ]
  },
  {
   "cell_type": "code",
   "execution_count": 34,
   "id": "582a4d5f-d1c4-4646-863f-841b4ae46700",
   "metadata": {},
   "outputs": [
    {
     "name": "stdout",
     "output_type": "stream",
     "text": [
      "lp x: 200000 / y: 22000\n",
      "lp5 x: 9173 / y: 1009\n"
     ]
    }
   ],
   "source": [
    "print('lp x: {:.0f} / y: {:.0f}'.format(TreeAmountQuote().get_tot_x(lp, lp.reserve0, lp.reserve1), \n",
    "                                     TreeAmountQuote().get_tot_y(lp, lp.reserve0, lp.reserve1))) \n",
    "\n",
    "\n",
    "print('lp5 x: {:.0f} / y: {:.0f}'.format(TreeAmountQuote().get_tot_x(lp5, lp5.reserve0, lp5.reserve1), \n",
    "                                     TreeAmountQuote().get_tot_y(lp5, lp5.reserve0, lp5.reserve1))) "
   ]
  }
 ],
 "metadata": {
  "kernelspec": {
   "display_name": "Python 3 (ipykernel)",
   "language": "python",
   "name": "python3"
  },
  "language_info": {
   "codemirror_mode": {
    "name": "ipython",
    "version": 3
   },
   "file_extension": ".py",
   "mimetype": "text/x-python",
   "name": "python",
   "nbconvert_exporter": "python",
   "pygments_lexer": "ipython3",
   "version": "3.10.0rc2"
  }
 },
 "nbformat": 4,
 "nbformat_minor": 5
}
