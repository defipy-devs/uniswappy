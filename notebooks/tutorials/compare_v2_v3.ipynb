{
 "cells": [
  {
   "cell_type": "markdown",
   "id": "58a1be19-e923-4894-89ec-69d7113e85e0",
   "metadata": {},
   "source": [
    "## Uniswap V2 / V3 Example\n",
    "* By setting the upper and lower ticks to their extremes [-887220,887220], Uni V3 effectively behaves like Uni V2\n",
    "* Hence, in this script we perform some sanity checks to benchmark one protocol against the other"
   ]
  },
  {
   "cell_type": "code",
   "execution_count": 1,
   "id": "186f7163-b9f0-4be2-a25f-4e7a9033ac68",
   "metadata": {},
   "outputs": [],
   "source": [
    "from uniswappy import *"
   ]
  },
  {
   "cell_type": "markdown",
   "id": "36b5a699-5f42-42fc-89cd-18cacea40227",
   "metadata": {},
   "source": [
    "### Uni V2"
   ]
  },
  {
   "cell_type": "code",
   "execution_count": 2,
   "id": "2a5834fc-8e17-4348-9e18-40989140c48f",
   "metadata": {},
   "outputs": [
    {
     "name": "stdout",
     "output_type": "stream",
     "text": [
      "Exchange ETH-DAI (LP)\n",
      "Reserves: ETH = 3162.277660168379, DAI = 316227.7660168379\n",
      "Liquidity: 31622.77660168379 \n",
      "\n"
     ]
    }
   ],
   "source": [
    "user_nm = 'user_intro'\n",
    "eth_amount = 3162.277660168379\n",
    "dai_amount = 316227.7660168379\n",
    "\n",
    "dai = ERC20(\"DAI\", \"0x111\")\n",
    "eth = ERC20(\"ETH\", \"0x09\")\n",
    "exchg_data = UniswapExchangeData(tkn0 = eth, tkn1 = dai, symbol=\"LP\", \n",
    "address=\"0x011\")\n",
    "\n",
    "factory = UniswapFactory(\"ETH pool factory\", \"0x2\")\n",
    "lp = factory.deploy(exchg_data)\n",
    "lp.add_liquidity(\"user0\", eth_amount, dai_amount, eth_amount, dai_amount)\n",
    "lp.summary()"
   ]
  },
  {
   "cell_type": "markdown",
   "id": "11409c7d-1f4e-45ba-8b27-0d20fdb58b51",
   "metadata": {},
   "source": [
    "### Uni V3"
   ]
  },
  {
   "cell_type": "code",
   "execution_count": 3,
   "id": "a8eca9bf-a452-4785-b7b4-0d0314d23a9a",
   "metadata": {},
   "outputs": [
    {
     "name": "stdout",
     "output_type": "stream",
     "text": [
      "Exchange ETH-DAI (LP)\n",
      "Real Reserves:   ETH = 3162.277660168379, DAI = 316227.7660168379\n",
      "Gross Liquidity: 31622.776601683792 \n",
      "\n"
     ]
    }
   ],
   "source": [
    "user = 'user_intro'\n",
    "fee = UniV3Utils.FeeAmount.MEDIUM\n",
    "tick_spacing = UniV3Utils.TICK_SPACINGS[fee]\n",
    "lwr_tick = UniV3Utils.getMinTick(tick_spacing)\n",
    "upr_tick = UniV3Utils.getMaxTick(tick_spacing)\n",
    "init_price = UniV3Utils.encodePriceSqrt(100, 1)\n",
    "\n",
    "dai = ERC20(\"DAI\", \"0x09\")\n",
    "eth = ERC20(\"ETH\", \"0x111\")\n",
    "\n",
    "exchg_data = UniswapExchangeData(tkn0 = eth, tkn1 = dai, symbol=\"LP\", \n",
    "                                   address=\"0x011\", version = 'V3', \n",
    "                                   tick_spacing = tick_spacing, \n",
    "                                   fee = fee)\n",
    "\n",
    "factory = UniswapFactory(\"ETH pool factory\", \"0x2\")\n",
    "lp = factory.deploy(exchg_data)\n",
    "lp.initialize(init_price)\n",
    "out = lp.mint(user, lwr_tick, upr_tick, 31622.776601683792)\n",
    "lp.summary()"
   ]
  },
  {
   "cell_type": "markdown",
   "id": "64bbfe25-a302-4bff-bd5d-bcb2865f56ed",
   "metadata": {},
   "source": [
    "### Using GWEI Precision "
   ]
  },
  {
   "cell_type": "code",
   "execution_count": 4,
   "id": "9c48dd37-14f9-448e-8fad-2fd7153057c4",
   "metadata": {},
   "outputs": [
    {
     "name": "stdout",
     "output_type": "stream",
     "text": [
      "Exchange TKN-DAI (LP)\n",
      "Real Reserves:   TKN = 9996, DAI = 1000\n",
      "Gross Liquidity: 3161 \n",
      "\n"
     ]
    }
   ],
   "source": [
    "user = 'user_intro'\n",
    "fee = UniV3Utils.FeeAmount.MEDIUM\n",
    "tick_spacing = UniV3Utils.TICK_SPACINGS[fee]\n",
    "lwr_tick = UniV3Utils.getMinTick(tick_spacing)\n",
    "upr_tick = UniV3Utils.getMaxTick(tick_spacing)\n",
    "init_price = UniV3Utils.encodePriceSqrt(1, 10)\n",
    "\n",
    "tkn = ERC20(\"TKN\", \"0x111\")\n",
    "dai = ERC20(\"DAI\", \"0x09\")\n",
    "\n",
    "exchg_data = UniswapExchangeData(tkn0 = tkn, tkn1 = dai, symbol=\"LP\", \n",
    "                                   address=\"0x011\", version = 'V3', \n",
    "                                   tick_spacing = tick_spacing, \n",
    "                                   precision = UniswapExchangeData.TYPE_GWEI,\n",
    "                                   fee = fee)\n",
    "\n",
    "factory = UniswapFactory(\"TKN pool factory\", \"0x2\")\n",
    "lp = factory.deploy(exchg_data)\n",
    "lp.initialize(init_price)\n",
    "lp.mint(user, lwr_tick, upr_tick, 3161)\n",
    "lp.summary()"
   ]
  },
  {
   "cell_type": "markdown",
   "id": "6518d3cf-00b1-4bcd-93ba-2c45a0626c62",
   "metadata": {},
   "source": [
    "### Using Decimal Precision "
   ]
  },
  {
   "cell_type": "markdown",
   "id": "9e486b9c-8ccb-4998-91e7-0374a9b2dcb9",
   "metadata": {},
   "source": [
    "#### Uni V3: Mint and Burn"
   ]
  },
  {
   "cell_type": "code",
   "execution_count": 5,
   "id": "2f60559f-b657-4a56-9606-841632502359",
   "metadata": {},
   "outputs": [
    {
     "name": "stdout",
     "output_type": "stream",
     "text": [
      "Exchange TKN-DAI (LP)\n",
      "Real Reserves:   TKN = 10000.0, DAI = 1000.0\n",
      "Gross Liquidity: 3162.2776601683795 \n",
      "\n",
      "Exchange TKN-DAI (LP)\n",
      "Real Reserves:   TKN = 6837.722339831621, DAI = 683.7722339831621\n",
      "Gross Liquidity: 2162.2776601683795 \n",
      "\n"
     ]
    }
   ],
   "source": [
    "user = 'user_intro'\n",
    "fee = UniV3Utils.FeeAmount.MEDIUM\n",
    "tick_spacing = UniV3Utils.TICK_SPACINGS[fee]\n",
    "lwr_tick = UniV3Utils.getMinTick(tick_spacing)\n",
    "upr_tick = UniV3Utils.getMaxTick(tick_spacing)\n",
    "init_price = UniV3Utils.encodePriceSqrt(1, 10)\n",
    "\n",
    "tkn = ERC20(\"TKN\", \"0x111\")\n",
    "dai = ERC20(\"DAI\", \"0x09\")\n",
    "\n",
    "exchg_data = UniswapExchangeData(tkn0 = tkn, tkn1 = dai, symbol=\"LP\", \n",
    "                                   address=\"0x011\", version = 'V3', \n",
    "                                   tick_spacing = tick_spacing, \n",
    "                                   fee = fee)\n",
    "\n",
    "factory = UniswapFactory(\"TKN pool factory\", \"0x2\")\n",
    "lp = factory.deploy(exchg_data)\n",
    "lp.initialize(init_price)\n",
    "out = lp.mint(user, lwr_tick, upr_tick, 3162.2776601683795)\n",
    "lp.summary()\n",
    "\n",
    "out = lp.burn(user, lwr_tick, upr_tick, 1000)\n",
    "lp.summary()"
   ]
  },
  {
   "cell_type": "code",
   "execution_count": 6,
   "id": "3fc11e6f-c8c7-44ef-9812-6408f2479d50",
   "metadata": {},
   "outputs": [
    {
     "name": "stdout",
     "output_type": "stream",
     "text": [
      "Exchange TKN-DAI (LP)\n",
      "Real Reserves:   TKN = 1000.0, DAI = 10000.000000000002\n",
      "Gross Liquidity: 3162.2776601683795 \n",
      "\n",
      "Exchange TKN-DAI (LP)\n",
      "Real Reserves:   TKN = 1010.0, DAI = 9901.284196560295\n",
      "Gross Liquidity: 3162.2776601683795 \n",
      "\n"
     ]
    }
   ],
   "source": [
    "user = 'user_intro'\n",
    "fee = UniV3Utils.FeeAmount.MEDIUM\n",
    "tick_spacing = UniV3Utils.TICK_SPACINGS[fee]\n",
    "lwr_tick = UniV3Utils.getMinTick(tick_spacing)\n",
    "upr_tick = UniV3Utils.getMaxTick(tick_spacing)\n",
    "init_price = UniV3Utils.encodePriceSqrt(10, 1)\n",
    "\n",
    "tkn = ERC20(\"TKN\", \"0x111\")\n",
    "dai = ERC20(\"DAI\", \"0x09\")\n",
    "\n",
    "exchg_data = UniswapExchangeData(tkn0 = tkn, tkn1 = dai, symbol=\"LP\", \n",
    "                                   address=\"0x011\", version = 'V3', \n",
    "                                   tick_spacing = tick_spacing, \n",
    "                                   fee = fee)\n",
    "\n",
    "lwr_tick = UniV3Utils.getMinTick(tick_spacing)\n",
    "upr_tick = UniV3Utils.getMaxTick(tick_spacing)\n",
    "\n",
    "factory = UniswapFactory(\"TKN pool factory\", \"0x2\")\n",
    "lp = factory.deploy(exchg_data)\n",
    "lp.initialize(init_price)\n",
    "out = lp.mint(user, lwr_tick, upr_tick, 3162.2776601683795)\n",
    "lp.summary()\n",
    "\n",
    "out_v3 = lp.swapExact0For1(user, 10, None)\n",
    "lp.summary()"
   ]
  },
  {
   "cell_type": "markdown",
   "id": "008623b1-cc77-4882-b239-ea10ad383e30",
   "metadata": {},
   "source": [
    "#### Uni V3: swapExact0For1 (Correct) "
   ]
  },
  {
   "cell_type": "code",
   "execution_count": 7,
   "id": "1d4241af-e188-478d-beb8-6d5226f0913e",
   "metadata": {},
   "outputs": [
    {
     "name": "stdout",
     "output_type": "stream",
     "text": [
      "Exchange TKN-DAI (LP)\n",
      "Real Reserves:   TKN = 10000.0, DAI = 1000.0\n",
      "Gross Liquidity: 3162.2776601683795 \n",
      "\n",
      "Exchange TKN-DAI (LP)\n",
      "Real Reserves:   TKN = 10100.0, DAI = 990.1284196560295\n",
      "Gross Liquidity: 3162.2776601683795 \n",
      "\n"
     ]
    }
   ],
   "source": [
    "user = 'user_intro'\n",
    "fee = UniV3Utils.FeeAmount.MEDIUM\n",
    "tick_spacing = UniV3Utils.TICK_SPACINGS[fee]\n",
    "lwr_tick = UniV3Utils.getMinTick(tick_spacing)\n",
    "upr_tick = UniV3Utils.getMaxTick(tick_spacing)\n",
    "init_price = UniV3Utils.encodePriceSqrt(1, 10)\n",
    "\n",
    "tkn = ERC20(\"TKN\", \"0x111\")\n",
    "dai = ERC20(\"DAI\", \"0x09\")\n",
    "\n",
    "exchg_data = UniswapExchangeData(tkn0 = tkn, tkn1 = dai, symbol=\"LP\", \n",
    "                                   address=\"0x011\", version = 'V3', \n",
    "                                   tick_spacing = tick_spacing, \n",
    "                                   fee = fee)\n",
    "\n",
    "factory = UniswapFactory(\"TKN pool factory\", \"0x2\")\n",
    "lp = factory.deploy(exchg_data)\n",
    "lp.initialize(init_price)\n",
    "out = lp.mint(user, lwr_tick, upr_tick, 3162.2776601683795)\n",
    "lp.summary()\n",
    "\n",
    "out_v3 = lp.swapExact0For1(user, 100, None)\n",
    "lp.summary()"
   ]
  },
  {
   "cell_type": "markdown",
   "id": "8f2073f3-1cb4-4213-9366-680532f2eb81",
   "metadata": {},
   "source": [
    "#### Uni V2: Comparison Check"
   ]
  },
  {
   "cell_type": "code",
   "execution_count": 8,
   "id": "64e20bdc-c91f-45ac-a91a-bd576ae3a485",
   "metadata": {},
   "outputs": [
    {
     "name": "stdout",
     "output_type": "stream",
     "text": [
      "Exchange TKN-DAI (LP)\n",
      "Reserves: TKN = 10000.0, DAI = 1000.0\n",
      "Liquidity: 3162.2776601683795 \n",
      "\n",
      "Exchange TKN-DAI (LP)\n",
      "Reserves: TKN = 10100.0, DAI = 990.1284196560293\n",
      "Liquidity: 3162.2776601683795 \n",
      "\n",
      "UniV2 == UniV3 (DAI): PASS\n"
     ]
    }
   ],
   "source": [
    "tkn = ERC20(\"TKN\", \"0x111\")\n",
    "dai = ERC20(\"DAI\", \"0x09\")\n",
    "exchg_data = UniswapExchangeData(tkn0 = tkn, tkn1 = dai, symbol=\"LP\", address=\"0x011\")\n",
    "\n",
    "factory = UniswapFactory(\"ETH pool factory\", \"0x2\")\n",
    "lp = factory.deploy(exchg_data)\n",
    "lp.add_liquidity(user, 10000, 1000, 10000, 1000)\n",
    "lp.summary()\n",
    "\n",
    "out_v2 = Swap().apply(lp, tkn, user, 100)\n",
    "lp.summary()\n",
    "\n",
    "uni_test = 'PASS' if round(out_v2,8) == round(abs(out_v3[2]),8)  else 'FAIL'\n",
    "print(f'UniV2 == UniV3 (DAI): {uni_test}')"
   ]
  },
  {
   "cell_type": "markdown",
   "id": "3ca92278-64f2-4ed2-aabb-6cf5102193ed",
   "metadata": {},
   "source": [
    "#### Uni V3: swap0ForExact1 (Correct) "
   ]
  },
  {
   "cell_type": "code",
   "execution_count": 9,
   "id": "71b549f9-e878-46b4-9782-0bc78c32443f",
   "metadata": {},
   "outputs": [
    {
     "name": "stdout",
     "output_type": "stream",
     "text": [
      "Exchange TKN-DAI (LP)\n",
      "Real Reserves:   TKN = 10000.0, DAI = 1000.0\n",
      "Gross Liquidity: 3162.2776601683795 \n",
      "\n",
      "Exchange TKN-DAI (LP)\n",
      "Real Reserves:   TKN = 11114.454474534716, DAI = 900.0\n",
      "Gross Liquidity: 3162.2776601683795 \n",
      "\n"
     ]
    }
   ],
   "source": [
    "user = 'user_intro'\n",
    "fee = UniV3Utils.FeeAmount.MEDIUM\n",
    "tick_spacing = UniV3Utils.TICK_SPACINGS[fee]\n",
    "lwr_tick = UniV3Utils.getMinTick(tick_spacing)\n",
    "upr_tick = UniV3Utils.getMaxTick(tick_spacing)\n",
    "init_price = UniV3Utils.encodePriceSqrt(1, 10)\n",
    "\n",
    "tkn = ERC20(\"TKN\", \"0x111\")\n",
    "dai = ERC20(\"DAI\", \"0x09\")\n",
    "\n",
    "exchg_data = UniswapExchangeData(tkn0 = tkn, tkn1 = dai, symbol=\"LP\", \n",
    "                                   address=\"0x011\", version = 'V3', \n",
    "                                   tick_spacing = tick_spacing, \n",
    "                                   fee = fee)\n",
    "\n",
    "factory = UniswapFactory(\"TKN pool factory\", \"0x2\")\n",
    "lp = factory.deploy(exchg_data)\n",
    "lp.initialize(init_price)\n",
    "out = lp.mint(user, lwr_tick, upr_tick, 3162.2776601683795)\n",
    "lp.summary()\n",
    "\n",
    "out_v3 = lp.swap0ForExact1(user, 100, None)\n",
    "lp.summary()"
   ]
  },
  {
   "cell_type": "markdown",
   "id": "2353f8ce-2f2c-4e13-a9ff-d2fa47aa9817",
   "metadata": {},
   "source": [
    "#### Uni V2: Comparison Check "
   ]
  },
  {
   "cell_type": "code",
   "execution_count": 10,
   "id": "8ae514d8-ede3-4de0-929f-e9ffcf71e4d2",
   "metadata": {},
   "outputs": [
    {
     "name": "stdout",
     "output_type": "stream",
     "text": [
      "Exchange TKN-DAI (LP)\n",
      "Reserves: TKN = 10000.0, DAI = 1000.0\n",
      "Liquidity: 3162.2776601683795 \n",
      "\n",
      "Exchange TKN-DAI (LP)\n",
      "Reserves: TKN = 11114.454474534716, DAI = 900.0\n",
      "Liquidity: 3162.2776601683795 \n",
      "\n",
      "UniV2 == UniV3 (DAI): PASS\n"
     ]
    }
   ],
   "source": [
    "tkn = ERC20(\"TKN\", \"0x111\")\n",
    "dai = ERC20(\"DAI\", \"0x09\")\n",
    "exchg_data = UniswapExchangeData(tkn0 = tkn, tkn1 = dai, symbol=\"LP\", address=\"0x011\")\n",
    "\n",
    "factory = UniswapFactory(\"ETH pool factory\", \"0x2\")\n",
    "lp = factory.deploy(exchg_data)\n",
    "lp.add_liquidity(user, 10000, 1000, 10000, 1000)\n",
    "lp.summary()\n",
    "\n",
    "out_v2 = Swap().apply(lp, tkn, user, 1114.4544745347152)\n",
    "lp.summary()\n",
    "\n",
    "uni_test = 'PASS' if round(out_v2,8) == round(abs(out_v3[2]),8)  else 'FAIL'\n",
    "print(f'UniV2 == UniV3 (DAI): {uni_test}')"
   ]
  },
  {
   "cell_type": "markdown",
   "id": "18655a1a-3025-4bba-9a00-2b8afd554eda",
   "metadata": {},
   "source": [
    "#### Uni V3: swapExact1For0 (Correct)"
   ]
  },
  {
   "cell_type": "code",
   "execution_count": 11,
   "id": "d1c28482-9f15-4d6b-b5c4-8e70f9dcb7b7",
   "metadata": {},
   "outputs": [
    {
     "name": "stdout",
     "output_type": "stream",
     "text": [
      "Exchange TKN-DAI (LP)\n",
      "Real Reserves:   TKN = 10000.0, DAI = 1000.0\n",
      "Gross Liquidity: 3162.2776601683795 \n",
      "\n",
      "Exchange TKN-DAI (LP)\n",
      "Real Reserves:   TKN = 9093.389106119852, DAI = 1100.0\n",
      "Gross Liquidity: 3162.2776601683795 \n",
      "\n"
     ]
    }
   ],
   "source": [
    "user = 'user_intro'\n",
    "fee = UniV3Utils.FeeAmount.MEDIUM\n",
    "tick_spacing = UniV3Utils.TICK_SPACINGS[fee]\n",
    "lwr_tick = UniV3Utils.getMinTick(tick_spacing)\n",
    "upr_tick = UniV3Utils.getMaxTick(tick_spacing)\n",
    "init_price = UniV3Utils.encodePriceSqrt(1, 10)\n",
    "\n",
    "tkn = ERC20(\"TKN\", \"0x111\")\n",
    "dai = ERC20(\"DAI\", \"0x09\")\n",
    "\n",
    "exchg_data = UniswapExchangeData(tkn0 = tkn, tkn1 = dai, symbol=\"LP\", \n",
    "                                   address=\"0x011\", version = 'V3', \n",
    "                                   tick_spacing = tick_spacing, \n",
    "                                   fee = fee)\n",
    "\n",
    "factory = UniswapFactory(\"TKN pool factory\", \"0x2\")\n",
    "lp = factory.deploy(exchg_data)\n",
    "lp.initialize(init_price)\n",
    "out = lp.mint(user, lwr_tick, upr_tick, 3162.2776601683795)\n",
    "lp.summary()\n",
    "\n",
    "out_v3 = lp.swapExact1For0(user, 100, None)\n",
    "lp.summary()"
   ]
  },
  {
   "cell_type": "markdown",
   "id": "80da25f2-3f35-4ffa-89b7-c561ac25d3a4",
   "metadata": {},
   "source": [
    "#### Uni V2: Comparison Check"
   ]
  },
  {
   "cell_type": "code",
   "execution_count": 12,
   "id": "17ff1c9a-f691-47b7-bede-9490ec22550c",
   "metadata": {},
   "outputs": [
    {
     "name": "stdout",
     "output_type": "stream",
     "text": [
      "Exchange TKN-DAI (LP)\n",
      "Reserves: TKN = 10000.0, DAI = 1000.0\n",
      "Liquidity: 3162.2776601683795 \n",
      "\n",
      "Exchange TKN-DAI (LP)\n",
      "Reserves: TKN = 9093.38910611985, DAI = 1100.0\n",
      "Liquidity: 3162.2776601683795 \n",
      "\n",
      "UniV2 == UniV3 (TKN): PASS\n"
     ]
    }
   ],
   "source": [
    "tkn = ERC20(\"TKN\", \"0x111\")\n",
    "dai = ERC20(\"DAI\", \"0x09\")\n",
    "exchg_data = UniswapExchangeData(tkn0 = tkn, tkn1 = dai, symbol=\"LP\", address=\"0x011\")\n",
    "\n",
    "factory = UniswapFactory(\"ETH pool factory\", \"0x2\")\n",
    "lp = factory.deploy(exchg_data)\n",
    "lp.add_liquidity(user, 10000, 1000, 10000, 1000)\n",
    "lp.summary()\n",
    "\n",
    "out_2 = Swap().apply(lp, dai, user, 100)\n",
    "lp.summary()\n",
    "\n",
    "uni_test = 'PASS' if round(out_v2,8) == round(abs(out_v3[2]),8)  else 'FAIL'\n",
    "print(f'UniV2 == UniV3 (TKN): {uni_test}')"
   ]
  },
  {
   "cell_type": "markdown",
   "id": "a2b45092-0daf-4499-a142-e4e66ab30c90",
   "metadata": {},
   "source": [
    "#### Uni V3: swap1ForExact0 (Correct)"
   ]
  },
  {
   "cell_type": "code",
   "execution_count": 13,
   "id": "94590b38-1639-43b6-96c0-1490733dc55b",
   "metadata": {},
   "outputs": [
    {
     "name": "stdout",
     "output_type": "stream",
     "text": [
      "Exchange TKN-DAI (LP)\n",
      "Real Reserves:   TKN = 10000.0, DAI = 1000.0\n",
      "Gross Liquidity: 3162.2776601683795 \n",
      "\n",
      "Exchange TKN-DAI (LP)\n",
      "Real Reserves:   TKN = 9900.0, DAI = 1010.131404313952\n",
      "Gross Liquidity: 3162.2776601683795 \n",
      "\n"
     ]
    }
   ],
   "source": [
    "user = 'user_intro'\n",
    "fee = UniV3Utils.FeeAmount.MEDIUM\n",
    "tick_spacing = UniV3Utils.TICK_SPACINGS[fee]\n",
    "lwr_tick = UniV3Utils.getMinTick(tick_spacing)\n",
    "upr_tick = UniV3Utils.getMaxTick(tick_spacing)\n",
    "init_price = UniV3Utils.encodePriceSqrt(1, 10)\n",
    "\n",
    "tkn = ERC20(\"TKN\", \"0x111\")\n",
    "dai = ERC20(\"DAI\", \"0x09\")\n",
    "\n",
    "exchg_data = UniswapExchangeData(tkn0 = tkn, tkn1 = dai, symbol=\"LP\", \n",
    "                                   address=\"0x011\", version = 'V3', \n",
    "                                   tick_spacing = tick_spacing, \n",
    "                                   fee = fee)\n",
    "\n",
    "factory = UniswapFactory(\"TKN pool factory\", \"0x2\")\n",
    "lp = factory.deploy(exchg_data)\n",
    "lp.initialize(init_price)\n",
    "out = lp.mint(user, lwr_tick, upr_tick, 3162.2776601683795)\n",
    "lp.summary()\n",
    "\n",
    "out_v3 = lp.swap1ForExact0(user, 100, None)\n",
    "lp.summary()"
   ]
  },
  {
   "cell_type": "markdown",
   "id": "5f62e920-ddb7-499e-8fbd-6514884ced51",
   "metadata": {},
   "source": [
    "#### Uni V2: Comparison Check"
   ]
  },
  {
   "cell_type": "code",
   "execution_count": 14,
   "id": "54302b00-3cce-426d-852c-e8c15a1e0a84",
   "metadata": {},
   "outputs": [
    {
     "name": "stdout",
     "output_type": "stream",
     "text": [
      "Exchange TKN-DAI (LP)\n",
      "Reserves: TKN = 10000.0, DAI = 1000.0\n",
      "Liquidity: 3162.2776601683795 \n",
      "\n",
      "Exchange TKN-DAI (LP)\n",
      "Reserves: TKN = 9900.0, DAI = 1010.131404313952\n",
      "Liquidity: 3162.2776601683795 \n",
      "\n",
      "UniV2 == UniV3 (TKN): PASS\n"
     ]
    }
   ],
   "source": [
    "tkn = ERC20(\"TKN\", \"0x111\")\n",
    "dai = ERC20(\"DAI\", \"0x09\")\n",
    "exchg_data = UniswapExchangeData(tkn0 = tkn, tkn1 = dai, symbol=\"LP\", address=\"0x011\")\n",
    "\n",
    "factory = UniswapFactory(\"ETH pool factory\", \"0x2\")\n",
    "lp = factory.deploy(exchg_data)\n",
    "lp.add_liquidity(user, 10000, 1000, 10000, 1000)\n",
    "lp.summary()\n",
    "\n",
    "out_v2 = Swap().apply(lp, dai, user, 10.131404313952)\n",
    "lp.summary()\n",
    "\n",
    "uni_test = 'PASS' if round(out_v2,8) == round(abs(out_v3[1]),8)  else 'FAIL'\n",
    "print(f'UniV2 == UniV3 (TKN): {uni_test}')"
   ]
  }
 ],
 "metadata": {
  "kernelspec": {
   "display_name": "py3",
   "language": "python",
   "name": "py3"
  },
  "language_info": {
   "codemirror_mode": {
    "name": "ipython",
    "version": 3
   },
   "file_extension": ".py",
   "mimetype": "text/x-python",
   "name": "python",
   "nbconvert_exporter": "python",
   "pygments_lexer": "ipython3",
   "version": "3.10.0rc2"
  }
 },
 "nbformat": 4,
 "nbformat_minor": 5
}
