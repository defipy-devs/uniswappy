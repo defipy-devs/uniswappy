{
 "cells": [
  {
   "cell_type": "markdown",
   "id": "da027ba5-8b74-432b-984f-5849abf4b2af",
   "metadata": {},
   "source": [
    "## Revenue Generation in Uniswap"
   ]
  },
  {
   "cell_type": "code",
   "execution_count": 1,
   "id": "79912f6d-1d23-4c62-9dfe-1d0ead235941",
   "metadata": {},
   "outputs": [],
   "source": [
    "import os\n",
    "import copy\n",
    "import numpy as np\n",
    "import pandas as pd\n",
    "import time\n",
    "import datetime\n",
    "import math\n",
    "import matplotlib.pyplot as plt"
   ]
  },
  {
   "cell_type": "code",
   "execution_count": 2,
   "id": "b45c9861-544e-4bef-ad6e-dafd21eb3460",
   "metadata": {},
   "outputs": [],
   "source": [
    "from uniswappy import *"
   ]
  },
  {
   "cell_type": "code",
   "execution_count": 3,
   "id": "26e771c9-c5f2-4dde-8d7b-4564813f089f",
   "metadata": {},
   "outputs": [],
   "source": [
    "user_nm = 'user0'\n",
    "dai_amount = 10000\n",
    "sys_amount = 10000\n",
    "\n",
    "fee = UniV3Utils.FeeAmount.MEDIUM\n",
    "tick_spacing = UniV3Utils.TICK_SPACINGS[fee]\n",
    "lwr_tick = UniV3Utils.getMinTick(tick_spacing)\n",
    "upr_tick = UniV3Utils.getMaxTick(tick_spacing)"
   ]
  },
  {
   "cell_type": "code",
   "execution_count": 4,
   "id": "5e4b406c-d670-443b-83fa-c88c126f96b6",
   "metadata": {},
   "outputs": [
    {
     "name": "stdout",
     "output_type": "stream",
     "text": [
      "Exchange SYS-DAI (LP)\n",
      "Real Reserves:   SYS = 10000.0, DAI = 10000.0\n",
      "Gross Liquidity: 10000.0 \n",
      "\n"
     ]
    }
   ],
   "source": [
    "dai1 = ERC20(\"DAI\", \"0x111\")\n",
    "sys1 = ERC20(\"SYS\", \"0x09\")\n",
    "exchg_data = UniswapExchangeData(tkn0 = sys1, tkn1 = dai1, symbol=\"LP\",\n",
    "                                   address=\"0x011\", version = 'V3',\n",
    "                                   tick_spacing = tick_spacing,\n",
    "                                   fee = fee)\n",
    "\n",
    "factory = UniswapFactory(\"SYS pool factory\", \"0x2\")\n",
    "lp = factory.deploy(exchg_data)\n",
    "\n",
    "Join().apply(lp, user_nm, dai_amount, sys_amount, lwr_tick, upr_tick)\n",
    "lp.summary()"
   ]
  },
  {
   "cell_type": "code",
   "execution_count": 5,
   "id": "d8d0e50e-5bd9-43c3-b75e-305ba3db31d1",
   "metadata": {},
   "outputs": [
    {
     "data": {
      "text/plain": [
       "1.9969005990711928"
      ]
     },
     "execution_count": 5,
     "metadata": {},
     "output_type": "execute_result"
    }
   ],
   "source": [
    "LPQuote(False).get_amount_from_lp(lp, sys1, 1, lwr_tick, upr_tick)"
   ]
  },
  {
   "cell_type": "markdown",
   "id": "8ceefaf9-07bc-4813-878c-55702670b09d",
   "metadata": {},
   "source": [
    "### Liquidity leak test-batch #1"
   ]
  },
  {
   "cell_type": "code",
   "execution_count": 6,
   "id": "844837a4-fb35-4abc-b099-c5a26b9ea0a6",
   "metadata": {},
   "outputs": [
    {
     "data": {
      "text/plain": [
       "10000.0"
      ]
     },
     "execution_count": 6,
     "metadata": {},
     "output_type": "execute_result"
    }
   ],
   "source": [
    "lp.last_liquidity_deposit"
   ]
  },
  {
   "cell_type": "code",
   "execution_count": 7,
   "id": "fe0eba62-61bd-45a6-9666-de5c96f7a4d9",
   "metadata": {},
   "outputs": [
    {
     "name": "stdout",
     "output_type": "stream",
     "text": [
      "Exchange SYS-DAI (LP)\n",
      "Real Reserves:   SYS = 10000.0, DAI = 10000.0\n",
      "Gross Liquidity: 10000.0 \n",
      "\n",
      "Pre-tests:\n",
      "- 1 LP token is 1.996901 DAI\n",
      "- we are starting with 10000.000000 LP token\n"
     ]
    }
   ],
   "source": [
    "lp.summary()\n",
    "dai_amt = LPQuote(False).get_amount_from_lp(lp, dai1, 1, lwr_tick, upr_tick)\n",
    "print('Pre-tests:')\n",
    "print('- 1 LP token is {:.6f} DAI'.format(dai_amt))\n",
    "print('- we are starting with {:.6f} LP token'.format(lp.get_liquidity()))"
   ]
  },
  {
   "cell_type": "markdown",
   "id": "ad518477-9813-461d-8424-a89b3afd9a44",
   "metadata": {},
   "source": [
    "#### Test 1: SwapDeposit"
   ]
  },
  {
   "cell_type": "code",
   "execution_count": 8,
   "id": "47eb9b9c-df4f-4b13-93d0-d8390031f271",
   "metadata": {},
   "outputs": [
    {
     "name": "stdout",
     "output_type": "stream",
     "text": [
      "Exchange SYS-DAI (LP)\n",
      "Real Reserves:   SYS = 10973.646046926347, DAI = 10000.0\n",
      "Gross Liquidity: 10474.83520392498 \n",
      "\n"
     ]
    }
   ],
   "source": [
    "requested_liquidity_in = 500\n",
    "sys_before_test = lp.get_reserve(sys1)\n",
    "sys_settlement_amt = LPQuote(False).get_amount_from_lp(lp, sys1, requested_liquidity_in, lwr_tick, upr_tick)\n",
    "dep = SwapDeposit().apply(lp, sys1, user_nm, sys_settlement_amt, lwr_tick, upr_tick)\n",
    "get_deposit = LPQuote(False).get_amount_from_lp(lp, sys1, lp.get_last_liquidity_deposit(), lwr_tick, upr_tick)\n",
    "lp.summary()"
   ]
  },
  {
   "cell_type": "code",
   "execution_count": 9,
   "id": "d8081086-ea6c-470b-99b7-e56413991602",
   "metadata": {},
   "outputs": [
    {
     "name": "stdout",
     "output_type": "stream",
     "text": [
      "Exchange SYS-DAI (LP)\n",
      "Real Reserves:   SYS = 10002.78890824099, DAI = 10000.0\n",
      "Gross Liquidity: 10000.0 \n",
      "\n"
     ]
    }
   ],
   "source": [
    "out = WithdrawSwap().apply(lp, sys1, user_nm, get_deposit, lwr_tick, upr_tick)\n",
    "lp.summary()"
   ]
  },
  {
   "cell_type": "code",
   "execution_count": 10,
   "id": "42337d8a-3314-475a-83b9-926cb1145e55",
   "metadata": {},
   "outputs": [
    {
     "name": "stdout",
     "output_type": "stream",
     "text": [
      "Exchange SYS-DAI (LP)\n",
      "Real Reserves:   SYS = 10002.78890824099, DAI = 10000.0\n",
      "Gross Liquidity: 10000.0 \n",
      "\n",
      "Post test #1:\n",
      "- 1 LP token is 1.996629 DAI\n",
      "- we have 10000.000000 total LP token\n",
      "- we made a profit of 2.788908 SYS post swapping\n"
     ]
    }
   ],
   "source": [
    "lp.summary()\n",
    "dai_amt = LPQuote(False).get_amount_from_lp(lp, dai1, 1, lwr_tick, upr_tick)\n",
    "sys_after_test = lp.get_reserve(sys1)\n",
    "print('Post test #1:')\n",
    "print('- 1 LP token is {:.6f} DAI'.format(dai_amt))\n",
    "print('- we have {:.6f} total LP token'.format(lp.get_liquidity()))\n",
    "print('- we made a profit of {:.6f} SYS post swapping'.format(sys_after_test-sys_before_test))"
   ]
  },
  {
   "cell_type": "markdown",
   "id": "f1e64cb2-ceb7-4e48-b158-8bc0b50bc333",
   "metadata": {},
   "source": [
    "#### Test 2: Multiple WithdrawSwap / SwapDeposit"
   ]
  },
  {
   "cell_type": "code",
   "execution_count": 11,
   "id": "cc8e8471-a05e-412c-bbf6-9133a28adc38",
   "metadata": {},
   "outputs": [],
   "source": [
    "# TKN_amt = TokenDeltaModel(1000)\n",
    "# N = 100\n",
    "# for k in range(N):\n",
    "#     Swap().apply(lp, sys1, user_nm, TKN_amt.delta())\n",
    "#     Swap().apply(lp, dai1, user_nm, TKN_amt.delta())\n",
    "\n",
    "# LPQuote(False).get_amount_from_lp(lp, sys1, 1, lwr_tick, upr_tick)"
   ]
  },
  {
   "cell_type": "code",
   "execution_count": 12,
   "id": "2f166ece-0322-435c-aa16-78c67a9df853",
   "metadata": {},
   "outputs": [],
   "source": [
    "sys_before_test = lp.get_reserve(sys1)\n",
    "N = 100\n",
    "for k in range(N):\n",
    "    requested_liquidity_out = 500\n",
    "    sys_settlement_amt = LPQuote(False).get_amount_from_lp(lp, sys1, requested_liquidity_in, lwr_tick, upr_tick)\n",
    "    dep = SwapDeposit().apply(lp, sys1, user_nm, sys_settlement_amt, lwr_tick, upr_tick)\n",
    "    get_deposit = LPQuote(False).get_amount_from_lp(lp, sys1, lp.get_last_liquidity_deposit(), lwr_tick, upr_tick)\n",
    "    out = WithdrawSwap().apply(lp, sys1, user_nm, get_deposit, lwr_tick, upr_tick)"
   ]
  },
  {
   "cell_type": "code",
   "execution_count": 13,
   "id": "3916ff5e-f1f3-4be3-8247-c63cb82e6868",
   "metadata": {},
   "outputs": [
    {
     "name": "stdout",
     "output_type": "stream",
     "text": [
      "Exchange SYS-DAI (LP)\n",
      "Real Reserves:   SYS = 10283.603944861577, DAI = 10000.0\n",
      "Gross Liquidity: 10000.000000000007 \n",
      "\n",
      "Post test #2:\n",
      "- 1 LP token is 1.969658 DAI\n",
      "- we have 10000.000000 LP token remaining\n",
      "- we made a profit of 280.815037 SYS post swapping\n"
     ]
    }
   ],
   "source": [
    "lp.summary()\n",
    "dai_amt = LPQuote(False).get_amount_from_lp(lp, dai1, 1, lwr_tick, upr_tick)\n",
    "sys_after_test = lp.get_reserve(sys1)\n",
    "print('Post test #2:')\n",
    "print('- 1 LP token is {:.6f} DAI'.format(dai_amt))\n",
    "print('- we have {:.6f} LP token remaining'.format(lp.get_liquidity()))\n",
    "print('- we made a profit of {:.6f} SYS post swapping'.format(sys_after_test-sys_before_test))"
   ]
  },
  {
   "cell_type": "code",
   "execution_count": 14,
   "id": "6c746131-a6d1-4377-ac1b-93348402f11c",
   "metadata": {},
   "outputs": [
    {
     "data": {
      "text/plain": [
       "2.0245197624797155"
      ]
     },
     "execution_count": 14,
     "metadata": {},
     "output_type": "execute_result"
    }
   ],
   "source": [
    "LPQuote(False).get_amount_from_lp(lp, sys1, 1, lwr_tick, upr_tick)"
   ]
  }
 ],
 "metadata": {
  "kernelspec": {
   "display_name": "Python 3 (ipykernel)",
   "language": "python",
   "name": "python3"
  },
  "language_info": {
   "codemirror_mode": {
    "name": "ipython",
    "version": 3
   },
   "file_extension": ".py",
   "mimetype": "text/x-python",
   "name": "python",
   "nbconvert_exporter": "python",
   "pygments_lexer": "ipython3",
   "version": "3.10.0rc2"
  }
 },
 "nbformat": 4,
 "nbformat_minor": 5
}
