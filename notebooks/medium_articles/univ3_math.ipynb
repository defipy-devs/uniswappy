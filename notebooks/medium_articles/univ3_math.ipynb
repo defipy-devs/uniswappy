{
 "cells": [
  {
   "cell_type": "markdown",
   "id": "f4ea8192-c213-4b1d-ad5b-af53b14f3deb",
   "metadata": {},
   "source": [
    "# Uniswap V3 Math Tutorial\n",
    "\n",
    "In this tutorial, we review the following:\n",
    "* Swap\n",
    "* Double-sided withdraw\n",
    "* Double-sided deposit\n",
    "* Single-sided withdraw\n",
    "* Single-sided deposit"
   ]
  },
  {
   "cell_type": "code",
   "execution_count": 332,
   "id": "8a723893-0919-4395-ba90-7f65927fbf7d",
   "metadata": {},
   "outputs": [],
   "source": [
    "from uniswappy import *\n",
    "import numpy as np\n",
    "import matplotlib.pyplot as plt\n",
    "import math"
   ]
  },
  {
   "cell_type": "code",
   "execution_count": 333,
   "id": "aa0ea999-3c55-4ba6-96be-e7f5521ed1a7",
   "metadata": {},
   "outputs": [],
   "source": [
    "user_nm = 'user_intro'\n",
    "eth_amount = 1000\n",
    "dai_amount = 1000000\n",
    "fee = UniV3Utils.FeeAmount.MEDIUM\n",
    "tick_spacing = UniV3Utils.TICK_SPACINGS[fee]\n",
    "lwr_tick = UniV3Utils.getMinTick(tick_spacing)\n",
    "upr_tick = UniV3Utils.getMaxTick(tick_spacing)"
   ]
  },
  {
   "cell_type": "markdown",
   "id": "02082d2e-f39d-4648-806a-19ca219dc0ec",
   "metadata": {},
   "source": [
    "## (1a) Swap derivation: dy -> dx "
   ]
  },
  {
   "cell_type": "code",
   "execution_count": 377,
   "id": "d3b26a81-999a-49bb-897f-26f295abea21",
   "metadata": {},
   "outputs": [
    {
     "name": "stdout",
     "output_type": "stream",
     "text": [
      "Exchange ETH-TKN (LP)\n",
      "Real Reserves:   ETH = 1000.0000000000001, TKN = 1000000.0000000001\n",
      "Gross Liquidity: 31622.776601683796 \n",
      "\n"
     ]
    }
   ],
   "source": [
    "eth = ERC20(\"ETH\", \"0x09\")\n",
    "dai = ERC20(\"TKN\", \"0x111\")\n",
    "\n",
    "exchg_data = UniswapExchangeData(tkn0 = eth, tkn1 = dai, symbol=\"LP\", \n",
    "                                   address=\"0x011\", version = 'V3', \n",
    "                                   tick_spacing = tick_spacing, \n",
    "                                   fee = fee)\n",
    "\n",
    "factory = UniswapFactory(\"ETH pool factory\", \"0x2\")\n",
    "lp = factory.deploy(exchg_data)\n",
    "\n",
    "Join().apply(lp, user_nm, eth_amount, dai_amount, lwr_tick, upr_tick)\n",
    "lp.summary()"
   ]
  },
  {
   "cell_type": "markdown",
   "id": "40c3f9bd-1cf7-4d4e-81cb-c6876dbc7043",
   "metadata": {},
   "source": [
    "Calculate $\\Delta x$\n",
    "\n",
    "$\\quad\\quad \\Delta x = L (\\frac{1}{\\sqrt{P}} - \\frac{1}{\\sqrt{P_{next}}})$\n",
    "\n",
    "where\n",
    "\n",
    "$\\quad\\quad \\sqrt{P_{next}}  = \\sqrt{P} + \\frac{997 \\Delta y}{1000 L}$"
   ]
  },
  {
   "cell_type": "markdown",
   "id": "92b419c0-bbcd-42db-bddc-d063178670fc",
   "metadata": {},
   "source": [
    "### Perform dy -> dx swap using dervation"
   ]
  },
  {
   "cell_type": "code",
   "execution_count": 378,
   "id": "4e32ecc2-133c-4831-bdd8-aaddcc639fd3",
   "metadata": {},
   "outputs": [
    {
     "name": "stdout",
     "output_type": "stream",
     "text": [
      "We receive 0.99601 ETH for 1000 DAI\n"
     ]
    }
   ],
   "source": [
    "dy = 1000\n",
    "\n",
    "Q96 = 2**96\n",
    "sqrtp_cur = lp.slot0.sqrtPriceX96/Q96 # convert from Q96 to human\n",
    "\n",
    "gamma = 997/1000 \n",
    "x = lp.get_reserve(eth)\n",
    "y = lp.get_reserve(dai)\n",
    "L = lp.get_liquidity()\n",
    "\n",
    "sqrtp_next = sqrtp_cur + (gamma*dy) / (L)\n",
    "dx = L * (1/sqrtp_cur - 1/sqrtp_next) \n",
    "\n",
    "print(f'We receive {dx:.5f} ETH for {dy} DAI')"
   ]
  },
  {
   "cell_type": "markdown",
   "id": "93caf4fb-491b-4cf7-87fc-8256c3dbe72e",
   "metadata": {},
   "source": [
    "### Perform dy -> dx swap using uniswappy"
   ]
  },
  {
   "cell_type": "code",
   "execution_count": 379,
   "id": "0fb66b3f-a580-4024-8b6b-335855dbab26",
   "metadata": {},
   "outputs": [
    {
     "name": "stdout",
     "output_type": "stream",
     "text": [
      "Exchange ETH-TKN (LP)\n",
      "Real Reserves:   ETH = 999.0039930189602, TKN = 1001000.0000000001\n",
      "Gross Liquidity: 31622.776601683796 \n",
      "\n",
      "We receive 0.99601 ETH for 1000 DAI\n",
      "Confirm price: (1/sqrtp_next^2)=0.00099801 vs (actual price)=0.00099801\n"
     ]
    }
   ],
   "source": [
    "out = Swap().apply(lp, dai, user_nm, dy)\n",
    "lp.summary()\n",
    "\n",
    "print(f'We receive {out:.5f} ETH for {dy} DAI')\n",
    "print(f'Confirm price: (1/sqrtp_next^2)={1/sqrtp_next**2:.8f} vs (actual price)={lp.get_price(dai):.8f}') "
   ]
  },
  {
   "cell_type": "markdown",
   "id": "4c70df88-c967-4a9a-b77f-dc3acf6321ee",
   "metadata": {},
   "source": [
    "## (1b) Swap derivation: dx -> dy "
   ]
  },
  {
   "cell_type": "code",
   "execution_count": 364,
   "id": "328dbfda-2da6-4a1f-8c28-aa092ff8a039",
   "metadata": {},
   "outputs": [
    {
     "name": "stdout",
     "output_type": "stream",
     "text": [
      "Exchange ETH-TKN (LP)\n",
      "Real Reserves:   ETH = 1000.0000000000001, TKN = 1000000.0000000001\n",
      "Gross Liquidity: 31622.776601683796 \n",
      "\n"
     ]
    }
   ],
   "source": [
    "eth = ERC20(\"ETH\", \"0x09\")\n",
    "dai = ERC20(\"TKN\", \"0x111\")\n",
    "\n",
    "exchg_data = UniswapExchangeData(tkn0 = eth, tkn1 = dai, symbol=\"LP\", \n",
    "                                   address=\"0x011\", version = 'V3', \n",
    "                                   tick_spacing = tick_spacing, \n",
    "                                   fee = fee)\n",
    "\n",
    "factory = UniswapFactory(\"ETH pool factory\", \"0x2\")\n",
    "lp = factory.deploy(exchg_data)\n",
    "\n",
    "Join().apply(lp, user_nm, eth_amount, dai_amount, lwr_tick, upr_tick)\n",
    "lp.summary()"
   ]
  },
  {
   "cell_type": "markdown",
   "id": "2b8e9556-8a1f-4f39-9159-10b20d1cfbc9",
   "metadata": {},
   "source": [
    "Calculate $\\Delta y$\n",
    "\n",
    "$\\quad\\quad \\Delta y = L (\\sqrt{P} - \\sqrt{P_{next}})$\n",
    "\n",
    "where \n",
    "\n",
    "$\\quad\\quad \\sqrt{P_{next}}  =\\frac{1}{ \\frac{1}{\\sqrt{P}} + \\frac{997 \\Delta x}{1000 L}}$"
   ]
  },
  {
   "cell_type": "markdown",
   "id": "07794f6f-7f60-464b-bb02-808b405a757a",
   "metadata": {},
   "source": [
    "### Perform dx -> dy swap using dervation"
   ]
  },
  {
   "cell_type": "code",
   "execution_count": 365,
   "id": "6e1fd45d-667b-47d7-8151-24ae0269a777",
   "metadata": {},
   "outputs": [
    {
     "name": "stdout",
     "output_type": "stream",
     "text": [
      "We receive 996.00698 DAI for 1 ETH\n"
     ]
    }
   ],
   "source": [
    "dx = 1\n",
    "\n",
    "Q96 = 2**96\n",
    "sqrtp_cur = lp.slot0.sqrtPriceX96/Q96 # convert from Q96 to human\n",
    "\n",
    "gamma = 997/1000 \n",
    "x = lp.get_reserve(eth)\n",
    "y = lp.get_reserve(dai)\n",
    "L = lp.get_liquidity()\n",
    "\n",
    "sqrtp_next = 1/(1/sqrtp_cur + (gamma*dx)/(L))\n",
    "dy = L * (sqrtp_cur - sqrtp_next)\n",
    "\n",
    "print(f'We receive {dy:.5f} DAI for {dx} ETH')"
   ]
  },
  {
   "cell_type": "code",
   "execution_count": 366,
   "id": "8c1a5a3f-4b74-4bee-b3ce-733a419bbcb9",
   "metadata": {},
   "outputs": [
    {
     "name": "stdout",
     "output_type": "stream",
     "text": [
      "Exchange ETH-TKN (LP)\n",
      "Real Reserves:   ETH = 1001.0000000000001, TKN = 999003.9930189601\n",
      "Gross Liquidity: 31622.776601683796 \n",
      "\n",
      "We receive 996.00698 DAI for 1 ETH\n",
      "Confirm price: (sqrtp_next^2)=998.008978 vs (actual price)=998.008978\n"
     ]
    }
   ],
   "source": [
    "out = Swap().apply(lp, eth, user_nm, dx)\n",
    "lp.summary()\n",
    "\n",
    "print(f'We receive {out:.5f} DAI for {dx} ETH')\n",
    "print(f'Confirm price: (sqrtp_next^2)={sqrtp_next**2:.6f} vs (actual price)={lp.get_price(eth):.6f}') "
   ]
  }
 ],
 "metadata": {
  "kernelspec": {
   "display_name": "Python 3 (ipykernel)",
   "language": "python",
   "name": "python3"
  },
  "language_info": {
   "codemirror_mode": {
    "name": "ipython",
    "version": 3
   },
   "file_extension": ".py",
   "mimetype": "text/x-python",
   "name": "python",
   "nbconvert_exporter": "python",
   "pygments_lexer": "ipython3",
   "version": "3.10.0rc2"
  }
 },
 "nbformat": 4,
 "nbformat_minor": 5
}
