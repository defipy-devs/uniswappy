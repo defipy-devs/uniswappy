{
 "cells": [
  {
   "cell_type": "markdown",
   "id": "8ee9b46b-75c6-4f77-b113-98766534604c",
   "metadata": {},
   "source": [
    "# Abstract Interface (V3)\n",
    "\n",
    "**Join()**: joins X and Y amounts to pool <br>\n",
    "**Swap()**: swaps X for Y (and vice verse) <br>\n",
    "**AddLiquidity()**: adds liquidity using only X or Y amounts <br>\n",
    "**RemoveLiquidity()**: removes liquidity using only X or Y amounts <br>\n",
    "**SwapDeposit()**: deposit desired token -> perform approx. 50% swap ->  perform approx. 50/50 deposit (exact percentages are calculated) <br>\n",
    "**WithdrawSwap()**: perform approx. 50/50 withdraw  -> swap remaining approx. 50% -> return desired token (exact percentages are calculated) <br>"
   ]
  },
  {
   "cell_type": "code",
   "execution_count": 1,
   "id": "440f92b5-615b-4550-83d6-a3e8c2875184",
   "metadata": {},
   "outputs": [],
   "source": [
    "from uniswappy import *"
   ]
  },
  {
   "cell_type": "code",
   "execution_count": 2,
   "id": "1e68a541-b6c0-4733-949d-d6ac123f2b72",
   "metadata": {},
   "outputs": [],
   "source": [
    "user_nm = 'user0'\n",
    "eth_amount = 1000\n",
    "tkn_amount = 100000\n",
    "\n",
    "fee = UniV3Utils.FeeAmount.MEDIUM\n",
    "tick_spacing = UniV3Utils.TICK_SPACINGS[fee]\n",
    "lwr_tick = UniV3Utils.getMinTick(tick_spacing)\n",
    "upr_tick = UniV3Utils.getMaxTick(tick_spacing)"
   ]
  },
  {
   "cell_type": "markdown",
   "id": "a8174d88-cd4e-43ff-8be0-bc43f678eb9b",
   "metadata": {},
   "source": [
    "### 📘 Join\n",
    "\n",
    "* **Class**: 📘 ``uniswappy.process.Join`` \n",
    "    * **Purpose**: Simplifies initial liquidity addition to Uniswap V2 pools.\n",
    "    * **Methods**:\n",
    "        * ``apply(pool, user: str, amount0: float, amount1: float)``\n",
    "            * **Parameters**:\n",
    "                * ``pool``: Pool instance (e.g., created via Primitive Interface).\n",
    "                * ``user``: User address.\n",
    "                * ``amount0``: Amount of token0.\n",
    "                * ``amount1``: Amount of token1.\n",
    "                * ``lwr_tick``: Lower tick of the position.\n",
    "                * ``upr_tick``: Upper tick of the position.\n",
    "    * **Output**: Liquidity added to the pool."
   ]
  },
  {
   "cell_type": "code",
   "execution_count": 3,
   "id": "1e5f4597-be69-4eec-ac30-ddbd812b3df0",
   "metadata": {},
   "outputs": [
    {
     "name": "stdout",
     "output_type": "stream",
     "text": [
      "Exchange ETH-TKN (LP)\n",
      "Real Reserves:   ETH = 1000.0, TKN = 100000.0\n",
      "Gross Liquidity: 10000.0 \n",
      "\n"
     ]
    }
   ],
   "source": [
    "eth = ERC20(\"ETH\", \"0x09\")\n",
    "tkn = ERC20(\"TKN\", \"0x111\")\n",
    "\n",
    "exchg_data = UniswapExchangeData(tkn0 = eth, tkn1 = tkn, symbol=\"LP\", \n",
    "                                   address=\"0x011\", version = 'V3', \n",
    "                                   tick_spacing = tick_spacing, \n",
    "                                   fee = fee)\n",
    "\n",
    "factory = UniswapFactory(\"ETH pool factory\", \"0x2\")\n",
    "lp = factory.deploy(exchg_data)\n",
    "\n",
    "out_v3 = Join().apply(lp, user_nm, eth_amount, tkn_amount, lwr_tick, upr_tick)\n",
    "lp.summary()"
   ]
  },
  {
   "cell_type": "markdown",
   "id": "4d1a3d37-a5b7-42c9-84f6-35a049bf4826",
   "metadata": {},
   "source": [
    "### 📘 Swap\n",
    "\n",
    "* **Class**: 📘 ``uniswappy.process.Swap`` \n",
    "    * **Purpose**: Facilitates token swaps on Uniswap V2 pools with slippage tolerance and deadline control.\n",
    "    * **Methods**:\n",
    "        * ``apply(pool, token_in: ERC20, user: str, amount_in: float)``\n",
    "            * **Parameters**:\n",
    "                * ``pool``: Pool instance to perform the swap on.\n",
    "                * ``user``: ERC20 token to swap from.\n",
    "                * ``user``: User address (string) executing the swap.\n",
    "                * ``amount_in``: Amount of `token_in` to swap.\n",
    "    * **Output**: Executes the swap from `token_in` to `token_out` for the user"
   ]
  },
  {
   "cell_type": "code",
   "execution_count": 4,
   "id": "b1d1f2c2-a3c5-40dc-956b-bc6390fd7789",
   "metadata": {},
   "outputs": [
    {
     "name": "stdout",
     "output_type": "stream",
     "text": [
      "Exchange ETH-TKN (LP)\n",
      "Real Reserves:   ETH = 1000.0, TKN = 100000.0\n",
      "Gross Liquidity: 10000.0 \n",
      "\n",
      "Exchange ETH-TKN (LP)\n",
      "Real Reserves:   ETH = 990.1284196560293, TKN = 101000.0\n",
      "Gross Liquidity: 10000.0 \n",
      "\n"
     ]
    }
   ],
   "source": [
    "eth = ERC20(\"ETH\", \"0x09\")\n",
    "tkn = ERC20(\"TKN\", \"0x111\")\n",
    "\n",
    "exchg_data = UniswapExchangeData(tkn0 = eth, tkn1 = tkn, symbol=\"LP\", \n",
    "                                   address=\"0x011\", version = 'V3', \n",
    "                                   tick_spacing = tick_spacing, \n",
    "                                   fee = fee)\n",
    "\n",
    "factory = UniswapFactory(\"ETH pool factory\", \"0x2\")\n",
    "lp = factory.deploy(exchg_data)\n",
    "\n",
    "out_v3 = Join().apply(lp, user_nm, eth_amount, tkn_amount, lwr_tick, upr_tick)\n",
    "lp.summary()\n",
    "\n",
    "out = Swap().apply(lp, tkn, user_nm, 1000)\n",
    "lp.summary()"
   ]
  },
  {
   "cell_type": "markdown",
   "id": "865bc323-fd14-42b5-9cfd-26d923a39f23",
   "metadata": {},
   "source": [
    "* tkn1 for tkn0"
   ]
  },
  {
   "cell_type": "code",
   "execution_count": 5,
   "id": "901298ea-eb06-479d-b05f-711da5d80331",
   "metadata": {},
   "outputs": [
    {
     "name": "stdout",
     "output_type": "stream",
     "text": [
      "Exchange ETH-TKN (LP)\n",
      "Real Reserves:   ETH = 1000.0, TKN = 100000.0\n",
      "Gross Liquidity: 10000.0 \n",
      "\n",
      "Exchange ETH-TKN (LP)\n",
      "Real Reserves:   ETH = 1010.0, TKN = 99012.84196560294\n",
      "Gross Liquidity: 10000.0 \n",
      "\n"
     ]
    }
   ],
   "source": [
    "eth = ERC20(\"ETH\", \"0x09\")\n",
    "tkn = ERC20(\"TKN\", \"0x111\")\n",
    "\n",
    "exchg_data = UniswapExchangeData(tkn0 = eth, tkn1 = tkn, symbol=\"LP\", \n",
    "                                   address=\"0x011\", version = 'V3', \n",
    "                                   tick_spacing = tick_spacing, \n",
    "                                   fee = fee)\n",
    "\n",
    "factory = UniswapFactory(\"ETH pool factory\", \"0x2\")\n",
    "lp = factory.deploy(exchg_data)\n",
    "\n",
    "out_v3 = Join().apply(lp, user_nm, eth_amount, tkn_amount, lwr_tick, upr_tick)\n",
    "lp.summary()\n",
    "\n",
    "out = Swap().apply(lp, eth, user_nm, 10)\n",
    "lp.summary()"
   ]
  },
  {
   "cell_type": "markdown",
   "id": "1f6e9045-2637-4a29-8577-95d07ba9343e",
   "metadata": {},
   "source": [
    "### 📘 AddLiquidity\n",
    "\n",
    "* **Class**: 📘 ``uniswappy.process.AddLiquidity`` \n",
    "    * **Purpose**: Adds liquidity to existing Uniswap V2 pools, handling token amounts and liquidity tokens minting.\n",
    "    * **Methods**:\n",
    "        * ``apply(pool, token_in: ERC20, user: str, amount_in: float)``\n",
    "            * **Parameters**:\n",
    "                * ``pool``: Pool instance to perform the swap on.\n",
    "                * ``user``: ERC20 token to swap from.\n",
    "                * ``user``: User address (string) providing liquidity.\n",
    "                * ``amount_in``: Amount of `token_in` to add; the other token is calculated\n",
    "                * ``lwr_tick``: Lower tick of the position.\n",
    "                * ``upr_tick``: Upper tick of the position.\n",
    "    * **Output**: Adds the specified token amounts to the pool and mints liquidity tokens to the user."
   ]
  },
  {
   "cell_type": "code",
   "execution_count": 6,
   "id": "1fd83152-c93e-491d-89bf-e780ba079dd5",
   "metadata": {},
   "outputs": [
    {
     "name": "stdout",
     "output_type": "stream",
     "text": [
      "Exchange ETH-TKN (LP)\n",
      "Real Reserves:   ETH = 1000.0, TKN = 100000.0\n",
      "Gross Liquidity: 10000.0 \n",
      "\n",
      "Exchange ETH-TKN (LP)\n",
      "Real Reserves:   ETH = 1010.0, TKN = 101000.0\n",
      "Gross Liquidity: 10100.0 \n",
      "\n"
     ]
    }
   ],
   "source": [
    "eth = ERC20(\"ETH\", \"0x09\")\n",
    "tkn = ERC20(\"TKN\", \"0x111\")\n",
    "\n",
    "exchg_data = UniswapExchangeData(tkn0 = eth, tkn1 = tkn, symbol=\"LP\", \n",
    "                                   address=\"0x011\", version = 'V3', \n",
    "                                   tick_spacing = tick_spacing, \n",
    "                                   fee = fee)\n",
    "\n",
    "factory = UniswapFactory(\"ETH pool factory\", \"0x2\")\n",
    "lp = factory.deploy(exchg_data)\n",
    "\n",
    "out_v3 = Join().apply(lp, user_nm, eth_amount, tkn_amount, lwr_tick, upr_tick)\n",
    "lp.summary()\n",
    "\n",
    "AddLiquidity().apply(lp, tkn, user_nm, 1000, lwr_tick, upr_tick)\n",
    "lp.summary()"
   ]
  },
  {
   "cell_type": "markdown",
   "id": "7667ae3b-93a9-4253-948e-27653c7852bf",
   "metadata": {},
   "source": [
    "* add tkn0 and determine tkn1"
   ]
  },
  {
   "cell_type": "code",
   "execution_count": 7,
   "id": "f65c0db1-f95f-4274-930f-e2633066605c",
   "metadata": {},
   "outputs": [
    {
     "name": "stdout",
     "output_type": "stream",
     "text": [
      "Exchange ETH-TKN (LP)\n",
      "Real Reserves:   ETH = 1000.0, TKN = 100000.0\n",
      "Gross Liquidity: 10000.0 \n",
      "\n",
      "Exchange ETH-TKN (LP)\n",
      "Real Reserves:   ETH = 1100.0, TKN = 110000.0\n",
      "Gross Liquidity: 11000.0 \n",
      "\n"
     ]
    }
   ],
   "source": [
    "eth = ERC20(\"ETH\", \"0x09\")\n",
    "tkn = ERC20(\"TKN\", \"0x111\")\n",
    "\n",
    "exchg_data = UniswapExchangeData(tkn0 = eth, tkn1 = tkn, symbol=\"LP\", \n",
    "                                   address=\"0x011\", version = 'V3', \n",
    "                                   tick_spacing = tick_spacing, \n",
    "                                   fee = fee)\n",
    "\n",
    "factory = UniswapFactory(\"ETH pool factory\", \"0x2\")\n",
    "lp = factory.deploy(exchg_data)\n",
    "\n",
    "out_v3 = Join().apply(lp, user_nm, eth_amount, tkn_amount, lwr_tick, upr_tick)\n",
    "lp.summary()\n",
    "\n",
    "AddLiquidity().apply(lp, eth, user_nm, 100, lwr_tick, upr_tick)\n",
    "lp.summary()"
   ]
  },
  {
   "cell_type": "markdown",
   "id": "a05d867f-0e2b-43dc-9a22-23b650290c74",
   "metadata": {},
   "source": [
    "### 📘 RemoveLiquidity\n",
    "\n",
    "* **Class**: 📘 ``uniswappy.process.RemoveLiquidity`` \n",
    "    * **Purpose**: Removes liquidity from Uniswap V2 pools, returning underlying tokens to the user.\n",
    "    * **Methods**:\n",
    "        * ``apply(pool, token_out: ERC20, user: str, amount_out: float)``\n",
    "            * **Parameters**:\n",
    "                * ``pool``: Pool instance to perform the swap on.\n",
    "                * ``token_out``: ERC20 token to swap from.\n",
    "                * ``user``: User address (string) withdrawing liquidity.\n",
    "                * ``amount_out``: Amount of `token_out` to remove; the other token is calculated\n",
    "                * ``lwr_tick``: Lower tick of the position.\n",
    "                * ``upr_tick``: Upper tick of the position.\n",
    "    * **Output**: Removes the specified liquidity tokens and transfers the corresponding amounts of underlying tokens back to the user."
   ]
  },
  {
   "cell_type": "code",
   "execution_count": 8,
   "id": "2300eb80-153d-4538-a6f8-dd34839f42c2",
   "metadata": {},
   "outputs": [
    {
     "name": "stdout",
     "output_type": "stream",
     "text": [
      "Exchange ETH-TKN (LP)\n",
      "Real Reserves:   ETH = 1000.0, TKN = 100000.0\n",
      "Gross Liquidity: 10000.0 \n",
      "\n",
      "Exchange ETH-TKN (LP)\n",
      "Real Reserves:   ETH = 990.0, TKN = 99000.0\n",
      "Gross Liquidity: 9900.0 \n",
      "\n"
     ]
    }
   ],
   "source": [
    "eth = ERC20(\"ETH\", \"0x09\")\n",
    "tkn = ERC20(\"TKN\", \"0x111\")\n",
    "\n",
    "exchg_data = UniswapExchangeData(tkn0 = eth, tkn1 = tkn, symbol=\"LP\", \n",
    "                                   address=\"0x011\", version = 'V3', \n",
    "                                   tick_spacing = tick_spacing, \n",
    "                                   fee = fee)\n",
    "\n",
    "factory = UniswapFactory(\"ETH pool factory\", \"0x2\")\n",
    "lp = factory.deploy(exchg_data)\n",
    "\n",
    "out_v3 = Join().apply(lp, user_nm, eth_amount, tkn_amount, lwr_tick, upr_tick)\n",
    "lp.summary()\n",
    "\n",
    "RemoveLiquidity().apply(lp, tkn, user_nm, 1000, lwr_tick, upr_tick)\n",
    "lp.summary()"
   ]
  },
  {
   "cell_type": "markdown",
   "id": "33e01ddc-4751-4db3-95c3-0f4b76286cdf",
   "metadata": {},
   "source": [
    "* remove tkn0 and determine tkn1"
   ]
  },
  {
   "cell_type": "code",
   "execution_count": 9,
   "id": "5cdf6d7b-049d-42cc-b815-ba5978112c83",
   "metadata": {},
   "outputs": [
    {
     "name": "stdout",
     "output_type": "stream",
     "text": [
      "Exchange ETH-TKN (LP)\n",
      "Real Reserves:   ETH = 1000.0, TKN = 100000.0\n",
      "Gross Liquidity: 10000.0 \n",
      "\n",
      "Exchange ETH-TKN (LP)\n",
      "Real Reserves:   ETH = 990.0, TKN = 99000.0\n",
      "Gross Liquidity: 9900.0 \n",
      "\n"
     ]
    }
   ],
   "source": [
    "eth = ERC20(\"ETH\", \"0x09\")\n",
    "tkn = ERC20(\"TKN\", \"0x111\")\n",
    "\n",
    "exchg_data = UniswapExchangeData(tkn0 = eth, tkn1 = tkn, symbol=\"LP\", \n",
    "                                   address=\"0x011\", version = 'V3', \n",
    "                                   tick_spacing = tick_spacing, \n",
    "                                   fee = fee)\n",
    "\n",
    "factory = UniswapFactory(\"ETH pool factory\", \"0x2\")\n",
    "lp = factory.deploy(exchg_data)\n",
    "\n",
    "out_v3 = Join().apply(lp, user_nm, eth_amount, tkn_amount, lwr_tick, upr_tick)\n",
    "lp.summary()\n",
    "\n",
    "RemoveLiquidity().apply(lp, eth, user_nm, 10, lwr_tick, upr_tick)\n",
    "lp.summary()"
   ]
  },
  {
   "cell_type": "markdown",
   "id": "a244262b-a3d9-4096-9fdc-73d964c59c4d",
   "metadata": {},
   "source": [
    "### 📘 SwapDeposit\n",
    "\n",
    "* **Class**: 📘 ``uniswappy.process.SwapDeposit`` \n",
    "    * **Purpose**: Combines token swapping and liquidity deposit into a single operation on Uniswap V2 pools.\n",
    "    * **Methods**:\n",
    "        * ``apply(pool, token_in: ERC20, user: str, amount_in: float)``\n",
    "            * **Parameters**:\n",
    "                * `pool`: Pool instance from which liquidity will be removed.\n",
    "                * `token_in`: ERC20 object of the token to remove from.\n",
    "                * `user`: User address (string) withdrawing liquidity.\n",
    "                * `amount_in`: Amount of token to swap in.\n",
    "                * ``lwr_tick``: Lower tick of the position.\n",
    "                * ``upr_tick``: Upper tick of the position.\n",
    "    * **Output**: Executes the swap of `token_in` and deposits the specified amounts of token0 and token1 into the pool as liquidity for the user."
   ]
  },
  {
   "cell_type": "code",
   "execution_count": 10,
   "id": "dd65eee3-b8d0-4b83-8c04-cf99ea55fcc4",
   "metadata": {},
   "outputs": [
    {
     "name": "stdout",
     "output_type": "stream",
     "text": [
      "Exchange ETH-TKN (LP)\n",
      "Real Reserves:   ETH = 1000.0, TKN = 100000.0\n",
      "Gross Liquidity: 10000.0 \n",
      "\n",
      "Exchange ETH-TKN (LP)\n",
      "Real Reserves:   ETH = 1000.0, TKN = 100100.00000001659\n",
      "Gross Liquidity: 10004.991244978852 \n",
      "\n"
     ]
    }
   ],
   "source": [
    "eth = ERC20(\"ETH\", \"0x09\")\n",
    "tkn = ERC20(\"TKN\", \"0x111\")\n",
    "\n",
    "exchg_data = UniswapExchangeData(tkn0 = eth, tkn1 = tkn, symbol=\"LP\", \n",
    "                                   address=\"0x011\", version = 'V3', \n",
    "                                   tick_spacing = tick_spacing, \n",
    "                                   fee = fee)\n",
    "\n",
    "factory = UniswapFactory(\"ETH pool factory\", \"0x2\")\n",
    "lp = factory.deploy(exchg_data)\n",
    "\n",
    "Join().apply(lp, user_nm, eth_amount, tkn_amount, lwr_tick, upr_tick)\n",
    "lp.summary()\n",
    "\n",
    "SwapDeposit().apply(lp, tkn, user_nm, 100, lwr_tick, upr_tick)\n",
    "lp.summary() "
   ]
  },
  {
   "cell_type": "markdown",
   "id": "ab3beefc-0392-4ea4-a6f2-6151eda3ea5e",
   "metadata": {},
   "source": [
    "* swap exact tkn0 for tkn1\n",
    "* deposit desired token -> perform 50% swap ->  perform 50/50 deposit"
   ]
  },
  {
   "cell_type": "code",
   "execution_count": 11,
   "id": "e411ba09-3688-4998-94b4-c0453f4700d9",
   "metadata": {},
   "outputs": [
    {
     "name": "stdout",
     "output_type": "stream",
     "text": [
      "Exchange ETH-TKN (LP)\n",
      "Real Reserves:   ETH = 1000.0, TKN = 100000.0\n",
      "Gross Liquidity: 10000.0 \n",
      "\n",
      "Exchange ETH-TKN (LP)\n",
      "Real Reserves:   ETH = 1009.9999999867499, TKN = 100000.0\n",
      "Gross Liquidity: 10049.801066245287 \n",
      "\n"
     ]
    }
   ],
   "source": [
    "eth = ERC20(\"ETH\", \"0x09\")\n",
    "tkn = ERC20(\"TKN\", \"0x111\")\n",
    "\n",
    "exchg_data = UniswapExchangeData(tkn0 = eth, tkn1 = tkn, symbol=\"LP\", \n",
    "                                   address=\"0x011\", version = 'V3', \n",
    "                                   tick_spacing = tick_spacing, \n",
    "                                   fee = fee)\n",
    "\n",
    "factory = UniswapFactory(\"ETH pool factory\", \"0x2\")\n",
    "lp = factory.deploy(exchg_data)\n",
    "\n",
    "Join().apply(lp, user_nm, eth_amount, tkn_amount, lwr_tick, upr_tick)\n",
    "lp.summary()\n",
    "\n",
    "SwapDeposit().apply(lp, eth, user_nm, 10, lwr_tick, upr_tick)\n",
    "lp.summary() "
   ]
  },
  {
   "cell_type": "markdown",
   "id": "b28f8cfb-5073-4314-9341-17b30bde3886",
   "metadata": {},
   "source": [
    "### 📘 WithdrawSwap\n",
    "\n",
    "* **Class**: 📘 ``uniswappy.process.WithdrawSwap`` \n",
    "    * **Purpose**: Facilitates withdrawing liquidity from a Uniswap V2 pool and swapping the withdrawn tokens into a desired token.\n",
    "    * **Methods**:\n",
    "        * ``apply(pool, token_in: ERC20, user: str, amount_in: float)``\n",
    "            * **Parameters**:\n",
    "                * `pool`: Pool instance from which liquidity will be removed.\n",
    "                * `token_in`: ERC20 object of the token to remove from.\n",
    "                * `user`: User address (string) withdrawing liquidity.\n",
    "                * `amount_in`:Amount of token to swap out.\n",
    "                * ``lwr_tick``: Lower tick of the position.\n",
    "                * ``upr_tick``: Upper tick of the position.\n",
    "    * **Output**: Removes liquidity from the pool, swaps the underlying tokens to `token_out`, and transfers the resulting tokens to the user, respecting slippage and deadline constraints."
   ]
  },
  {
   "cell_type": "code",
   "execution_count": 12,
   "id": "90fa05cd-f102-4ccc-bf7f-38cfb6d90fe6",
   "metadata": {},
   "outputs": [
    {
     "name": "stdout",
     "output_type": "stream",
     "text": [
      "Exchange ETH-TKN (LP)\n",
      "Real Reserves:   ETH = 1000.0, TKN = 100000.0\n",
      "Gross Liquidity: 10000.0 \n",
      "\n",
      "Exchange ETH-TKN (LP)\n",
      "Real Reserves:   ETH = 999.0000000000001, TKN = 100000.0\n",
      "Gross Liquidity: 9994.991239989282 \n",
      "\n"
     ]
    }
   ],
   "source": [
    "eth = ERC20(\"ETH\", \"0x09\")\n",
    "tkn = ERC20(\"TKN\", \"0x111\")\n",
    "\n",
    "exchg_data = UniswapExchangeData(tkn0 = eth, tkn1 = tkn, symbol=\"LP\", \n",
    "                                   address=\"0x011\", version = 'V3', \n",
    "                                   tick_spacing = tick_spacing, \n",
    "                                   fee = fee)\n",
    "\n",
    "factory = UniswapFactory(\"ETH pool factory\", \"0x2\")\n",
    "lp = factory.deploy(exchg_data)\n",
    "\n",
    "Join().apply(lp, user_nm, eth_amount, tkn_amount, lwr_tick, upr_tick)\n",
    "lp.summary()\n",
    "\n",
    "WithdrawSwap().apply(lp, eth, user_nm, 1, lwr_tick, upr_tick)\n",
    "lp.summary()"
   ]
  },
  {
   "cell_type": "markdown",
   "id": "2a60bf10-f474-4224-b02b-127dcd77b1d6",
   "metadata": {},
   "source": [
    "* withdraw exact tkn0\n",
    "* withdraw LP based upon expected amount of tkn"
   ]
  },
  {
   "cell_type": "code",
   "execution_count": 13,
   "id": "e6f8a1eb-d1ea-45bd-a6fa-30f206f5c48b",
   "metadata": {},
   "outputs": [
    {
     "name": "stdout",
     "output_type": "stream",
     "text": [
      "Exchange ETH-TKN (LP)\n",
      "Real Reserves:   ETH = 1000.0, TKN = 100000.0\n",
      "Gross Liquidity: 10000.0 \n",
      "\n",
      "Exchange ETH-TKN (LP)\n",
      "Real Reserves:   ETH = 1000.0, TKN = 99900.00000000001\n",
      "Gross Liquidity: 9994.991239989282 \n",
      "\n"
     ]
    }
   ],
   "source": [
    "eth = ERC20(\"ETH\", \"0x09\")\n",
    "tkn = ERC20(\"TKN\", \"0x111\")\n",
    "\n",
    "exchg_data = UniswapExchangeData(tkn0 = eth, tkn1 = tkn, symbol=\"LP\", \n",
    "                                   address=\"0x011\", version = 'V3', \n",
    "                                   tick_spacing = tick_spacing, \n",
    "                                   fee = fee)\n",
    "\n",
    "factory = UniswapFactory(\"ETH pool factory\", \"0x2\")\n",
    "lp = factory.deploy(exchg_data)\n",
    "\n",
    "Join().apply(lp, user_nm, eth_amount, tkn_amount, lwr_tick, upr_tick)\n",
    "lp.summary()\n",
    "\n",
    "expected_amount_out = WithdrawSwap().apply(lp, tkn, user_nm, 100,lwr_tick, upr_tick)\n",
    "lp.summary()"
   ]
  }
 ],
 "metadata": {
  "kernelspec": {
   "display_name": "py3",
   "language": "python",
   "name": "py3"
  },
  "language_info": {
   "codemirror_mode": {
    "name": "ipython",
    "version": 3
   },
   "file_extension": ".py",
   "mimetype": "text/x-python",
   "name": "python",
   "nbconvert_exporter": "python",
   "pygments_lexer": "ipython3",
   "version": "3.10.0rc2"
  }
 },
 "nbformat": 4,
 "nbformat_minor": 5
}
