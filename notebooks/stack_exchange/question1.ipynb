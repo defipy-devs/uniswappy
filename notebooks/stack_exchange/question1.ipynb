{
 "cells": [
  {
   "cell_type": "markdown",
   "id": "957ebd1c-f88a-45c3-b346-508b97787f05",
   "metadata": {},
   "source": [
    "### Ethereuem Stack Exchange Answer\n",
    "#### Q: Swapping stablecoins on a CFMM\n",
    "* https://ethereum.stackexchange.com/questions/133387/swapping-stablecoins-on-a-cfmm"
   ]
  },
  {
   "cell_type": "code",
   "execution_count": 1,
   "id": "1e27bbf9-cf4a-416d-bc16-34f9e27150b7",
   "metadata": {},
   "outputs": [],
   "source": [
    "from uniswappy import *"
   ]
  },
  {
   "cell_type": "code",
   "execution_count": 2,
   "id": "abe801fe-baae-4ecb-9999-ba169a0c0b04",
   "metadata": {},
   "outputs": [],
   "source": [
    "user_nm = 'user0'\n",
    "usdc_amount = 1000\n",
    "dai_amount = 1000"
   ]
  },
  {
   "cell_type": "code",
   "execution_count": 3,
   "id": "f39111f6-064a-4f1a-9bb9-b23aec78412c",
   "metadata": {},
   "outputs": [
    {
     "name": "stdout",
     "output_type": "stream",
     "text": [
      "Exchange USDC-DAI (LP)\n",
      "Reserves: USDC = 1000.0, DAI = 1000.0\n",
      "Liquidity: 1000.0 \n",
      "\n"
     ]
    }
   ],
   "source": [
    "usdc = ERC20(\"USDC\", \"0x111\")\n",
    "dai = ERC20(\"DAI\", \"0x09\")\n",
    "exchg_data = UniswapExchangeData(tkn0 = usdc, tkn1 = dai, symbol=\"LP\", address=\"0x011\")\n",
    "\n",
    "factory = UniswapFactory(\"ETH pool factory\", \"0x2\")\n",
    "lp = factory.deploy(exchg_data)\n",
    "lp.add_liquidity(user_nm, usdc_amount, dai_amount, usdc_amount, dai_amount)\n",
    "lp.summary()"
   ]
  },
  {
   "cell_type": "code",
   "execution_count": 4,
   "id": "2dea8bbb-4fd7-4f2b-9d98-ca81ed4a76cd",
   "metadata": {},
   "outputs": [
    {
     "name": "stdout",
     "output_type": "stream",
     "text": [
      "Exchange USDC-DAI (LP)\n",
      "Reserves: USDC = 1100.0, DAI = 909.338910611985\n",
      "Liquidity: 1000.0 \n",
      "\n",
      "100 USDC gets swapped for 90.66108938801491 DAI\n"
     ]
    }
   ],
   "source": [
    "usdc_amt = 100\n",
    "out = Swap().apply(lp, usdc, user_nm, 100)\n",
    "lp.summary()\n",
    "\n",
    "print(f'{usdc_amt} {usdc.token_name} gets swapped for {out} {dai.token_name}')"
   ]
  }
 ],
 "metadata": {
  "kernelspec": {
   "display_name": "Python 3 (ipykernel)",
   "language": "python",
   "name": "python3"
  },
  "language_info": {
   "codemirror_mode": {
    "name": "ipython",
    "version": 3
   },
   "file_extension": ".py",
   "mimetype": "text/x-python",
   "name": "python",
   "nbconvert_exporter": "python",
   "pygments_lexer": "ipython3",
   "version": "3.10.0rc2"
  }
 },
 "nbformat": 4,
 "nbformat_minor": 5
}
