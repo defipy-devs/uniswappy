{
 "cells": [
  {
   "cell_type": "markdown",
   "id": "11c8b0b4-354a-43a8-8e85-9f33619291e9",
   "metadata": {},
   "source": [
    "# Abstract Interface (V3)\n",
    "### Machine precision tests for solidity vetting"
   ]
  },
  {
   "cell_type": "code",
   "execution_count": 1,
   "id": "55367776-83d1-45ef-b427-c2cc64c87878",
   "metadata": {},
   "outputs": [],
   "source": [
    "from uniswappy import *"
   ]
  },
  {
   "cell_type": "code",
   "execution_count": 2,
   "id": "79c51836-efde-4199-8aff-ffc6fb2276a8",
   "metadata": {},
   "outputs": [],
   "source": [
    "fee = UniV3Utils.FeeAmount.MEDIUM\n",
    "tick_spacing = UniV3Utils.TICK_SPACINGS[fee]\n",
    "lwr_tick = UniV3Utils.getMinTick(tick_spacing)\n",
    "upr_tick = UniV3Utils.getMaxTick(tick_spacing)"
   ]
  },
  {
   "cell_type": "code",
   "execution_count": 3,
   "id": "07c46b65-7dc9-483a-9961-8cf3336605c8",
   "metadata": {},
   "outputs": [],
   "source": [
    "user_nm = 'user_machine_check'\n",
    "eth_amount = UniV3Helper().dec2gwei(1000)\n",
    "dai_amount = UniV3Helper().dec2gwei(100000) "
   ]
  },
  {
   "cell_type": "markdown",
   "id": "85d66a5e-91d5-4b1b-b559-67be288605de",
   "metadata": {},
   "source": [
    "### 1. Check abstract interface"
   ]
  },
  {
   "cell_type": "code",
   "execution_count": 4,
   "id": "4cee5189-a166-4ddd-9510-44fd5561d032",
   "metadata": {},
   "outputs": [
    {
     "name": "stdout",
     "output_type": "stream",
     "text": [
      "Exchange ETH-DAI (LP)\n",
      "Real Reserves:   ETH = 999999999999999999457, DAI = 99999999999999999999457\n",
      "Gross Liquidity: 10000000000000000000000 \n",
      "\n"
     ]
    }
   ],
   "source": [
    "dai = ERC20(\"DAI\", \"0x111\")\n",
    "eth = ERC20(\"ETH\", \"0x09\")\n",
    "\n",
    "exchg_data = UniswapExchangeData(tkn0 = eth, tkn1 = dai, symbol=\"LP\", \n",
    "                                   address=\"0x011\", version = 'V3', \n",
    "                                   tick_spacing = tick_spacing, \n",
    "                                   precision = UniswapExchangeData.TYPE_GWEI,\n",
    "                                   fee = fee)\n",
    "\n",
    "factory = UniswapFactory(\"ETH pool factory\", \"0x2\")\n",
    "lp = factory.deploy(exchg_data)\n",
    "\n",
    "out_v3 = Join().apply(lp, user_nm, eth_amount, dai_amount, lwr_tick, upr_tick)\n",
    "lp.summary()"
   ]
  },
  {
   "cell_type": "code",
   "execution_count": 5,
   "id": "94b5dc5b-38b6-475b-aaef-667cfcf5da95",
   "metadata": {},
   "outputs": [
    {
     "name": "stdout",
     "output_type": "stream",
     "text": [
      "Exchange ETH-DAI (LP)\n",
      "Real Reserves:   ETH = 999999999999999999457, DAI = 99999999999999999999457\n",
      "Gross Liquidity: 10000000000000000000000 \n",
      "\n",
      "Exchange ETH-DAI (LP)\n",
      "Real Reserves:   ETH = 1009999999999999999452, DAI = 100999999999999999999452\n",
      "Gross Liquidity: 10100000000000000000000 \n",
      "\n"
     ]
    }
   ],
   "source": [
    "dai = ERC20(\"DAI\", \"0x111\")\n",
    "eth = ERC20(\"ETH\", \"0x09\")\n",
    "\n",
    "exchg_data = UniswapExchangeData(tkn0 = eth, tkn1 = dai, symbol=\"LP\", \n",
    "                                   address=\"0x011\", version = 'V3', \n",
    "                                   tick_spacing = tick_spacing, \n",
    "                                   precision = UniswapExchangeData.TYPE_GWEI,\n",
    "                                   fee = fee)\n",
    "\n",
    "factory = UniswapFactory(\"ETH pool factory\", \"0x2\")\n",
    "lp = factory.deploy(exchg_data)\n",
    "\n",
    "Join().apply(lp, user_nm, eth_amount, dai_amount, lwr_tick, upr_tick)\n",
    "lp.summary()\n",
    "\n",
    "AddLiquidity().apply(lp, eth, user_nm, UniV3Helper().dec2gwei(10), lwr_tick, upr_tick)\n",
    "lp.summary()"
   ]
  },
  {
   "cell_type": "code",
   "execution_count": 6,
   "id": "d886546f-854a-451d-82df-4ee7bc244cc3",
   "metadata": {},
   "outputs": [
    {
     "name": "stdout",
     "output_type": "stream",
     "text": [
      "Exchange ETH-DAI (LP)\n",
      "Real Reserves:   ETH = 999999999999999999457, DAI = 99999999999999999999457\n",
      "Gross Liquidity: 10000000000000000000000 \n",
      "\n",
      "Exchange ETH-DAI (LP)\n",
      "Real Reserves:   ETH = 899999999999999999512, DAI = 89999999999999999999512\n",
      "Gross Liquidity: 9000000000000000000000 \n",
      "\n"
     ]
    }
   ],
   "source": [
    "dai = ERC20(\"DAI\", \"0x111\")\n",
    "eth = ERC20(\"ETH\", \"0x09\")\n",
    "\n",
    "exchg_data = UniswapExchangeData(tkn0 = eth, tkn1 = dai, symbol=\"LP\", \n",
    "                                   address=\"0x011\", version = 'V3', \n",
    "                                   tick_spacing = tick_spacing, \n",
    "                                   precision = UniswapExchangeData.TYPE_GWEI,\n",
    "                                   fee = fee)\n",
    "\n",
    "factory = UniswapFactory(\"ETH pool factory\", \"0x2\")\n",
    "lp = factory.deploy(exchg_data)\n",
    "\n",
    "Join().apply(lp, user_nm, eth_amount, dai_amount, lwr_tick, upr_tick)\n",
    "lp.summary()\n",
    "\n",
    "RemoveLiquidity().apply(lp, eth, user_nm, UniV3Helper().dec2gwei(100), lwr_tick, upr_tick)\n",
    "lp.summary()"
   ]
  },
  {
   "cell_type": "code",
   "execution_count": 7,
   "id": "656c79af-aec1-488d-aae6-ee9cff2781f6",
   "metadata": {},
   "outputs": [
    {
     "name": "stdout",
     "output_type": "stream",
     "text": [
      "Exchange ETH-DAI (LP)\n",
      "Real Reserves:   ETH = 999999999999999999457, DAI = 99999999999999999999457\n",
      "Gross Liquidity: 10000000000000000000000 \n",
      "\n",
      "Exchange ETH-DAI (LP)\n",
      "Real Reserves:   ETH = 990128419656029386469, DAI = 100999999999999999999457\n",
      "Gross Liquidity: 10000000000000000000000 \n",
      "\n"
     ]
    }
   ],
   "source": [
    "dai = ERC20(\"DAI\", \"0x111\")\n",
    "eth = ERC20(\"ETH\", \"0x09\")\n",
    "\n",
    "exchg_data = UniswapExchangeData(tkn0 = eth, tkn1 = dai, symbol=\"LP\", \n",
    "                                   address=\"0x011\", version = 'V3', \n",
    "                                   tick_spacing = tick_spacing, \n",
    "                                   precision = UniswapExchangeData.TYPE_GWEI,\n",
    "                                   fee = fee)\n",
    "\n",
    "factory = UniswapFactory(\"ETH pool factory\", \"0x2\")\n",
    "lp = factory.deploy(exchg_data)\n",
    "\n",
    "Join().apply(lp, user_nm, eth_amount, dai_amount, lwr_tick, upr_tick)\n",
    "lp.summary()\n",
    "\n",
    "Swap().apply(lp, dai, user_nm, UniV3Helper().dec2gwei(1000))\n",
    "lp.summary()"
   ]
  },
  {
   "cell_type": "code",
   "execution_count": 8,
   "id": "b6e8a291-4c63-4865-8403-daf48f48e30c",
   "metadata": {},
   "outputs": [
    {
     "name": "stdout",
     "output_type": "stream",
     "text": [
      "Exchange ETH-DAI (LP)\n",
      "Real Reserves:   ETH = 999999999999999999457, DAI = 99999999999999999999457\n",
      "Gross Liquidity: 10000000000000000000000 \n",
      "\n",
      "Exchange ETH-DAI (LP)\n",
      "Real Reserves:   ETH = 989999999999999967775, DAI = 99999999999999999999457\n",
      "Gross Liquidity: 9949799447405356417024 \n",
      "\n"
     ]
    }
   ],
   "source": [
    "dai = ERC20(\"DAI\", \"0x111\")\n",
    "eth = ERC20(\"ETH\", \"0x09\")\n",
    "\n",
    "exchg_data = UniswapExchangeData(tkn0 = eth, tkn1 = dai, symbol=\"LP\", \n",
    "                                   address=\"0x011\", version = 'V3', \n",
    "                                   tick_spacing = tick_spacing, \n",
    "                                   precision = UniswapExchangeData.TYPE_GWEI,\n",
    "                                   fee = fee)\n",
    "\n",
    "factory = UniswapFactory(\"ETH pool factory\", \"0x2\")\n",
    "lp = factory.deploy(exchg_data)\n",
    "\n",
    "Join().apply(lp, user_nm, eth_amount, dai_amount, lwr_tick, upr_tick)\n",
    "lp.summary()\n",
    "\n",
    "WithdrawSwap().apply(lp, eth, user_nm, UniV3Helper().dec2gwei(10), lwr_tick, upr_tick)\n",
    "lp.summary()"
   ]
  },
  {
   "cell_type": "markdown",
   "id": "07930d7c-1e46-46a7-8d8f-f1e9b9ef8b74",
   "metadata": {},
   "source": [
    "### 2. Check quotes"
   ]
  },
  {
   "cell_type": "code",
   "execution_count": 9,
   "id": "4c7c2194-11aa-4e6c-87b8-b9735ad15d62",
   "metadata": {},
   "outputs": [
    {
     "name": "stdout",
     "output_type": "stream",
     "text": [
      "Exchange ETH-DAI (LP)\n",
      "Real Reserves:   ETH = 999999999999999999457, DAI = 99999999999999999999457\n",
      "Gross Liquidity: 10000000000000000000000 \n",
      "\n"
     ]
    }
   ],
   "source": [
    "dai = ERC20(\"DAI\", \"0x111\")\n",
    "eth = ERC20(\"ETH\", \"0x09\")\n",
    "\n",
    "exchg_data = UniswapExchangeData(tkn0 = eth, tkn1 = dai, symbol=\"LP\", \n",
    "                                   address=\"0x011\", version = 'V3', \n",
    "                                   tick_spacing = tick_spacing, \n",
    "                                   precision = UniswapExchangeData.TYPE_GWEI,\n",
    "                                   fee = fee)\n",
    "\n",
    "factory = UniswapFactory(\"ETH pool factory\", \"0x2\")\n",
    "lp = factory.deploy(exchg_data)\n",
    "\n",
    "Join().apply(lp, user_nm, eth_amount, dai_amount, lwr_tick, upr_tick)\n",
    "lp.summary()"
   ]
  },
  {
   "cell_type": "code",
   "execution_count": 10,
   "id": "23b172bf-6e04-4e8b-84be-93bb5e33da8a",
   "metadata": {},
   "outputs": [
    {
     "name": "stdout",
     "output_type": "stream",
     "text": [
      "The price of ETH in DAI is 99.99999999999999\n",
      "The price of DAI in ETH is 0.01\n"
     ]
    }
   ],
   "source": [
    "p_eth = LPQuote().get_price(lp, eth)\n",
    "p_dai = LPQuote().get_price(lp, dai)\n",
    "print(f'The price of {eth.token_name} in {dai.token_name} is {p_eth}')\n",
    "print(f'The price of {dai.token_name} in {eth.token_name} is {p_dai}')"
   ]
  },
  {
   "cell_type": "code",
   "execution_count": 11,
   "id": "117c183c-ca84-4f0b-b03f-acb9db684118",
   "metadata": {},
   "outputs": [
    {
     "name": "stdout",
     "output_type": "stream",
     "text": [
      "1000000000000000000 ETH token is worth 9969900600093062.0 DAI after swap fees\n",
      "1000000000000000000 DAI token is worth 9.960069810398763e+19 ETH after swap fees\n"
     ]
    }
   ],
   "source": [
    "amt_eth = LPQuote(include_fee = True).get_amount(lp, eth, UniV3Helper().dec2gwei(1), lwr_tick, upr_tick)\n",
    "amt_dai = LPQuote(include_fee = True).get_amount(lp, dai, UniV3Helper().dec2gwei(1), lwr_tick, upr_tick)\n",
    "print(f'{UniV3Helper().dec2gwei(1)} {eth.token_name} token is worth {amt_dai} {dai.token_name} after swap fees')\n",
    "print(f'{UniV3Helper().dec2gwei(1)} {dai.token_name} token is worth {amt_eth} {eth.token_name} after swap fees')"
   ]
  },
  {
   "cell_type": "code",
   "execution_count": 12,
   "id": "d61a1289-e47f-4e4e-8b50-5723d88a2555",
   "metadata": {},
   "outputs": [
    {
     "name": "stdout",
     "output_type": "stream",
     "text": [
      "1000000000000000000 LP token is worth 1.9969005990709152e+17 ETH\n",
      "1000000000000000000 LP token is worth 1.9905136039497507e+19 DAI\n"
     ]
    }
   ],
   "source": [
    "amt_eth = LPQuote(False).get_amount_from_lp(lp, eth, UniV3Helper().dec2gwei(1), lwr_tick, upr_tick)\n",
    "amt_dai = LPQuote().get_amount_from_lp(lp, eth, UniV3Helper().dec2gwei(1), lwr_tick, upr_tick)\n",
    "print(f'{UniV3Helper().dec2gwei(1)} LP token is worth {amt_eth} {eth.token_name}')\n",
    "print(f'{UniV3Helper().dec2gwei(1)} LP token is worth {amt_dai} {dai.token_name}')"
   ]
  }
 ],
 "metadata": {
  "kernelspec": {
   "display_name": "Python 3 (ipykernel)",
   "language": "python",
   "name": "python3"
  },
  "language_info": {
   "codemirror_mode": {
    "name": "ipython",
    "version": 3
   },
   "file_extension": ".py",
   "mimetype": "text/x-python",
   "name": "python",
   "nbconvert_exporter": "python",
   "pygments_lexer": "ipython3",
   "version": "3.10.0rc2"
  }
 },
 "nbformat": 4,
 "nbformat_minor": 5
}
