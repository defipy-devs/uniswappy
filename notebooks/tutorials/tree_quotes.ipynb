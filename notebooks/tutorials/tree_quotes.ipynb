{
 "cells": [
  {
   "cell_type": "code",
   "execution_count": 6,
   "id": "0a1b7455-a8fa-4c6e-9da2-dc6555d5d8ea",
   "metadata": {},
   "outputs": [],
   "source": [
    "from uniswappy import *  "
   ]
  },
  {
   "cell_type": "code",
   "execution_count": 7,
   "id": "f9b85cd6-06d9-462c-ae30-36b2f72b1ec4",
   "metadata": {},
   "outputs": [],
   "source": [
    "def add_liquidity1(x_tkn, y_tkn, lp_in, iVault, amt_in):\n",
    "    itkn_nm = y_tkn.token_name\n",
    "    parent_tkn = y_tkn.parent_tkn\n",
    "    parent_lp = lp_in.factory.parent_lp\n",
    "    SwapIndexMint(iVault).apply(parent_lp, parent_tkn, user_nm, amt_in)\n",
    "    mint_itkn_deposit = iVault.index_tokens[itkn_nm]['last_lp_deposit']\n",
    "    opposite_tkn = x_tkn.token_name != parent_tkn.token_name\n",
    "    tkn_amount1 = LPQuote(opposite_tkn).get_amount_from_lp(parent_lp, parent_tkn, mint_itkn_deposit) \n",
    "    price_itkn = tkn_amount1/mint_itkn_deposit \n",
    "    AddLiquidity(price_itkn).apply(lp_in, y_tkn, user_nm, mint_itkn_deposit)  \n",
    "\n",
    "def add_liquidity2(itkn, lp_in, iVault, amt_in):\n",
    "    itkn_nm = itkn.token_name\n",
    "    parent_tkn = itkn.parent_tkn\n",
    "    parent_lp = lp_in.factory.parent_lp\n",
    "    SwapIndexMint(iVault).apply(parent_lp, parent_tkn, user_nm, amt_in)\n",
    "    mint_itkn_deposit = iVault.index_tokens[itkn_nm]['last_lp_deposit']\n",
    "    tkn_amount1 = LPQuote(False).get_amount_from_lp(parent_lp, parent_tkn, mint_itkn_deposit) \n",
    "    price_itkn = tkn_amount1/mint_itkn_deposit \n",
    "\n",
    "    itkn1_deposit = 0.5*mint_itkn_deposit\n",
    "    itkn2_deposit = 0.5*mint_itkn_deposit\n",
    "    lp_in.add_liquidity(user_nm, itkn1_deposit, itkn2_deposit, itkn1_deposit, itkn2_deposit)   "
   ]
  },
  {
   "cell_type": "code",
   "execution_count": 8,
   "id": "d2cf6537-2930-42d7-93e3-a2adc6a2a6ab",
   "metadata": {},
   "outputs": [],
   "source": [
    "user_nm = 'user0'\n",
    "dai_amount = 10000\n",
    "sys_amount = 100000"
   ]
  },
  {
   "cell_type": "code",
   "execution_count": 9,
   "id": "67d390a1-17c3-43ef-88e2-350f6b4fa260",
   "metadata": {},
   "outputs": [
    {
     "name": "stdout",
     "output_type": "stream",
     "text": [
      "Exchange SYS-DAI (LP)\n",
      "Reserves: SYS = 100000, DAI = 10000\n",
      "Liquidity: 31622.776601683792 \n",
      "\n",
      "Exchange SYS-iSYS (LP1)\n",
      "Reserves: SYS = 0, iSYS = 0\n",
      "Liquidity: 0 \n",
      "\n",
      "Exchange DAI-iSYS (LP2)\n",
      "Reserves: DAI = 0, iSYS = 0\n",
      "Liquidity: 0 \n",
      "\n",
      "Exchange DAI-iDAI (LP3)\n",
      "Reserves: DAI = 0, iDAI = 0\n",
      "Liquidity: 0 \n",
      "\n",
      "Exchange SYS-iDAI (LP4)\n",
      "Reserves: SYS = 0, iDAI = 0\n",
      "Liquidity: 0 \n",
      "\n",
      "Exchange iSYS-iDAI (LP5)\n",
      "Reserves: iSYS = 0, iDAI = 0\n",
      "Liquidity: 0 \n",
      "\n"
     ]
    }
   ],
   "source": [
    "dai1 = ERC20(\"DAI\", \"0x111\")\n",
    "sys1 = ERC20(\"SYS\", \"0x09\")\n",
    "exchg_data = UniswapExchangeData(tkn0 = sys1, tkn1 = dai1, symbol=\"LP\", address=\"0x011\", version = 'V2')\n",
    "\n",
    "iVault1 = IndexVault('iVault1', \"0x7\")\n",
    "iVault2 = IndexVault('iVault2', \"0x7\")\n",
    "\n",
    "factory = UniswapFactory(\"SYS pool factory\", \"0x2\")\n",
    "lp = factory.deploy(exchg_data)\n",
    "Join().apply(lp, user_nm, sys_amount, dai_amount)\n",
    "lp.summary()\n",
    "\n",
    "sys2 = ERC20(\"SYS\", \"0x09\")\n",
    "isys1 = IndexERC20(\"iSYS\", \"0x09\", sys1, lp)\n",
    "exchg_data1 = UniswapExchangeData(tkn0 = sys2, tkn1 = isys1, symbol=\"LP1\", address=\"0x012\", version = 'V2')\n",
    "lp1 = factory.deploy(exchg_data1)\n",
    "lp1.summary()\n",
    "\n",
    "dai2 = ERC20(\"DAI\", \"0x09\")\n",
    "isys2 = IndexERC20(\"iSYS\", \"0x09\", sys1, lp)\n",
    "exchg_data2 = UniswapExchangeData(tkn0 = dai2, tkn1 = isys2, symbol=\"LP2\", address=\"0x012\", version = 'V2')\n",
    "lp2 = factory.deploy(exchg_data2)\n",
    "lp2.summary()\n",
    "\n",
    "dai3 = ERC20(\"DAI\", \"0x09\")\n",
    "idai1 = IndexERC20(\"iDAI\", \"0x09\", dai1, lp)\n",
    "exchg_data3 = UniswapExchangeData(tkn0 = dai3, tkn1 = idai1, symbol=\"LP3\", address=\"0x012\", version = 'V2')\n",
    "lp3 = factory.deploy(exchg_data3)\n",
    "lp3.summary()\n",
    "\n",
    "sys3 = ERC20(\"SYS\", \"0x09\")\n",
    "idai2 = IndexERC20(\"iDAI\", \"0x09\", dai1, lp)\n",
    "exchg_data4 = UniswapExchangeData(tkn0 = sys3, tkn1 = idai2, symbol=\"LP4\", address=\"0x012\", version = 'V2')\n",
    "lp4 = factory.deploy(exchg_data4)\n",
    "lp4.summary()\n",
    "\n",
    "isys3 = IndexERC20(\"iSYS\", \"0x09\", sys1, lp)\n",
    "idai3 = IndexERC20(\"iDAI\", \"0x09\", dai1, lp)\n",
    "exchg_data5 = UniswapExchangeData(tkn0 = isys3, tkn1 = idai3, symbol=\"LP5\", address=\"0x012\", version = 'V2')\n",
    "lp5 = factory.deploy(exchg_data5)\n",
    "lp5.summary()"
   ]
  },
  {
   "cell_type": "code",
   "execution_count": 10,
   "id": "225be908-aaff-468b-b05a-48c48b7174b5",
   "metadata": {},
   "outputs": [],
   "source": [
    "add_liquidity1(sys2, isys1, lp1, iVault1, 10000)\n",
    "add_liquidity1(dai2, isys2, lp2, iVault1, 10000)\n",
    "add_liquidity1(dai3, idai1, lp3, iVault1, 1000)\n",
    "add_liquidity1(sys3, idai2, lp4, iVault1, 1000)\n",
    "add_liquidity2(isys3, lp5, iVault1, 10000)\n",
    "add_liquidity2(idai3, lp5, iVault2, 1000)"
   ]
  },
  {
   "cell_type": "code",
   "execution_count": 11,
   "id": "7c696a5c-13d7-494b-a9b9-82c89d210b71",
   "metadata": {},
   "outputs": [
    {
     "name": "stdout",
     "output_type": "stream",
     "text": [
      "Exchange SYS-DAI (LP)\n",
      "Reserves: SYS = 129999.99999999999, DAI = 12999.999999999996\n",
      "Liquidity: 41093.76066726768 \n",
      "\n",
      "Exchange SYS-iSYS (LP1)\n",
      "Reserves: SYS = 9972.071706380624, iSYS = 1541.1526978189474\n",
      "Liquidity: 3920.265962040394 \n",
      "\n",
      "Exchange DAI-iSYS (LP2)\n",
      "Reserves: DAI = 830.9913757092929, iSYS = 1472.4498989546673\n",
      "Liquidity: 1106.1614562058055 \n",
      "\n",
      "Exchange DAI-iDAI (LP3)\n",
      "Reserves: DAI = 997.207170638066, iDAI = 1688.02220996434\n",
      "Liquidity: 1297.4235437869759 \n",
      "\n",
      "Exchange SYS-iDAI (LP4)\n",
      "Reserves: SYS = 9971.896508511518, iDAI = 1612.7721386808469\n",
      "Liquidity: 4010.286381137411 \n",
      "\n",
      "Exchange iSYS-iDAI (LP5)\n",
      "Reserves: iSYS = 1578.2935600825372, iDAI = 1578.2935600825372\n",
      "Liquidity: 1578.2935600825372 \n",
      "\n"
     ]
    }
   ],
   "source": [
    "lp.summary()\n",
    "lp1.summary()\n",
    "lp2.summary()\n",
    "lp3.summary()\n",
    "lp4.summary()\n",
    "lp5.summary()"
   ]
  },
  {
   "cell_type": "code",
   "execution_count": 12,
   "id": "99cafb5a-baf2-4123-b617-b6fa41469a8e",
   "metadata": {},
   "outputs": [
    {
     "name": "stdout",
     "output_type": "stream",
     "text": [
      "x: 259999.99999999997, y: 25999.999999999993\n"
     ]
    }
   ],
   "source": [
    "amt_x = lp.reserve0 + LPQuote().get_amount(lp, dai1, lp.reserve1)\n",
    "amt_y = LPQuote().get_amount(lp, sys1, lp.reserve0) + lp.reserve1\n",
    "print('x: {}, y: {}'.format(amt_x, amt_y))"
   ]
  },
  {
   "cell_type": "code",
   "execution_count": 13,
   "id": "e171d49e-3567-4a50-b654-fdfc98c93118",
   "metadata": {},
   "outputs": [
    {
     "name": "stdout",
     "output_type": "stream",
     "text": [
      "x: 19526.540181622295, y: 19526.540181622295\n"
     ]
    }
   ],
   "source": [
    "amt_x = lp1.reserve0 + RebaseIndexToken().apply(lp, sys1, lp1.reserve1)\n",
    "amt_y = lp1.reserve0 + RebaseIndexToken().apply(lp, sys1, lp1.reserve1)\n",
    "print('x: {}, y: {}'.format(amt_x, amt_y))"
   ]
  },
  {
   "cell_type": "code",
   "execution_count": 14,
   "id": "b4c3a7d7-9f3b-4728-b873-2f50db8ee0ee",
   "metadata": {},
   "outputs": [
    {
     "name": "stdout",
     "output_type": "stream",
     "text": [
      "x: 1744.619781450574, y: 17446.197814505744\n"
     ]
    }
   ],
   "source": [
    "amt_x = lp2.reserve0 + RebaseIndexToken().apply(lp, dai1, lp2.reserve1)\n",
    "amt_y = LPQuote().get_amount(lp, dai1, lp2.reserve0) + LPQuote().get_amount_from_lp(lp, dai1, lp2.reserve1)\n",
    "print('x: {}, y: {}'.format(amt_x, amt_y))"
   ]
  },
  {
   "cell_type": "code",
   "execution_count": 15,
   "id": "963c4555-8d52-4d49-95d6-70802086536e",
   "metadata": {},
   "outputs": [
    {
     "name": "stdout",
     "output_type": "stream",
     "text": [
      "x: 2041.8090982927888, y: 2041.8090982927888\n"
     ]
    }
   ],
   "source": [
    "amt_x = lp3.reserve0 + RebaseIndexToken().apply(lp, dai1, lp3.reserve1)\n",
    "amt_y = lp3.reserve0 + RebaseIndexToken().apply(lp, dai1, lp3.reserve1)\n",
    "print('x: {}, y: {}'.format(amt_x, amt_y))"
   ]
  },
  {
   "cell_type": "code",
   "execution_count": 16,
   "id": "493d5bff-ed2d-4945-b1e2-605c66f71cde",
   "metadata": {},
   "outputs": [
    {
     "name": "stdout",
     "output_type": "stream",
     "text": [
      "x: 19961.53331452728, y: 1996.1533314527278\n"
     ]
    }
   ],
   "source": [
    "amt_x = lp4.reserve0 + RebaseIndexToken().apply(lp, sys1, lp4.reserve1)\n",
    "amt_y = LPQuote().get_amount(lp, sys1, lp4.reserve0) + RebaseIndexToken().apply(lp, dai1, lp4.reserve1)\n",
    "print('x: {}, y: {}'.format(amt_x, amt_y))"
   ]
  },
  {
   "cell_type": "code",
   "execution_count": 17,
   "id": "9713ff02-9da2-49ac-99e2-dfdddfad525f",
   "metadata": {},
   "outputs": [
    {
     "name": "stdout",
     "output_type": "stream",
     "text": [
      "x: 19560.47768517879, y: 1956.047768517879\n"
     ]
    }
   ],
   "source": [
    "amt_x = RebaseIndexToken().apply(lp, sys1, lp5.reserve0) + RebaseIndexToken().apply(lp, sys1, lp5.reserve1)\n",
    "amt_y = RebaseIndexToken().apply(lp, dai1, lp5.reserve0) + RebaseIndexToken().apply(lp, dai1, lp5.reserve1)\n",
    "print('x: {}, y: {}'.format(amt_x, amt_y))"
   ]
  },
  {
   "cell_type": "code",
   "execution_count": 18,
   "id": "582a4d5f-d1c4-4646-863f-841b4ae46700",
   "metadata": {},
   "outputs": [
    {
     "name": "stdout",
     "output_type": "stream",
     "text": [
      "lp x: 260000 / y: 26000\n",
      "lp1 x: 19527 / y: 1953\n",
      "lp2 x: 17446 / y: 1745\n",
      "lp3 x: 20418 / y: 2042\n",
      "lp4 x: 19962 / y: 1996\n",
      "lp5 x: 19560 / y: 1956\n"
     ]
    }
   ],
   "source": [
    "print('lp x: {:.0f} / y: {:.0f}'.format(TreeAmountQuote().get_tot_x(lp, lp.reserve0, lp.reserve1), \n",
    "                                     TreeAmountQuote().get_tot_y(lp, lp.reserve0, lp.reserve1))) \n",
    "\n",
    "print('lp1 x: {:.0f} / y: {:.0f}'.format(TreeAmountQuote().get_tot_x(lp1, lp1.reserve0, lp1.reserve1), \n",
    "                                     TreeAmountQuote().get_tot_y(lp1, lp1.reserve0, lp1.reserve1))) \n",
    "\n",
    "print('lp2 x: {:.0f} / y: {:.0f}'.format(TreeAmountQuote().get_tot_x(lp2, lp2.reserve0, lp2.reserve1), \n",
    "                                     TreeAmountQuote().get_tot_y(lp2, lp2.reserve0, lp2.reserve1))) \n",
    "\n",
    "print('lp3 x: {:.0f} / y: {:.0f}'.format(TreeAmountQuote().get_tot_x(lp3, lp3.reserve0, lp3.reserve1), \n",
    "                                     TreeAmountQuote().get_tot_y(lp3, lp3.reserve0, lp3.reserve1))) \n",
    "\n",
    "print('lp4 x: {:.0f} / y: {:.0f}'.format(TreeAmountQuote().get_tot_x(lp4, lp4.reserve0, lp4.reserve1), \n",
    "                                     TreeAmountQuote().get_tot_y(lp4, lp4.reserve0, lp4.reserve1))) \n",
    "\n",
    "print('lp5 x: {:.0f} / y: {:.0f}'.format(TreeAmountQuote().get_tot_x(lp5, lp5.reserve0, lp5.reserve1), \n",
    "                                     TreeAmountQuote().get_tot_y(lp5, lp5.reserve0, lp5.reserve1))) "
   ]
  },
  {
   "cell_type": "code",
   "execution_count": 19,
   "id": "fb6e6012-c72f-403c-97e1-72a20654a1de",
   "metadata": {},
   "outputs": [
    {
     "name": "stdout",
     "output_type": "stream",
     "text": [
      "lp x: 260000 / y: 26000\n",
      "lp1 x: 19527 / y: 1953\n",
      "lp2 x: 17446 / y: 1745\n",
      "lp3 x: 20418 / y: 2042\n",
      "lp4 x: 19962 / y: 1996\n",
      "lp5 x: 19560 / y: 1956\n"
     ]
    }
   ],
   "source": [
    "print('lp x: {:.0f} / y: {:.0f}'.format(TreeAmountQuote(False).get_tot_x(lp, lp.reserve0, lp.reserve1), \n",
    "                                     TreeAmountQuote(False).get_tot_y(lp, lp.reserve0, lp.reserve1))) \n",
    "\n",
    "print('lp1 x: {:.0f} / y: {:.0f}'.format(TreeAmountQuote(False).get_tot_x(lp1, lp1.reserve0, lp1.reserve1), \n",
    "                                     TreeAmountQuote(False).get_tot_y(lp1, lp1.reserve0, lp1.reserve1))) \n",
    "\n",
    "print('lp2 x: {:.0f} / y: {:.0f}'.format(TreeAmountQuote(False).get_tot_x(lp2, lp2.reserve0, lp2.reserve1), \n",
    "                                     TreeAmountQuote(False).get_tot_y(lp2, lp2.reserve0, lp2.reserve1))) \n",
    "\n",
    "print('lp3 x: {:.0f} / y: {:.0f}'.format(TreeAmountQuote(False).get_tot_x(lp3, lp3.reserve0, lp3.reserve1), \n",
    "                                     TreeAmountQuote(False).get_tot_y(lp3, lp3.reserve0, lp3.reserve1))) \n",
    "\n",
    "print('lp4 x: {:.0f} / y: {:.0f}'.format(TreeAmountQuote(False).get_tot_x(lp4, lp4.reserve0, lp4.reserve1), \n",
    "                                     TreeAmountQuote(False).get_tot_y(lp4, lp4.reserve0, lp4.reserve1))) \n",
    "\n",
    "print('lp5 x: {:.0f} / y: {:.0f}'.format(TreeAmountQuote(False).get_tot_x(lp5, lp5.reserve0, lp5.reserve1), \n",
    "                                     TreeAmountQuote(False).get_tot_y(lp5, lp5.reserve0, lp5.reserve1))) "
   ]
  }
 ],
 "metadata": {
  "kernelspec": {
   "display_name": "Python 3 (ipykernel)",
   "language": "python",
   "name": "python3"
  },
  "language_info": {
   "codemirror_mode": {
    "name": "ipython",
    "version": 3
   },
   "file_extension": ".py",
   "mimetype": "text/x-python",
   "name": "python",
   "nbconvert_exporter": "python",
   "pygments_lexer": "ipython3",
   "version": "3.10.0rc2"
  }
 },
 "nbformat": 4,
 "nbformat_minor": 5
}
