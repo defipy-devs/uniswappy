{
 "cells": [
  {
   "cell_type": "markdown",
   "id": "ed5beb47-2652-44c4-8ea9-7adad5254cbe",
   "metadata": {},
   "source": [
    "## Analyze Uniswap in Python using UniswapPy!\n",
    "\n",
    "* Get quickly started with the basics of the UniswapPy python package\n",
    "* [Medium Article](https://medium.com/@icmoore/analyze-uniswap-in-python-using-uniswappy-c98fd7c7e2c2)"
   ]
  },
  {
   "cell_type": "markdown",
   "id": "6decbc7f-279c-45c3-945e-d623ce38e9d9",
   "metadata": {},
   "source": [
    "### Setup pool\n",
    "\n",
    "To setup a liquidity pool, you must first create the tokens in the pair using the ERC20 object. Next, create a liquidity pool (LP) factory using Factory object. Once this is setup, an unlimited amount of LPs can be created; the procedure for such is as follows:"
   ]
  },
  {
   "cell_type": "code",
   "execution_count": 1,
   "id": "b0c79ae4-691a-4a82-bd1d-34aabfaa30a0",
   "metadata": {},
   "outputs": [],
   "source": [
    "user_nm = 'user_intro'\n",
    "eth_amount = 1000\n",
    "dai_amount = 1000000"
   ]
  },
  {
   "cell_type": "code",
   "execution_count": 2,
   "id": "3d391759-c3a4-4fa8-ab08-8378320fb6da",
   "metadata": {
    "tags": []
   },
   "outputs": [
    {
     "name": "stdout",
     "output_type": "stream",
     "text": [
      "Exchange ETH-DAI (LP)\n",
      "Reserves: ETH = 1000, DAI = 1000000\n",
      "Liquidity: 31622.776601683792 \n",
      "\n"
     ]
    }
   ],
   "source": [
    "from uniswappy.erc import ERC20\n",
    "from uniswappy.cpt.factory import UniswapFactory\n",
    "from uniswappy.utils.data import UniswapExchangeData\n",
    "\n",
    "dai = ERC20(\"DAI\", \"0x111\")\n",
    "eth = ERC20(\"ETH\", \"0x09\")\n",
    "exchg_data = UniswapExchangeData(tkn0 = eth, tkn1 = dai, symbol=\"LP\", address=\"0x011\")\n",
    "\n",
    "factory = UniswapFactory(\"ETH pool factory\", \"0x2\")\n",
    "lp = factory.deploy(exchg_data)\n",
    "lp.add_liquidity(user_nm, eth_amount, dai_amount, eth_amount, dai_amount)\n",
    "lp.summary()"
   ]
  },
  {
   "cell_type": "markdown",
   "id": "6dd50ec7-9497-4a11-9210-becaa369705a",
   "metadata": {},
   "source": [
    "**Swap():** \n",
    "\n",
    "Swap one token for another using the constant product trading mechanism (xy = k)"
   ]
  },
  {
   "cell_type": "code",
   "execution_count": 3,
   "id": "19184313-23a2-4714-8e6e-c37c55f05741",
   "metadata": {},
   "outputs": [
    {
     "name": "stdout",
     "output_type": "stream",
     "text": [
      "Exchange ETH-DAI (LP)\n",
      "Reserves: ETH = 1000, DAI = 1000000\n",
      "Liquidity: 31622.776601683792 \n",
      "\n",
      "Exchange ETH-DAI (LP)\n",
      "Reserves: ETH = 999.00399301896, DAI = 1001000\n",
      "Liquidity: 31622.776601683792 \n",
      "\n"
     ]
    }
   ],
   "source": [
    "from uniswappy.process.swap import Swap\n",
    "\n",
    "dai = ERC20(\"DAI\", \"0x111\")\n",
    "eth = ERC20(\"ETH\", \"0x09\")\n",
    "exchg_data = UniswapExchangeData(tkn0 = eth, tkn1 = dai, symbol=\"LP\", address=\"0x011\")\n",
    "\n",
    "factory = UniswapFactory(\"ETH pool factory\", \"0x2\")\n",
    "lp = factory.deploy(exchg_data)\n",
    "lp.add_liquidity(user_nm, eth_amount, dai_amount, eth_amount, dai_amount)\n",
    "lp.summary()\n",
    "\n",
    "out = Swap().apply(lp, dai, user_nm, 1000)\n",
    "lp.summary()"
   ]
  },
  {
   "cell_type": "markdown",
   "id": "41b13fdb-3166-405d-add5-489c08da7d28",
   "metadata": {},
   "source": [
    "**AddLiquidity()**: \n",
    "\n",
    "To add liquidity to a Uniswap pool, equal amounts of each token, in accordance to the constant product trading (CPT) mechanism (ie, xy = k), is first required. This function only requires you have one of the amounts, while the other portion is calculated for you; the procedure for such is as follows:"
   ]
  },
  {
   "cell_type": "code",
   "execution_count": 4,
   "id": "9321ee25-581f-4d2b-8bc5-14c7e6f93275",
   "metadata": {},
   "outputs": [
    {
     "name": "stdout",
     "output_type": "stream",
     "text": [
      "Exchange ETH-DAI (LP)\n",
      "Reserves: ETH = 1000, DAI = 1000000\n",
      "Liquidity: 31622.776601683792 \n",
      "\n",
      "Exchange ETH-DAI (LP)\n",
      "Reserves: ETH = 1010, DAI = 1010000.0\n",
      "Liquidity: 31939.00436770063 \n",
      "\n"
     ]
    }
   ],
   "source": [
    "from uniswappy.process.liquidity import AddLiquidity\n",
    "\n",
    "dai = ERC20(\"DAI\", \"0x111\")\n",
    "eth = ERC20(\"ETH\", \"0x09\")\n",
    "exchg_data = UniswapExchangeData(tkn0 = eth, tkn1 = dai, symbol=\"LP\", address=\"0x011\")\n",
    "\n",
    "factory = UniswapFactory(\"ETH pool factory\", \"0x2\")\n",
    "lp = factory.deploy(exchg_data)\n",
    "lp.add_liquidity(user_nm, eth_amount, dai_amount, eth_amount, dai_amount)\n",
    "lp.summary()\n",
    "\n",
    "AddLiquidity().apply(lp, eth, user_nm, 10)\n",
    "lp.summary()"
   ]
  },
  {
   "cell_type": "markdown",
   "id": "4dcc54fc-724d-4178-b06e-7ef782a174fe",
   "metadata": {},
   "source": [
    "**RemoveLiquidity()**: \n",
    "\n",
    "To remove liquidity from a Uniswap pool, equal amounts of each token, in accordance to the constant product trading (CPT) mechanism (ie, xy = k) is first required. This function only requires you have one of the amounts, while the other portion is calculated for you; the procedure for such is as follows:"
   ]
  },
  {
   "cell_type": "code",
   "execution_count": 5,
   "id": "d3da64e8-3ec9-4b7b-8b98-f781d4d32688",
   "metadata": {},
   "outputs": [
    {
     "name": "stdout",
     "output_type": "stream",
     "text": [
      "Exchange ETH-DAI (LP)\n",
      "Reserves: ETH = 1000, DAI = 1000000\n",
      "Liquidity: 31622.776601683792 \n",
      "\n",
      "Exchange ETH-DAI (LP)\n",
      "Reserves: ETH = 999.0, DAI = 999000.0\n",
      "Liquidity: 31591.153825082107 \n",
      "\n"
     ]
    }
   ],
   "source": [
    "from uniswappy.process.liquidity import RemoveLiquidity\n",
    "\n",
    "dai = ERC20(\"DAI\", \"0x111\")\n",
    "eth = ERC20(\"ETH\", \"0x09\")\n",
    "exchg_data = UniswapExchangeData(tkn0 = eth, tkn1 = dai, symbol=\"LP\", address=\"0x011\")\n",
    "\n",
    "factory = UniswapFactory(\"ETH pool factory\", \"0x2\")\n",
    "lp = factory.deploy(exchg_data)\n",
    "lp.add_liquidity(user_nm, eth_amount, dai_amount, eth_amount, dai_amount)\n",
    "lp.summary()\n",
    "\n",
    "RemoveLiquidity().apply(lp, eth, user_nm, 1)\n",
    "lp.summary()"
   ]
  },
  {
   "cell_type": "markdown",
   "id": "b0357ba2-30bd-48ad-8dc5-63fe5726c71c",
   "metadata": {},
   "source": [
    "**SwapDeposit()**: \n",
    "\n",
    "A SwapDeposit is where a certain amount of a specific token is deposited into the LP under one function call; includes two steps:\n",
    "* (Step 1) Perform approx. 50% swap for opposing token\n",
    "* (Step 2) Using amount from step 1, perform 1:1 deposit"
   ]
  },
  {
   "cell_type": "code",
   "execution_count": 6,
   "id": "e758795e-b70e-455d-a7a1-2752a4d8af4a",
   "metadata": {},
   "outputs": [
    {
     "name": "stdout",
     "output_type": "stream",
     "text": [
      "Exchange ETH-DAI (LP)\n",
      "Reserves: ETH = 1000, DAI = 1000000\n",
      "Liquidity: 31622.776601683792 \n",
      "\n",
      "Exchange ETH-DAI (LP)\n",
      "Reserves: ETH = 1001.0000000000001, DAI = 1000000.0\n",
      "Liquidity: 31638.56029234534 \n",
      "\n"
     ]
    }
   ],
   "source": [
    "from uniswappy.process.deposit import SwapDeposit\n",
    "\n",
    "dai = ERC20(\"DAI\", \"0x111\")\n",
    "eth = ERC20(\"ETH\", \"0x09\")\n",
    "exchg_data = UniswapExchangeData(tkn0 = eth, tkn1 = dai, symbol=\"LP\", address=\"0x011\")\n",
    "\n",
    "factory = UniswapFactory(\"ETH pool factory\", \"0x2\")\n",
    "lp = factory.deploy(exchg_data)\n",
    "lp.add_liquidity(user_nm, eth_amount, dai_amount, eth_amount, dai_amount)\n",
    "lp.summary()\n",
    "\n",
    "amount_out = SwapDeposit().apply(lp, eth, user_nm, 1)\n",
    "lp.summary()"
   ]
  },
  {
   "cell_type": "markdown",
   "id": "d589aee4-7531-4122-86b4-7ef5d7b362b0",
   "metadata": {},
   "source": [
    "**WithdrawSwap()**: \n",
    "\n",
    "A WithdrawSwap is where a certain amount of a specific token is withdraw from LP under one operation; includes two steps:\n",
    "* (Step 1) Split token amount into two parts and perform ~ 50/50 withdraw on one of the parts to receive tknA and tknB\n",
    "* (Step 2) Swap remaining ~50% of tknB (from step 1) to receive only tknA"
   ]
  },
  {
   "cell_type": "code",
   "execution_count": 7,
   "id": "85d47b70-d95d-4b33-97c8-45efbffb0c8d",
   "metadata": {},
   "outputs": [
    {
     "name": "stdout",
     "output_type": "stream",
     "text": [
      "Exchange ETH-DAI (LP)\n",
      "Reserves: ETH = 1000, DAI = 1000000\n",
      "Liquidity: 31622.776601683792 \n",
      "\n",
      "Exchange ETH-DAI (LP)\n",
      "Reserves: ETH = 999.0000000000001, DAI = 1000000.0\n",
      "Liquidity: 31606.937511796754 \n",
      "\n"
     ]
    }
   ],
   "source": [
    "from uniswappy.process.swap import WithdrawSwap\n",
    "\n",
    "dai = ERC20(\"DAI\", \"0x111\")\n",
    "eth = ERC20(\"ETH\", \"0x09\")\n",
    "exchg_data = UniswapExchangeData(tkn0 = eth, tkn1 = dai, symbol=\"LP\", address=\"0x011\")\n",
    "\n",
    "factory = UniswapFactory(\"ETH pool factory\", \"0x2\")\n",
    "lp = factory.deploy(exchg_data)\n",
    "lp.add_liquidity(user_nm, eth_amount, dai_amount, eth_amount, dai_amount)\n",
    "lp.summary()\n",
    "\n",
    "expected_amount_out = WithdrawSwap().apply(lp, eth, user_nm, 1)\n",
    "lp.summary()"
   ]
  },
  {
   "cell_type": "markdown",
   "id": "497215f9-2453-4410-847a-250788c4bee9",
   "metadata": {},
   "source": [
    "**LPQuote()**: get LP quotes"
   ]
  },
  {
   "cell_type": "code",
   "execution_count": 8,
   "id": "f25ffbef-6855-4f81-86d6-8e1ea42d2818",
   "metadata": {},
   "outputs": [
    {
     "name": "stdout",
     "output_type": "stream",
     "text": [
      "Exchange ETH-DAI (LP)\n",
      "Reserves: ETH = 1000, DAI = 1000000\n",
      "Liquidity: 31622.776601683792 \n",
      "\n"
     ]
    }
   ],
   "source": [
    "from uniswappy.cpt.quote import LPQuote\n",
    "\n",
    "dai = ERC20(\"DAI\", \"0x111\")\n",
    "eth = ERC20(\"ETH\", \"0x09\")\n",
    "exchg_data = UniswapExchangeData(tkn0 = eth, tkn1 = dai, symbol=\"LP\", address=\"0x011\")\n",
    "\n",
    "factory = UniswapFactory(\"ETH pool factory\", \"0x2\")\n",
    "lp = factory.deploy(exchg_data)\n",
    "lp.add_liquidity(user_nm, eth_amount, dai_amount, eth_amount, dai_amount)\n",
    "lp.summary()"
   ]
  },
  {
   "cell_type": "markdown",
   "id": "25a4ae44-d9a0-46f2-a7de-c6f7be3b10b6",
   "metadata": {},
   "source": [
    "**Retrieve LP prices**\n",
    "\n",
    "LPQuote is a useful tool for retrieving pricing and various settlement quotes from the liquidity pool; the setup is as follows:"
   ]
  },
  {
   "cell_type": "code",
   "execution_count": 9,
   "id": "abe07987-d18a-40b4-9bd6-ee162658d8c6",
   "metadata": {},
   "outputs": [
    {
     "name": "stdout",
     "output_type": "stream",
     "text": [
      "The price of ETH in DAI is 1000.0\n",
      "The price of DAI in ETH is 0.001\n"
     ]
    }
   ],
   "source": [
    "p_eth = LPQuote().get_price(lp, eth)\n",
    "p_dai = LPQuote().get_price(lp, dai)\n",
    "print(f'The price of {eth.token_name} in {dai.token_name} is {p_eth}') \n",
    "print(f'The price of {dai.token_name} in {eth.token_name} is {p_dai}') "
   ]
  },
  {
   "cell_type": "markdown",
   "id": "113cf6e3-b59c-4093-abc2-3efd2c553298",
   "metadata": {},
   "source": [
    "**Retrieve token settlement amount given opposing token amount**"
   ]
  },
  {
   "cell_type": "code",
   "execution_count": 10,
   "id": "0abd6db5-5bd2-48ff-8517-2dc90ee7f80f",
   "metadata": {},
   "outputs": [
    {
     "name": "stdout",
     "output_type": "stream",
     "text": [
      "1 ETH token is worth 1000.0 DAI\n",
      "1 DAI token is worth 0.001 ETH\n"
     ]
    }
   ],
   "source": [
    "amt_dai = LPQuote().get_amount(lp, eth, 1)\n",
    "amt_eth = LPQuote().get_amount(lp, dai, 1)\n",
    "print(f'1 {eth.token_name} token is worth {amt_dai} {dai.token_name}')\n",
    "print(f'1 {dai.token_name} token is worth {amt_eth} {eth.token_name}')"
   ]
  },
  {
   "cell_type": "markdown",
   "id": "719328eb-c396-4b50-8f28-090001b3c662",
   "metadata": {},
   "source": [
    "**Retrieve rebased token settlement amount given amount of LP token**"
   ]
  },
  {
   "cell_type": "code",
   "execution_count": 11,
   "id": "afadf229-3e49-4f60-b1f7-ca5818d88dde",
   "metadata": {},
   "outputs": [
    {
     "name": "stdout",
     "output_type": "stream",
     "text": [
      "1 LP token is worth 0.06314969086446823 ETH\n",
      "1 LP token is worth 63.149690864468226 DAI\n"
     ]
    }
   ],
   "source": [
    "amt_eth = LPQuote(False).get_amount_from_lp(lp, eth, 1)\n",
    "amt_dai = LPQuote().get_amount_from_lp(lp, eth, 1)\n",
    "print(f'1 LP token is worth {amt_eth} {eth.token_name}')\n",
    "print(f'1 LP token is worth {amt_dai} {dai.token_name}')"
   ]
  },
  {
   "cell_type": "markdown",
   "id": "fcc8c699-e569-4d5e-bcb7-e72b753206c8",
   "metadata": {},
   "source": [
    "**Retrieve LP token settlement amount given amount of asset token**"
   ]
  },
  {
   "cell_type": "code",
   "execution_count": 12,
   "id": "41ce8a07-2376-4f57-a960-f6d6ee5f449a",
   "metadata": {
    "tags": []
   },
   "outputs": [
    {
     "name": "stdout",
     "output_type": "stream",
     "text": [
      "1 ETH token is worth 15.839089887038602 LP tokens\n",
      "1 DAI token is worth 0.01583514496167512 LP tokens\n"
     ]
    }
   ],
   "source": [
    "amt_eth_lp = LPQuote(False).get_lp_from_amount(lp, eth, 1)\n",
    "amt_dai_lp = LPQuote(False).get_lp_from_amount(lp, dai, 1)\n",
    "print(f'1 {eth.token_name} token is worth {amt_eth_lp} LP tokens')\n",
    "print(f'1 {dai.token_name} token is worth {amt_dai_lp} LP tokens')"
   ]
  }
 ],
 "metadata": {
  "kernelspec": {
   "display_name": "Main Python",
   "language": "python",
   "name": "py3.10"
  },
  "language_info": {
   "codemirror_mode": {
    "name": "ipython",
    "version": 3
   },
   "file_extension": ".py",
   "mimetype": "text/x-python",
   "name": "python",
   "nbconvert_exporter": "python",
   "pygments_lexer": "ipython3",
   "version": "3.10.0rc2"
  }
 },
 "nbformat": 4,
 "nbformat_minor": 5
}
