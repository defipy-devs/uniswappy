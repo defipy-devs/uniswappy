{
 "cells": [
  {
   "cell_type": "markdown",
   "id": "c3d183f5-fa7a-49e7-ac7c-b206c7736461",
   "metadata": {},
   "source": [
    "## Deep dive into WithdrawSwap()"
   ]
  },
  {
   "cell_type": "code",
   "execution_count": 17,
   "id": "d00b574d-495a-4fa9-8ebc-f6bb916d33e6",
   "metadata": {},
   "outputs": [],
   "source": [
    "import os\n",
    "import copy\n",
    "import numpy as np\n",
    "import pandas as pd\n",
    "import time\n",
    "import datetime\n",
    "import math as mth\n",
    "import math\n",
    "import matplotlib.pyplot as plt"
   ]
  },
  {
   "cell_type": "code",
   "execution_count": 2,
   "id": "0f7401d3-7183-462f-9a56-8617b6027368",
   "metadata": {},
   "outputs": [],
   "source": [
    "from uniswappy import *"
   ]
  },
  {
   "cell_type": "code",
   "execution_count": 3,
   "id": "e0f346d8-5662-4128-a81f-940e8ab4c96c",
   "metadata": {},
   "outputs": [],
   "source": [
    "user_nm = 'user0'\n",
    "eth_amount = 1000\n",
    "tkn_amount = 100000"
   ]
  },
  {
   "cell_type": "markdown",
   "id": "919f04b6-38ac-4f34-8846-1c5166de1ae7",
   "metadata": {},
   "source": [
    "#### WithdrawSwap (incl. fee):\n",
    "* A ```WithdrawSwap``` is where a certain amount of a specific token is withdraw from LP under one operation\n",
    "* Includes two steps:\n",
    "    * (step 1) split token amount into two parts and perform 50/50 withdraw on one of the parts to receive tknA and tknB\n",
    "    * (step 2) swap remaining ~50% of tknB (from step 1) to receive only tknA\n",
    "* To ensure all the funds are withdrawn, we must determine the portion ($\\alpha$) that requesed token amount is split into "
   ]
  },
  {
   "cell_type": "markdown",
   "id": "4a5af836-fe38-41ed-a12e-4962763a9835",
   "metadata": {},
   "source": [
    "### Indexing problem (defined)\n",
    "\n",
    "Given the definition of **_constant product trading_** (CPT) as:\n",
    "\n",
    "> $(x-\\Delta x)(y - \\gamma\\Delta y) = L^2$\n",
    "\n",
    "where \n",
    "* $x$ -> reserve0 (r0)\n",
    "* $y$ -> reserve1 (r1)\n",
    "* $\\Delta x$ -> swap x (a0)\n",
    "* $\\Delta y$ -> swap y (a1)\n",
    "* $L$ -> total supply\n",
    "* $\\gamma$ -> fee $\\left(ie, \\frac{997}{1000} \\right)$\n",
    "\n",
    "We define the **_indexing problem_** via the following linear system of equations:\n",
    "\n",
    "> (Eq. 1) $\\Delta x = \\frac{\\Delta L x}{L}$\n",
    "\n",
    "> (Eq. 2) $\\Delta y  = \\frac{\\Delta L  y}{L}$\n",
    "\n",
    "> (Eq. 3) $\\Delta y_{(i)} = \\Delta y  + \\frac{\\gamma \\Delta x(y-\\Delta y)}{(x - \\Delta x) + \\gamma \\Delta x}$\n",
    "\n",
    "where \n",
    "* $\\Delta y_{(i)}$ -> indexed token\n",
    "* $\\Delta L$ -> liquidity deposit"
   ]
  },
  {
   "cell_type": "markdown",
   "id": "8f9763d8-16ae-4ae1-9d7e-08292e5ad955",
   "metadata": {},
   "source": [
    "#### Let's highlight why the **_indexing problem_** is important ..."
   ]
  },
  {
   "cell_type": "code",
   "execution_count": 4,
   "id": "d18160f3-757e-43fc-8c49-f5031549d428",
   "metadata": {},
   "outputs": [
    {
     "name": "stdout",
     "output_type": "stream",
     "text": [
      "***\n",
      "Initial LP\n",
      "***\n",
      "Exchange ETH-TKN (LP)\n",
      "Reserves: ETH = 1100.0, TKN = 100000.0\n",
      "Liquidity: 10488.088481701516 \n",
      "\n",
      "***\n",
      "LP post step 1\n",
      "***\n",
      "Exchange ETH-TKN (LP)\n",
      "Reserves: ETH = 1050.0, TKN = 95454.54545454546\n",
      "Liquidity: 10011.35718707872 \n",
      "\n",
      "***\n",
      "LP post step 2\n",
      "***\n",
      "Exchange ETH-TKN (LP)\n",
      "Reserves: ETH = 1002.4094194662908, TKN = 100000.0\n",
      "Liquidity: 10011.35718707872 \n",
      "\n",
      "Total withdrawn is 50.000000 + 47.590581 = 97.590581 ETH\n",
      "Of the requested 100 ETH, a total of 97.590581 ETH has been withdrawn when using a 50/50 split\n"
     ]
    }
   ],
   "source": [
    "tkn = ERC20(\"TKN\", \"0x111\")\n",
    "eth = ERC20(\"ETH\", \"0x09\")\n",
    "exchg_data = UniswapExchangeData(tkn0 = eth, tkn1 = tkn, symbol=\"LP\", address=\"0x011\")\n",
    "\n",
    "factory = UniswapFactory(\"ETH pool factory\", \"0x2\")\n",
    "lp = factory.deploy(exchg_data)\n",
    "lp.add_liquidity(user_nm, eth_amount+100, tkn_amount, eth_amount+100, tkn_amount)\n",
    "\n",
    "print('***\\nInitial LP\\n***')\n",
    "lp.summary()\n",
    "\n",
    "amt_out = 100\n",
    "token_out = eth\n",
    "trading_token = tkn\n",
    "user_nm1 = 'user0'\n",
    "#rate = 0\n",
    "\n",
    "# Step 1: withdrawal\n",
    "p_out = 0.5\n",
    "removeLiq = RemoveLiquidity()\n",
    "res = removeLiq.apply(lp, token_out, user_nm1, p_out*amt_out)\n",
    "\n",
    "print('***\\nLP post step 1\\n***')\n",
    "lp.summary()\n",
    "\n",
    "# Step 2: swap\n",
    "out = Swap().apply(lp, trading_token, user_nm1, res[trading_token.token_name])  \n",
    "\n",
    "print('***\\nLP post step 2\\n***')\n",
    "lp.summary() \n",
    "\n",
    "withdrawn = res[eth.token_name] + out\n",
    "\n",
    "print('Total withdrawn is {:.6f} + {:.6f} = {:.6f} ETH'.format(p_out*amt_out, out, withdrawn))\n",
    "print('Of the requested {} ETH, a total of {:.6f} ETH has been withdrawn when using a 50/50 split'.format(amt_out, withdrawn))"
   ]
  },
  {
   "cell_type": "markdown",
   "id": "92acb06f-fc5c-4c46-9cab-1e301e91b86c",
   "metadata": {},
   "source": [
    "#### Let's now address the problem ...\n",
    "Using the system of equations outlined in the **_indexing problem_**, Eq. 3 can be rearranged as:\n",
    "> $(\\Delta y_{(i)}x) - (\\Delta y_{(i)}\\Delta x) + (\\gamma \\Delta y_{(i)} \\Delta x) - (\\Delta y x) + (\\Delta y\\Delta x) - (\\gamma y\\Delta x) = 0$\n",
    "\n",
    "Plug Eq. 1 and Eq. 2 into above, and we get:\n",
    "> $(\\Delta y_{(i)} x) - (\\frac{\\Delta y_{(i)} \\Delta L x}{L}) + (\\frac{\\Delta y_{(i)} \\gamma \\Delta L x}{L}) - (\\frac{\\Delta L xy}{L}) + (\\frac{\\Delta L^2 xy}{L^2}) - (\\frac{\\Delta L \\gamma x y}{L}) = 0$\n",
    "\n",
    "The above equation gets reduced to the following quadratic:\n",
    "> $\\Delta L^2 \\left( \\frac{xy}{L^2} \\right) - \\Delta L \\left(\\frac{1000 \\Delta y_{(i)} x - 997\\Delta y_{(i)} x + 1000xy + 997 xy}{1000L} \\right) + \\Delta y_{(i)} x = 0$\n",
    "\n",
    "#### Now, solve for $\\Delta L$ using ```calc_lp_settlement``` "
   ]
  },
  {
   "cell_type": "code",
   "execution_count": 19,
   "id": "528411a6-57a5-4e98-b03b-1cc67fdeb1b6",
   "metadata": {},
   "outputs": [],
   "source": [
    "def calc_lp_settlement(lp, token_in, itkn_amt):\n",
    "\n",
    "    if(token_in.token_name == lp.token1):\n",
    "        x = UniV3Helper().gwei2dec(lp.reserve0)\n",
    "        y = UniV3Helper().gwei2dec(lp.reserve1)\n",
    "    else: \n",
    "        x = UniV3Helper().gwei2dec(lp.reserve1)\n",
    "        y = UniV3Helper().gwei2dec(lp.reserve0)\n",
    "\n",
    "    L = UniV3Helper().gwei2dec(lp.total_supply)\n",
    "    gamma = 997\n",
    "\n",
    "    a1 = x*y/L\n",
    "    a2 = L\n",
    "    a = a1/a2\n",
    "    b = (1000*itkn_amt*x - itkn_amt*gamma*x + 1000*x*y + x*y*gamma)/(1000*L);\n",
    "    c = itkn_amt*x;\n",
    "\n",
    "    dL = (b*a2 - a2*mth.sqrt(b*b - 4*a1*c/a2)) / (2*a1);\n",
    "    return dL"
   ]
  },
  {
   "cell_type": "code",
   "execution_count": 20,
   "id": "1a260e48-c3e3-4520-9ce8-64e0e562b16f",
   "metadata": {},
   "outputs": [
    {
     "name": "stdout",
     "output_type": "stream",
     "text": [
      "Exchange ETH-TKN (LP)\n",
      "Reserves: ETH = 1100.0, TKN = 100000.0\n",
      "Liquidity: 10488.088481701516 \n",
      "\n",
      "A request of 100 ETH requires a settlement of 488.7875671265526 LP token\n"
     ]
    }
   ],
   "source": [
    "eth = ERC20(\"ETH\", \"0x09\")\n",
    "tkn = ERC20(\"TKN\", \"0x111\")\n",
    "exchg_data = UniswapExchangeData(tkn0 = eth, tkn1 = tkn, symbol=\"LP\", address=\"0x011\")\n",
    "\n",
    "factory = UniswapFactory(\"ETH pool factory\", \"0x2\")\n",
    "lp = factory.deploy(exchg_data)\n",
    "lp.add_liquidity(user_nm, eth_amount+100, tkn_amount, eth_amount+100, tkn_amount)\n",
    "lp.summary()\n",
    "\n",
    "eth_amt = 100\n",
    "dL = calc_lp_settlement(lp, eth, eth_amt)\n",
    "\n",
    "print('A request of {} ETH requires a settlement of {:} LP token'.format(eth_amt, dL))"
   ]
  },
  {
   "cell_type": "markdown",
   "id": "44aaa7ed-1205-4035-ba4f-c3253b27e81a",
   "metadata": {},
   "source": [
    "#### Now, check against our reduced quadratic, and we should expect to get 0"
   ]
  },
  {
   "cell_type": "code",
   "execution_count": 21,
   "id": "d0471d6e-8991-4411-9a87-2252568b5220",
   "metadata": {},
   "outputs": [
    {
     "data": {
      "text/plain": [
       "-5.587935447692871e-09"
      ]
     },
     "execution_count": 21,
     "metadata": {},
     "output_type": "execute_result"
    }
   ],
   "source": [
    "y = UniV3Helper().gwei2dec(lp.reserve0)\n",
    "x = UniV3Helper().gwei2dec(lp.reserve1)\n",
    "L = UniV3Helper().gwei2dec(lp.total_supply)\n",
    "gamma = 997\n",
    "\n",
    "(dL**2)*x*y/(L*L) - dL*((1000*eth_amt*x - eth_amt*gamma*x + 1000*x*y + x*y*gamma)/(1000*L)) + eth_amt*x"
   ]
  },
  {
   "cell_type": "markdown",
   "id": "ac0a7f5f-a937-4533-9ed3-fe0db513f163",
   "metadata": {},
   "source": [
    "#### Using $\\Delta L$, we can determine the splitting distribution for withdrawal\n",
    "\n",
    "Reconsidering Eq. 3, we redefine $\\Delta y$ and $\\Delta y_{swap}$ by portion $\\alpha$, thus:\n",
    "\n",
    "> $ \\Delta y_{(i)} = \\Delta y + \\Delta y_{swap} $\n",
    "\n",
    "> $ \\Delta y_{(i)} = \\alpha \\Delta y_{(i)} + (1- \\alpha) \\Delta y_{(i)} $ \n",
    "\n",
    "Therefore, using Eq. 2 we calculate our distribution as:\n",
    "\n",
    "> $\\alpha =\\frac{\\Delta y}{\\Delta y_{(i)}}= \\frac{\\Delta L y}{\\Delta y_{(i)} L}$\n",
    "\n",
    "Hence, using the above equation and $L$ from our solver, we can calculate the withdraw distribution $\\alpha$ via ```calc_portion```\n"
   ]
  },
  {
   "cell_type": "code",
   "execution_count": 22,
   "id": "7ca40dbd-ba1c-4c67-9f6c-7655b66c1bf4",
   "metadata": {},
   "outputs": [],
   "source": [
    "def calc_withdraw_portion(lp, token_in, amt):\n",
    "    \n",
    "    if(token_in.token_name == lp.token1):\n",
    "        x = UniV3Helper().gwei2dec(lp.reserve0)\n",
    "        y = UniV3Helper().gwei2dec(lp.reserve1)\n",
    "    else: \n",
    "        x = UniV3Helper().gwei2dec(lp.reserve1)\n",
    "        y = UniV3Helper().gwei2dec(lp.reserve0)\n",
    "        \n",
    "    L = UniV3Helper().gwei2dec(lp.total_supply)\n",
    "    gamma = 997/1000\n",
    "\n",
    "    dL = calc_lp_settlement(lp, token_in, amt) \n",
    "    dx = dL*x/L\n",
    "    dy = dL*y/L\n",
    "    aswap = (gamma*dx)*(y-dy)/(x-dx+gamma*dx)\n",
    "\n",
    "    return dy/amt  "
   ]
  },
  {
   "cell_type": "code",
   "execution_count": 23,
   "id": "e4e695ee-bde3-46fd-a8ef-43a11993929c",
   "metadata": {},
   "outputs": [
    {
     "name": "stdout",
     "output_type": "stream",
     "text": [
      "The correct portion (for step 1) is 0.512645\n"
     ]
    }
   ],
   "source": [
    "alpha = calc_withdraw_portion(lp, eth, eth_amt)\n",
    "print('The correct portion (for step 1) is {:.6f}'.format(alpha))"
   ]
  },
  {
   "cell_type": "markdown",
   "id": "06fb57f1-12c8-4b67-9d55-e97d5381886d",
   "metadata": {},
   "source": [
    "#### Finally, lets run through the steps to a ```WithdrawSwap``` and compare above"
   ]
  },
  {
   "cell_type": "code",
   "execution_count": 24,
   "id": "23399fc5-08a1-4430-b8d5-b0a0ee0935e9",
   "metadata": {},
   "outputs": [
    {
     "name": "stdout",
     "output_type": "stream",
     "text": [
      "***\n",
      "Initial LP\n",
      "***\n",
      "Exchange ETH-TKN (LP)\n",
      "Reserves: ETH = 1100.0, TKN = 100000.0\n",
      "Liquidity: 10488.088481701516 \n",
      "\n",
      "***\n",
      "LP post step 1\n",
      "***\n",
      "Exchange ETH-TKN (LP)\n",
      "Reserves: ETH = 1048.735527472211, TKN = 95339.59340656463\n",
      "Liquidity: 9999.300914574962 \n",
      "\n",
      "***\n",
      "LP post step 2\n",
      "***\n",
      "Exchange ETH-TKN (LP)\n",
      "Reserves: ETH = 999.9999999999999, TKN = 100000.0\n",
      "Liquidity: 9999.300914574962 \n",
      "\n",
      "Total withdrawn is 51.264473 + 48.735527 = 100.000000 ETH\n",
      "Of the requested 100 ETH, a total of 100.000000 ETH has been withdrawn\n"
     ]
    }
   ],
   "source": [
    "tkn = ERC20(\"TKN\", \"0x111\")\n",
    "eth = ERC20(\"ETH\", \"0x09\")\n",
    "exchg_data = UniswapExchangeData(tkn0 = eth, tkn1 = tkn, symbol=\"LP\", address=\"0x011\")\n",
    "\n",
    "factory = UniswapFactory(\"ETH pool factory\", \"0x2\")\n",
    "lp = factory.deploy(exchg_data)\n",
    "lp.add_liquidity(user_nm, eth_amount+100, tkn_amount, eth_amount+100, tkn_amount)\n",
    "\n",
    "print('***\\nInitial LP\\n***')\n",
    "lp.summary()\n",
    "\n",
    "amt_out = 100\n",
    "token_out = eth\n",
    "user_nm = 'user0'\n",
    "\n",
    "# Step 1: withdrawal\n",
    "p_out = calc_withdraw_portion(lp, token_out, amt_out)\n",
    "removeLiq = RemoveLiquidity()\n",
    "res = removeLiq.apply(lp, token_out, user_nm, p_out*amt_out)\n",
    "\n",
    "print('***\\nLP post step 1\\n***')\n",
    "lp.summary()\n",
    "\n",
    "# Step 2: swap\n",
    "out = Swap().apply(lp, trading_token, user_nm, res[trading_token.token_name])  \n",
    "\n",
    "print('***\\nLP post step 2\\n***')\n",
    "lp.summary() \n",
    "\n",
    "withdrawn = res[eth.token_name]  + out\n",
    "\n",
    "print('Total withdrawn is {:.6f} + {:.6f} = {:.6f} ETH'.format(p_out*amt_out, out, withdrawn))\n",
    "print('Of the requested {} ETH, a total of {:.6f} ETH has been withdrawn'.format(amt_out, withdrawn))"
   ]
  },
  {
   "cell_type": "markdown",
   "id": "d6c9b05a-1e87-4c81-ae8e-7ef16b8ea399",
   "metadata": {},
   "source": [
    "#### Finally, let's check when our solution is integrated into ```WithdrawSwap```"
   ]
  },
  {
   "cell_type": "code",
   "execution_count": 25,
   "id": "3ea65167-15a2-4ea0-8c06-108eb1ca6bee",
   "metadata": {},
   "outputs": [
    {
     "name": "stdout",
     "output_type": "stream",
     "text": [
      "Exchange ETH-TKN (LP)\n",
      "Reserves: ETH = 1100.0, TKN = 100000.0\n",
      "Liquidity: 10488.088481701516 \n",
      "\n",
      "Exchange ETH-TKN (LP)\n",
      "Reserves: ETH = 1000.0, TKN = 100000.0\n",
      "Liquidity: 9999.300914574964 \n",
      "\n"
     ]
    }
   ],
   "source": [
    "tkn = ERC20(\"TKN\", \"0x111\")\n",
    "eth = ERC20(\"ETH\", \"0x09\")\n",
    "exchg_data = UniswapExchangeData(tkn0 = eth, tkn1 = tkn, symbol=\"LP\", address=\"0x011\")\n",
    "\n",
    "factory = UniswapFactory(\"ETH pool factory\", \"0x2\")\n",
    "lp = factory.deploy(exchg_data)\n",
    "lp.add_liquidity(user_nm, eth_amount+100, tkn_amount, eth_amount+100, tkn_amount)\n",
    "lp.summary()\n",
    "\n",
    "out = WithdrawSwap().apply(lp, eth, user_nm, 100)\n",
    "lp.summary() \n"
   ]
  }
 ],
 "metadata": {
  "kernelspec": {
   "display_name": "Python 3 (ipykernel)",
   "language": "python",
   "name": "python3"
  },
  "language_info": {
   "codemirror_mode": {
    "name": "ipython",
    "version": 3
   },
   "file_extension": ".py",
   "mimetype": "text/x-python",
   "name": "python",
   "nbconvert_exporter": "python",
   "pygments_lexer": "ipython3",
   "version": "3.10.0rc2"
  }
 },
 "nbformat": 4,
 "nbformat_minor": 5
}
