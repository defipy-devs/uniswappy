{
 "cells": [
  {
   "cell_type": "markdown",
   "id": "11c8b0b4-354a-43a8-8e85-9f33619291e9",
   "metadata": {},
   "source": [
    "# Abstract Interface (V2)\n",
    "### Machine precision tests for solidity vetting"
   ]
  },
  {
   "cell_type": "code",
   "execution_count": 1,
   "id": "55367776-83d1-45ef-b427-c2cc64c87878",
   "metadata": {},
   "outputs": [],
   "source": [
    "from uniswappy import *"
   ]
  },
  {
   "cell_type": "code",
   "execution_count": 2,
   "id": "07c46b65-7dc9-483a-9961-8cf3336605c8",
   "metadata": {},
   "outputs": [],
   "source": [
    "user_nm = 'user_machine_check'\n",
    "eth_amount = UniV3Helper().dec2gwei(1000)\n",
    "dai_amount = UniV3Helper().dec2gwei(100000) "
   ]
  },
  {
   "cell_type": "markdown",
   "id": "85d66a5e-91d5-4b1b-b559-67be288605de",
   "metadata": {},
   "source": [
    "### 1. Check abstract interface"
   ]
  },
  {
   "cell_type": "code",
   "execution_count": 3,
   "id": "4cee5189-a166-4ddd-9510-44fd5561d032",
   "metadata": {},
   "outputs": [
    {
     "name": "stdout",
     "output_type": "stream",
     "text": [
      "Exchange ETH-DAI (LP)\n",
      "Reserves: ETH = 1000000000000000000000, DAI = 100000000000000000000000\n",
      "Liquidity: 10000000000000000000000 \n",
      "\n"
     ]
    }
   ],
   "source": [
    "dai = ERC20(\"DAI\", \"0x111\")\n",
    "eth = ERC20(\"ETH\", \"0x09\")\n",
    "exchg_data = UniswapExchangeData(tkn0 = eth, tkn1 = dai, symbol=\"LP\", address=\"0x011\", precision = UniswapExchangeData.TYPE_GWEI)\n",
    "\n",
    "factory = UniswapFactory(\"ETH pool factory\", \"0x2\")\n",
    "lp = factory.deploy(exchg_data)\n",
    "\n",
    "Join().apply(lp, user_nm, eth_amount, dai_amount)\n",
    "lp.summary()"
   ]
  },
  {
   "cell_type": "code",
   "execution_count": 4,
   "id": "94b5dc5b-38b6-475b-aaef-667cfcf5da95",
   "metadata": {},
   "outputs": [
    {
     "name": "stdout",
     "output_type": "stream",
     "text": [
      "Exchange ETH-DAI (LP)\n",
      "Reserves: ETH = 1000000000000000000000, DAI = 100000000000000000000000\n",
      "Liquidity: 10000000000000000000000 \n",
      "\n",
      "Exchange ETH-DAI (LP)\n",
      "Reserves: ETH = 1010000000000000000000, DAI = 101000000000000000000000\n",
      "Liquidity: 10100000000000000000000 \n",
      "\n"
     ]
    }
   ],
   "source": [
    "dai = ERC20(\"DAI\", \"0x111\")\n",
    "eth = ERC20(\"ETH\", \"0x09\")\n",
    "exchg_data = UniswapExchangeData(tkn0 = eth, tkn1 = dai, symbol=\"LP\", address=\"0x011\", precision = UniswapExchangeData.TYPE_GWEI)\n",
    "\n",
    "factory = UniswapFactory(\"ETH pool factory\", \"0x2\")\n",
    "lp = factory.deploy(exchg_data)\n",
    "\n",
    "Join().apply(lp, user_nm, eth_amount, dai_amount)\n",
    "lp.summary()\n",
    "\n",
    "AddLiquidity().apply(lp, eth, user_nm, UniV3Helper().dec2gwei(10))\n",
    "lp.summary()"
   ]
  },
  {
   "cell_type": "code",
   "execution_count": 5,
   "id": "d886546f-854a-451d-82df-4ee7bc244cc3",
   "metadata": {},
   "outputs": [
    {
     "name": "stdout",
     "output_type": "stream",
     "text": [
      "Exchange ETH-DAI (LP)\n",
      "Reserves: ETH = 1000000000000000000000, DAI = 100000000000000000000000\n",
      "Liquidity: 10000000000000000000000 \n",
      "\n",
      "Exchange ETH-DAI (LP)\n",
      "Reserves: ETH = 900000000000000000000, DAI = 90000000000000000000000\n",
      "Liquidity: 9000000000000000000000 \n",
      "\n"
     ]
    }
   ],
   "source": [
    "dai = ERC20(\"DAI\", \"0x111\")\n",
    "eth = ERC20(\"ETH\", \"0x09\")\n",
    "exchg_data = UniswapExchangeData(tkn0 = eth, tkn1 = dai, symbol=\"LP\", address=\"0x011\", precision = UniswapExchangeData.TYPE_GWEI)\n",
    "\n",
    "factory = UniswapFactory(\"ETH pool factory\", \"0x2\")\n",
    "lp = factory.deploy(exchg_data)\n",
    "\n",
    "Join().apply(lp, user_nm, eth_amount, dai_amount)\n",
    "lp.summary()\n",
    "\n",
    "RemoveLiquidity().apply(lp, eth, user_nm, UniV3Helper().dec2gwei(100))\n",
    "lp.summary()"
   ]
  },
  {
   "cell_type": "code",
   "execution_count": 6,
   "id": "656c79af-aec1-488d-aae6-ee9cff2781f6",
   "metadata": {},
   "outputs": [
    {
     "name": "stdout",
     "output_type": "stream",
     "text": [
      "Exchange ETH-DAI (LP)\n",
      "Reserves: ETH = 1000000000000000000000, DAI = 100000000000000000000000\n",
      "Liquidity: 10000000000000000000000 \n",
      "\n",
      "Exchange ETH-DAI (LP)\n",
      "Reserves: ETH = 990128419656029387011, DAI = 101000000000000000000000\n",
      "Liquidity: 10000000000000000000000 \n",
      "\n"
     ]
    }
   ],
   "source": [
    "dai = ERC20(\"DAI\", \"0x111\")\n",
    "eth = ERC20(\"ETH\", \"0x09\")\n",
    "exchg_data = UniswapExchangeData(tkn0 = eth, tkn1 = dai, symbol=\"LP\", address=\"0x011\", precision = UniswapExchangeData.TYPE_GWEI)\n",
    "\n",
    "factory = UniswapFactory(\"ETH pool factory\", \"0x2\")\n",
    "lp = factory.deploy(exchg_data)\n",
    "\n",
    "Join().apply(lp, user_nm, eth_amount, dai_amount)\n",
    "lp.summary()\n",
    "\n",
    "Swap().apply(lp, dai, user_nm, UniV3Helper().dec2gwei(1000))\n",
    "lp.summary()"
   ]
  },
  {
   "cell_type": "code",
   "execution_count": 7,
   "id": "b6e8a291-4c63-4865-8403-daf48f48e30c",
   "metadata": {},
   "outputs": [
    {
     "name": "stdout",
     "output_type": "stream",
     "text": [
      "Exchange ETH-DAI (LP)\n",
      "Reserves: ETH = 1000000000000000000000, DAI = 100000000000000000000000\n",
      "Liquidity: 10000000000000000000000 \n",
      "\n",
      "Exchange ETH-DAI (LP)\n",
      "Reserves: ETH = 989999999999999999241, DAI = 100000000000000000000000\n",
      "Liquidity: 9949799447405356572672 \n",
      "\n"
     ]
    }
   ],
   "source": [
    "dai = ERC20(\"DAI\", \"0x111\")\n",
    "eth = ERC20(\"ETH\", \"0x09\")\n",
    "exchg_data = UniswapExchangeData(tkn0 = eth, tkn1 = dai, symbol=\"LP\", address=\"0x011\", precision = UniswapExchangeData.TYPE_GWEI)\n",
    "\n",
    "factory = UniswapFactory(\"ETH pool factory\", \"0x2\")\n",
    "lp = factory.deploy(exchg_data)\n",
    "\n",
    "Join().apply(lp, user_nm, eth_amount, dai_amount)\n",
    "lp.summary()\n",
    "\n",
    "WithdrawSwap().apply(lp, eth, user_nm, UniV3Helper().dec2gwei(10))\n",
    "lp.summary()"
   ]
  },
  {
   "cell_type": "markdown",
   "id": "07930d7c-1e46-46a7-8d8f-f1e9b9ef8b74",
   "metadata": {},
   "source": [
    "### 2. Check quotes"
   ]
  },
  {
   "cell_type": "code",
   "execution_count": 8,
   "id": "4c7c2194-11aa-4e6c-87b8-b9735ad15d62",
   "metadata": {},
   "outputs": [
    {
     "name": "stdout",
     "output_type": "stream",
     "text": [
      "Exchange ETH-DAI (LP)\n",
      "Reserves: ETH = 1000000000000000000000, DAI = 100000000000000000000000\n",
      "Liquidity: 10000000000000000000000 \n",
      "\n"
     ]
    }
   ],
   "source": [
    "dai = ERC20(\"DAI\", \"0x111\")\n",
    "eth = ERC20(\"ETH\", \"0x09\")\n",
    "exchg_data = UniswapExchangeData(tkn0 = eth, tkn1 = dai, symbol=\"LP\", address=\"0x011\", precision = UniswapExchangeData.TYPE_GWEI)\n",
    "\n",
    "factory = UniswapFactory(\"ETH pool factory\", \"0x2\")\n",
    "lp = factory.deploy(exchg_data)\n",
    "\n",
    "Join().apply(lp, user_nm, eth_amount, dai_amount)\n",
    "lp.summary()"
   ]
  },
  {
   "cell_type": "code",
   "execution_count": 9,
   "id": "23b172bf-6e04-4e8b-84be-93bb5e33da8a",
   "metadata": {},
   "outputs": [
    {
     "name": "stdout",
     "output_type": "stream",
     "text": [
      "The price of ETH in DAI is 100.0\n",
      "The price of DAI in ETH is 0.01\n"
     ]
    }
   ],
   "source": [
    "p_eth = LPQuote().get_price(lp, eth)\n",
    "p_dai = LPQuote().get_price(lp, dai)\n",
    "print(f'The price of {eth.token_name} in {dai.token_name} is {p_eth}')\n",
    "print(f'The price of {dai.token_name} in {eth.token_name} is {p_dai}')"
   ]
  },
  {
   "cell_type": "code",
   "execution_count": 10,
   "id": "117c183c-ca84-4f0b-b03f-acb9db684118",
   "metadata": {},
   "outputs": [
    {
     "name": "stdout",
     "output_type": "stream",
     "text": [
      "1000000000000000000 ETH token is worth 9969900600091018 DAI after swap fees\n",
      "1000000000000000000 DAI token is worth 99600698103990321650 ETH after swap fees\n"
     ]
    }
   ],
   "source": [
    "amt_eth = LPQuote(include_fee = True).get_amount(lp, eth, UniV3Helper().dec2gwei(1))\n",
    "amt_dai = LPQuote(include_fee = True).get_amount(lp, dai, UniV3Helper().dec2gwei(1))\n",
    "print(f'{UniV3Helper().dec2gwei(1)} {eth.token_name} token is worth {amt_dai} {dai.token_name} after swap fees')\n",
    "print(f'{UniV3Helper().dec2gwei(1)} {dai.token_name} token is worth {amt_eth} {eth.token_name} after swap fees')"
   ]
  },
  {
   "cell_type": "code",
   "execution_count": 11,
   "id": "d61a1289-e47f-4e4e-8b50-5723d88a2555",
   "metadata": {},
   "outputs": [
    {
     "name": "stdout",
     "output_type": "stream",
     "text": [
      "1000000000000000000 LP token is worth 199690059907017973 ETH\n",
      "1000000000000000000 LP token is worth 1.9969005990701797e+19 DAI\n"
     ]
    }
   ],
   "source": [
    "amt_eth = LPQuote(False).get_amount_from_lp(lp, eth, UniV3Helper().dec2gwei(1))\n",
    "amt_dai = LPQuote().get_amount_from_lp(lp, eth, UniV3Helper().dec2gwei(1))\n",
    "print(f'{UniV3Helper().dec2gwei(1)} LP token is worth {amt_eth} {eth.token_name}')\n",
    "print(f'{UniV3Helper().dec2gwei(1)} LP token is worth {amt_dai} {dai.token_name}')"
   ]
  },
  {
   "cell_type": "markdown",
   "id": "405eccd0-bba0-4f95-9169-06d6119c54b2",
   "metadata": {},
   "source": [
    "### 3. Classic tree config "
   ]
  },
  {
   "cell_type": "code",
   "execution_count": 12,
   "id": "b9bd7cee-6a1c-43f4-9a25-289fd035753d",
   "metadata": {},
   "outputs": [],
   "source": [
    "tkn_amount = UniV3Helper().dec2gwei(100000)  \n",
    "usdt_amount = UniV3Helper().dec2gwei(100000)  \n",
    "\n",
    "tkn_nm = 'USDC'\n",
    "itkn_nm = 'iUSDC'\n",
    "usdt_nm = 'USDT'\n",
    "iusdt_nm = 'iUSDT'"
   ]
  },
  {
   "cell_type": "code",
   "execution_count": 13,
   "id": "4df8c0d9-7333-42e5-94f1-2a5f699074d8",
   "metadata": {},
   "outputs": [
    {
     "name": "stdout",
     "output_type": "stream",
     "text": [
      "Exchange USDC-USDT (LP)\n",
      "Reserves: USDC = 109999999999999999072351, USDT = 109999999999999999072352\n",
      "Liquidity: 109984620658241662373796 \n",
      "\n",
      "Exchange USDC-iUSDC (LP1)\n",
      "Reserves: USDC = 9972071706380652773376, iUSDC = 4873552747221099553490\n",
      "Liquidity: 6971328242172880813044 \n",
      "\n"
     ]
    }
   ],
   "source": [
    "usdt1 = ERC20(usdt_nm, \"0x111\")\n",
    "tkn1 = ERC20(tkn_nm, \"0x09\")\n",
    "exchg_data = UniswapExchangeData(tkn0 = tkn1, tkn1 = usdt1, symbol=\"LP\", address=\"0x011\", precision = UniswapExchangeData.TYPE_GWEI)\n",
    "\n",
    "iVault1 = IndexVault('iVault1', \"0x7\")\n",
    "factory = UniswapFactory(f\"{tkn_nm} pool factory\", \"0x2\")\n",
    "lp = factory.deploy(exchg_data)\n",
    "Join().apply(lp, user_nm, tkn_amount, usdt_amount)\n",
    "\n",
    "tkn2 = ERC20(tkn_nm, \"0x09\")\n",
    "itkn1 = IndexERC20(itkn_nm, \"0x09\", tkn1, lp)\n",
    "exchg_data1 = UniswapExchangeData(tkn0 = tkn2, tkn1 = itkn1, symbol=\"LP1\", address=\"0x012\", precision = UniswapExchangeData.TYPE_GWEI)\n",
    "lp1 = factory.deploy(exchg_data1)\n",
    "JoinTree().apply(lp1, user_nm, iVault1, UniV3Helper().dec2gwei(10000))\n",
    "\n",
    "# Re-balance LP price after JoinTree\n",
    "SwapDeposit().apply(lp, usdt1, user_nm, lp.get_reserve(tkn1) - lp.get_reserve(usdt1))\n",
    "\n",
    "lp.summary()\n",
    "lp1.summary()"
   ]
  }
 ],
 "metadata": {
  "kernelspec": {
   "display_name": "Python 3 (ipykernel)",
   "language": "python",
   "name": "python3"
  },
  "language_info": {
   "codemirror_mode": {
    "name": "ipython",
    "version": 3
   },
   "file_extension": ".py",
   "mimetype": "text/x-python",
   "name": "python",
   "nbconvert_exporter": "python",
   "pygments_lexer": "ipython3",
   "version": "3.10.0rc2"
  }
 },
 "nbformat": 4,
 "nbformat_minor": 5
}
