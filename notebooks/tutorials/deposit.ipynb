{
 "cells": [
  {
   "cell_type": "markdown",
   "id": "c5e92575-a5be-4c71-84a2-bcbb579aecf9",
   "metadata": {},
   "source": [
    "## Deep dive into SwapDeposit()"
   ]
  },
  {
   "cell_type": "code",
   "execution_count": 1,
   "id": "4087412d-29ba-47b1-b413-c8b7d70ee84f",
   "metadata": {},
   "outputs": [],
   "source": [
    "import os\n",
    "import copy\n",
    "import numpy as np\n",
    "import pandas as pd\n",
    "import time\n",
    "import datetime\n",
    "import math as mth\n",
    "import pytest\n",
    "from termcolor import colored\n",
    "import matplotlib.pyplot as plt\n",
    "import dataclasses"
   ]
  },
  {
   "cell_type": "code",
   "execution_count": 2,
   "id": "bfe6471c-6aeb-40c6-a869-cd59ca8d1fb2",
   "metadata": {},
   "outputs": [],
   "source": [
    "from uniswappy import *"
   ]
  },
  {
   "cell_type": "code",
   "execution_count": 3,
   "id": "24d1d9fc-ce68-48ba-96ee-7ac69d8e5f4e",
   "metadata": {},
   "outputs": [],
   "source": [
    "user_nm = 'user0'\n",
    "eth_amount = 1000\n",
    "tkn_amount = 1000000"
   ]
  },
  {
   "cell_type": "markdown",
   "id": "5556e7fb-7685-49a3-b28f-4f6382938b97",
   "metadata": {},
   "source": [
    "#### SwapDeposit (incl. fee):\n",
    "\n",
    "* A ```SwapDeposit``` is where a certain amount of a specific token is deposited into the LP under one operation\n",
    "* Includes two steps:\n",
    "    * (step 1) perform approx. 50% swap for opposing token\n",
    "    * (step 2) using amt from step 1, perform 1:1 deposit\n",
    "* A portion of the incoming funds are swapped to achieve equal portions of both assets\n",
    "* These portions are then deposited into the LP\n",
    "* To ensure all the funds are deposited, we must determine the portion ($\\alpha$) of $s_{in}$ that must first get swapped\n",
    "\n",
    "> $ \\Delta x =\\Delta x_{swap}  + \\Delta x_{deposit}$\n",
    "\n",
    "> $ \\Delta x =\\alpha \\Delta x   + \\Delta x_{deposit}$\n",
    "\n",
    "\n",
    "#### Follows this system of equations:\n",
    "\n",
    "> (Eq. 1) $\\Delta y = \\frac{997 y \\alpha \\Delta x }{1000x + 997\\alpha\\Delta x }$\n",
    "\n",
    "> (Eq. 2) $\\Delta x = \\alpha\\Delta x   + \\frac{\\Delta y(x + \\alpha\\Delta x )}{y - \\Delta y}$\n",
    "\n",
    "where \n",
    "* $\\Delta x$ -> amt token in \n",
    "* $\\Delta y$ -> amt opposing token out after swap\n",
    "* $\\alpha$ -> portion of $\\Delta x$ swapped in\n",
    "* x -> reserve0\n",
    "* y -> reserve1"
   ]
  },
  {
   "cell_type": "markdown",
   "id": "cc6e5fc9-59af-415b-a705-19d95e45608a",
   "metadata": {},
   "source": [
    "### Let's highlight why the above considerations are important ..."
   ]
  },
  {
   "cell_type": "code",
   "execution_count": 4,
   "id": "df9c5159-8e91-403f-8cd9-119e482560a3",
   "metadata": {},
   "outputs": [
    {
     "name": "stdout",
     "output_type": "stream",
     "text": [
      "***\n",
      "Initial LP\n",
      "***\n",
      "Exchange ETH-USDC (LP)\n",
      "Reserves: ETH = 1000.0, USDC = 1000000.0\n",
      "Liquidity: 31622.776601683792 \n",
      "\n",
      "***\n",
      "LP post step 1\n",
      "***\n",
      "Exchange ETH-USDC (LP)\n",
      "Reserves: ETH = 1050.0, USDC = 952517.026241844\n",
      "Liquidity: 31622.776601683792 \n",
      "\n",
      "0\n",
      "0\n",
      "***\n",
      "LP post step 2\n",
      "***\n",
      "Exchange ETH-USDC (LP)\n",
      "Reserves: ETH = 1100.0, USDC = 997874.9798724081\n",
      "Liquidity: 33128.623106525876 \n",
      "\n",
      "Given 100 initial ETH:\n",
      "  (step 1) 50.0 ETH must first get swapped for 47482973758155924000000 \n",
      "  (step 2) The received TKN gets deposited along with the remaining 50.0 ETH\n",
      "\n",
      "Total deposited is 50.000000 + 50.000000 = 100.000000 ETH:\n",
      "However, we have \u001b[1m\u001b[31m-997874979872408079134912\u001b[0m unaccounted USDC which need to be considered when using a 50/50 split\n"
     ]
    }
   ],
   "source": [
    "eth = ERC20(\"ETH\", \"0x09\")\n",
    "usdc = ERC20(\"USDC\", \"0x111\")\n",
    "exchg_data = UniswapExchangeData(tkn0 = eth, tkn1 = usdc, symbol=\"LP\", address=\"0x011\")\n",
    "\n",
    "factory = UniswapFactory(\"ETH pool factory\", \"0x2\")\n",
    "lp = factory.deploy(exchg_data)\n",
    "lp.add_liquidity(user_nm, eth_amount, tkn_amount, eth_amount, tkn_amount)\n",
    "\n",
    "print('***\\nInitial LP\\n***')\n",
    "lp.summary()\n",
    "\n",
    "s_in = 100\n",
    "alpha = 0.5\n",
    "s_out = Swap().apply(lp, eth, user_nm, alpha*s_in)\n",
    "\n",
    "print('***\\nLP post step 1\\n***')\n",
    "lp.summary()\n",
    "\n",
    "balance0 = alpha*s_in\n",
    "balance1 = lp.quote(balance0, lp.reserve0, lp.reserve1)\n",
    "lp.add_liquidity(user_nm, balance0, balance1, balance0, balance1)\n",
    "\n",
    "print('***\\nLP post step 2\\n***')\n",
    "lp.summary()\n",
    "\n",
    "\n",
    "print('Given {} initial ETH:'.format(s_in))\n",
    "print('  (step 1) {} ETH must first get swapped for {} '.format(alpha*s_in, s_out))\n",
    "print('  (step 2) The received TKN gets deposited along with the remaining {} ETH'.format(balance0))\n",
    "\n",
    "print('\\nTotal deposited is {:.6f} + {:.6f} = {:.6f} ETH:'.format(alpha*s_in,  balance0, alpha*s_in + balance0))\n",
    "print('However, we have {} unaccounted USDC which need to be considered when using a 50/50 split'.format(colored(str(tkn_amount-lp.reserve1), 'red', attrs=['bold'])))"
   ]
  },
  {
   "cell_type": "code",
   "execution_count": 5,
   "id": "7d8b1466-fb14-4bc5-bd04-8968f20821db",
   "metadata": {},
   "outputs": [
    {
     "name": "stdout",
     "output_type": "stream",
     "text": [
      "***\n",
      "Initial LP\n",
      "***\n",
      "Exchange ETH-USDC (LP)\n",
      "Reserves: ETH = 1000.0, USDC = 1000000.0\n",
      "Liquidity: 31622.776601683792 \n",
      "\n",
      "***\n",
      "LP post step 1\n",
      "***\n",
      "Exchange ETH-USDC (LP)\n",
      "Reserves: ETH = 1050.0, USDC = 952517.026241844\n",
      "Liquidity: 31622.776601683792 \n",
      "\n",
      "0\n",
      "0\n",
      "***\n",
      "LP post step 2\n",
      "***\n",
      "Exchange ETH-USDC (LP)\n",
      "Reserves: ETH = 1100.0, USDC = 997874.9798724081\n",
      "Liquidity: 33128.623106525876 \n",
      "\n",
      "Given 100 initial ETH:\n",
      "  (step 1) 50.0 ETH must first get swapped for 47482973758155924000000 \n",
      "  (step 2) The received TKN gets deposited along with the remaining 50.0 ETH\n",
      "\n",
      "Total deposited is 50.000000 + 50.000000 = 100.000000 ETH:\n",
      "However, we have \u001b[1m\u001b[31m-997874979872408079134912\u001b[0m unaccounted USDC which need to be considered when using a 50/50 split\n"
     ]
    }
   ],
   "source": [
    "eth = ERC20(\"ETH\", \"0x09\")\n",
    "usdc = ERC20(\"USDC\", \"0x111\")\n",
    "exchg_data = UniswapExchangeData(tkn0 = eth, tkn1 = usdc, symbol=\"LP\", address=\"0x011\")\n",
    "\n",
    "factory = UniswapFactory(\"ETH pool factory\", \"0x2\")\n",
    "lp = factory.deploy(exchg_data)\n",
    "lp.add_liquidity(user_nm, eth_amount, tkn_amount, eth_amount, tkn_amount)\n",
    "\n",
    "print('***\\nInitial LP\\n***')\n",
    "lp.summary()\n",
    "\n",
    "s_in = 100\n",
    "alpha = 0.5\n",
    "s_out = Swap().apply(lp, eth, user_nm, alpha*s_in)\n",
    "\n",
    "print('***\\nLP post step 1\\n***')\n",
    "lp.summary()\n",
    "\n",
    "balance0 = alpha*s_in\n",
    "balance1 = lp.quote(balance0, lp.reserve0, lp.reserve1)\n",
    "lp.add_liquidity(user_nm, balance0, balance1, balance0, balance1)\n",
    "\n",
    "print('***\\nLP post step 2\\n***')\n",
    "lp.summary()\n",
    "\n",
    "\n",
    "print('Given {} initial ETH:'.format(s_in))\n",
    "print('  (step 1) {} ETH must first get swapped for {} '.format(alpha*s_in, s_out))\n",
    "print('  (step 2) The received TKN gets deposited along with the remaining {} ETH'.format(balance0))\n",
    "\n",
    "print('\\nTotal deposited is {:.6f} + {:.6f} = {:.6f} ETH:'.format(alpha*s_in,  balance0, alpha*s_in + balance0))\n",
    "print('However, we have {} unaccounted USDC which need to be considered when using a 50/50 split'.format(colored(str(tkn_amount-lp.reserve1), 'red', attrs=['bold'])))"
   ]
  },
  {
   "cell_type": "markdown",
   "id": "88de0c9b-2f8f-40c1-937a-51fca2da214f",
   "metadata": {},
   "source": [
    "### Let's now address this problem ..."
   ]
  },
  {
   "cell_type": "code",
   "execution_count": 6,
   "id": "3f1ef04b-fd23-4152-a192-72e67216e850",
   "metadata": {},
   "outputs": [],
   "source": [
    "tkn = ERC20(\"TKN\", \"0x111\")\n",
    "eth = ERC20(\"ETH\", \"0x09\")\n",
    "exchg_data = UniswapExchangeData(tkn0 = eth, tkn1 = tkn, symbol=\"LP\", address=\"0x011\", precision = UniswapExchangeData.TYPE_GWEI)\n",
    "\n",
    "factory = UniswapFactory(\"ETH pool factory\", \"0x2\")\n",
    "lp = factory.deploy(exchg_data)\n",
    "lp.add_liquidity(user_nm, eth_amount, tkn_amount, eth_amount, tkn_amount)\n",
    "\n",
    "s_in = 100\n",
    "alpha = 0.5\n",
    "y = lp.reserve1\n",
    "x = lp.reserve0"
   ]
  },
  {
   "cell_type": "markdown",
   "id": "3aabe39e-d397-4dae-86f9-69082cdd144f",
   "metadata": {},
   "source": [
    "#### Plug above into equation (1), and see how many TKN we get when 50% of ETH is swapped in for step (1)"
   ]
  },
  {
   "cell_type": "code",
   "execution_count": 7,
   "id": "f9b4b136-71f1-4a01-a817-ceed7ec35d48",
   "metadata": {},
   "outputs": [
    {
     "name": "stdout",
     "output_type": "stream",
     "text": [
      "For 100 ETH, we get 47482.97 TKN with a 50% portion\n"
     ]
    }
   ],
   "source": [
    "s_out = (997*alpha*s_in*y)/(1000*x + 997*alpha*s_in)\n",
    "print('For {} ETH, we get {:.2f} TKN with a 50% portion'.format(s_in, s_out))"
   ]
  },
  {
   "cell_type": "markdown",
   "id": "a3ce783e-8d67-49cb-a0c1-68e3fae8eee9",
   "metadata": {},
   "source": [
    "#### Now, lets check how many ETH gets SwapDeposited in when 50% of ETH is swapped in for step (1)"
   ]
  },
  {
   "cell_type": "code",
   "execution_count": 8,
   "id": "bb851bec-6a25-41ee-949c-7b1e160c5ea8",
   "metadata": {},
   "outputs": [
    {
     "name": "stdout",
     "output_type": "stream",
     "text": [
      "Instead of 100 ETH, we get 102.34 ETH under a 50% portion\n"
     ]
    }
   ],
   "source": [
    "a1_out = alpha*s_in + s_out*(x + alpha*s_in)/(y - s_out)\n",
    "print('Instead of {} ETH, we get {:.2f} ETH under a 50% portion'.format(s_in, a1_out))"
   ]
  },
  {
   "cell_type": "markdown",
   "id": "103b8dd4-80a1-4455-84ea-3275025a6141",
   "metadata": {},
   "source": [
    "We can see that there is an imbalance in the system under a 50% distribution for step (1); \n",
    "* we need to solve the system above for $\\alpha$ to get the proper distribution\n",
    "* plug (1) into (2) and we get:\n",
    "\n",
    "$\\Delta x = \\alpha\\Delta x + \\left(\\frac{997 y\\alpha\\Delta x}{1000x + 997\\alpha\\Delta x} \\right) \\left(\\frac{ x + \\alpha\\Delta x}{y - \\frac{997 y \\alpha \\Delta x}{1000x + 997\\alpha\\Delta x}} \\right)$\n",
    "\n",
    "reduces to: \n",
    "\n",
    "$\\alpha^2 \\frac{997 \\Delta x^2}{1000x} + \\alpha\\frac{1997\\Delta x}{1000} - \\Delta x = 0$\n",
    "\n",
    "#### Now, solve for $\\alpha$, and we can calculate the correct distribution using ```calc_deposit_dist``` "
   ]
  },
  {
   "cell_type": "code",
   "execution_count": 9,
   "id": "5c4f50bd-a286-4f3e-94e2-ad1ce20d6ed8",
   "metadata": {},
   "outputs": [],
   "source": [
    "def calc_deposit_portion(lp, token_in, dx):\n",
    "        \n",
    "    if(token_in.token_name == lp.token0):\n",
    "        tkn_supply = lp.reserve0\n",
    "    else:    \n",
    "        tkn_supply = lp.reserve1\n",
    "            \n",
    "    a = 997*(dx**2)/(1000*tkn_supply)\n",
    "    b = dx*(1997/1000)\n",
    "    c = -dx\n",
    "\n",
    "    alpha = -(b - mth.sqrt(b*b - 4*a*c)) / (2*a)\n",
    "    return alpha "
   ]
  },
  {
   "cell_type": "code",
   "execution_count": 10,
   "id": "3d7a0bdb-6bf1-4589-8bba-94ce022155ba",
   "metadata": {},
   "outputs": [
    {
     "name": "stdout",
     "output_type": "stream",
     "text": [
      "The correct swap distrbution (for step 1) is 0.4888217399419355\n"
     ]
    }
   ],
   "source": [
    "alpha = calc_deposit_portion(lp, eth, s_in)\n",
    "print('The correct swap distrbution (for step 1) is {}'.format(alpha))"
   ]
  },
  {
   "cell_type": "markdown",
   "id": "0333ae75-ab5a-4302-8103-c6e5e1024755",
   "metadata": {},
   "source": [
    "#### Now, check against our reduced quadratic, and we should expect to get 0"
   ]
  },
  {
   "cell_type": "code",
   "execution_count": 11,
   "id": "b55b12cf-4e4a-4ca5-9cd5-6ad3a6f79369",
   "metadata": {},
   "outputs": [
    {
     "data": {
      "text/plain": [
       "-5.684341886080802e-14"
      ]
     },
     "execution_count": 11,
     "metadata": {},
     "output_type": "execute_result"
    }
   ],
   "source": [
    "997*(alpha**2)*(s_in**2)/(1000*x) + alpha*s_in*(1997/1000) - s_in"
   ]
  },
  {
   "cell_type": "markdown",
   "id": "d3739ee7-2541-488b-a070-bbbeae216a4c",
   "metadata": {},
   "source": [
    "#### Finally, lets run through the steps to a ```SwapDeposit``` and compare above"
   ]
  },
  {
   "cell_type": "code",
   "execution_count": 12,
   "id": "5459e4b6-5ff9-47c0-9276-91ebe20fe5b3",
   "metadata": {},
   "outputs": [
    {
     "name": "stdout",
     "output_type": "stream",
     "text": [
      "***\n",
      "Initial LP\n",
      "***\n",
      "Exchange ETH-TKN (LP)\n",
      "Reserves: ETH = 1000.0, TKN = 1000000.0\n",
      "Liquidity: 31622.776601683792 \n",
      "\n"
     ]
    },
    {
     "ename": "AssertionError",
     "evalue": "UniswapV2Library: INSUFFICIENT_INPUT_AMOUNT",
     "output_type": "error",
     "traceback": [
      "\u001b[0;31m---------------------------------------------------------------------------\u001b[0m",
      "\u001b[0;31mAssertionError\u001b[0m                            Traceback (most recent call last)",
      "Cell \u001b[0;32mIn[12], line 14\u001b[0m\n\u001b[1;32m     12\u001b[0m s_in \u001b[38;5;241m=\u001b[39m \u001b[38;5;241m100\u001b[39m\n\u001b[1;32m     13\u001b[0m alpha \u001b[38;5;241m=\u001b[39m calc_deposit_portion(lp, eth, s_in)\n\u001b[0;32m---> 14\u001b[0m s_out \u001b[38;5;241m=\u001b[39m \u001b[43mSwap\u001b[49m\u001b[43m(\u001b[49m\u001b[43m)\u001b[49m\u001b[38;5;241;43m.\u001b[39;49m\u001b[43mapply\u001b[49m\u001b[43m(\u001b[49m\u001b[43mlp\u001b[49m\u001b[43m,\u001b[49m\u001b[43m \u001b[49m\u001b[43meth\u001b[49m\u001b[43m,\u001b[49m\u001b[43m \u001b[49m\u001b[43muser_nm\u001b[49m\u001b[43m,\u001b[49m\u001b[43m \u001b[49m\u001b[43malpha\u001b[49m\u001b[38;5;241;43m*\u001b[39;49m\u001b[43ms_in\u001b[49m\u001b[43m)\u001b[49m\n\u001b[1;32m     16\u001b[0m \u001b[38;5;28mprint\u001b[39m(\u001b[38;5;124m'\u001b[39m\u001b[38;5;124m***\u001b[39m\u001b[38;5;130;01m\\n\u001b[39;00m\u001b[38;5;124mLP post step 1\u001b[39m\u001b[38;5;130;01m\\n\u001b[39;00m\u001b[38;5;124m***\u001b[39m\u001b[38;5;124m'\u001b[39m)\n\u001b[1;32m     17\u001b[0m lp\u001b[38;5;241m.\u001b[39msummary()\n",
      "File \u001b[0;32m/Library/Frameworks/Python.framework/Versions/3.10/lib/python3.10/site-packages/uniswappy/process/swap/Swap.py:57\u001b[0m, in \u001b[0;36mSwap.apply\u001b[0;34m(self, lp, token_in, user_nm, amount_in, sqrt_price_limit)\u001b[0m\n\u001b[1;32m     54\u001b[0m amount_in \u001b[38;5;241m=\u001b[39m tDel\u001b[38;5;241m.\u001b[39mdelta() \u001b[38;5;28;01mif\u001b[39;00m amount_in \u001b[38;5;241m==\u001b[39m \u001b[38;5;28;01mNone\u001b[39;00m \u001b[38;5;28;01melse\u001b[39;00m amount_in\n\u001b[1;32m     56\u001b[0m \u001b[38;5;28;01mif\u001b[39;00m(lp\u001b[38;5;241m.\u001b[39mversion \u001b[38;5;241m==\u001b[39m UniswapExchangeData\u001b[38;5;241m.\u001b[39mVERSION_V2):\n\u001b[0;32m---> 57\u001b[0m     amount_out \u001b[38;5;241m=\u001b[39m math\u001b[38;5;241m.\u001b[39mfloor(\u001b[43mlp\u001b[49m\u001b[38;5;241;43m.\u001b[39;49m\u001b[43mget_amount_out\u001b[49m\u001b[43m(\u001b[49m\u001b[43mamount_in\u001b[49m\u001b[43m,\u001b[49m\u001b[43m \u001b[49m\u001b[43mtoken_in\u001b[49m\u001b[43m)\u001b[49m)\n\u001b[1;32m     58\u001b[0m     amount_out_expected \u001b[38;5;241m=\u001b[39m lp\u001b[38;5;241m.\u001b[39mswap_exact_tokens_for_tokens(amount_in, amount_out, token_in, to_addr\u001b[38;5;241m=\u001b[39muser_nm)\n\u001b[1;32m     60\u001b[0m \u001b[38;5;28;01melif\u001b[39;00m(lp\u001b[38;5;241m.\u001b[39mversion \u001b[38;5;241m==\u001b[39m UniswapExchangeData\u001b[38;5;241m.\u001b[39mVERSION_V3):\n",
      "File \u001b[0;32m/Library/Frameworks/Python.framework/Versions/3.10/lib/python3.10/site-packages/uniswappy/cpt/exchg/UniswapExchange.py:535\u001b[0m, in \u001b[0;36mUniswapExchange.get_amount_out\u001b[0;34m(self, amount_in, token_in)\u001b[0m\n\u001b[1;32m    517\u001b[0m \u001b[38;5;250m\u001b[39m\u001b[38;5;124;03m\"\"\" get_amount_out\u001b[39;00m\n\u001b[1;32m    518\u001b[0m \n\u001b[1;32m    519\u001b[0m \u001b[38;5;124;03m    Get maximum output of opposing asset given input amount of token\u001b[39;00m\n\u001b[0;32m   (...)\u001b[0m\n\u001b[1;32m    531\u001b[0m \u001b[38;5;124;03m        amount of opposing asset                       \u001b[39;00m\n\u001b[1;32m    532\u001b[0m \u001b[38;5;124;03m\"\"\"\u001b[39;00m \n\u001b[1;32m    534\u001b[0m \u001b[38;5;28;01mif\u001b[39;00m(token_in\u001b[38;5;241m.\u001b[39mtoken_name \u001b[38;5;241m==\u001b[39m \u001b[38;5;28mself\u001b[39m\u001b[38;5;241m.\u001b[39mtoken0):    \n\u001b[0;32m--> 535\u001b[0m     \u001b[38;5;28;01mreturn\u001b[39;00m \u001b[38;5;28;43mself\u001b[39;49m\u001b[38;5;241;43m.\u001b[39;49m\u001b[43mget_amount_out0\u001b[49m\u001b[43m(\u001b[49m\u001b[43mamount_in\u001b[49m\u001b[43m)\u001b[49m \n\u001b[1;32m    536\u001b[0m \u001b[38;5;28;01melif\u001b[39;00m(token_in\u001b[38;5;241m.\u001b[39mtoken_name \u001b[38;5;241m==\u001b[39m \u001b[38;5;28mself\u001b[39m\u001b[38;5;241m.\u001b[39mtoken1):\n\u001b[1;32m    537\u001b[0m     \u001b[38;5;28;01mreturn\u001b[39;00m \u001b[38;5;28mself\u001b[39m\u001b[38;5;241m.\u001b[39mget_amount_out1(amount_in) \n",
      "File \u001b[0;32m/Library/Frameworks/Python.framework/Versions/3.10/lib/python3.10/site-packages/uniswappy/cpt/exchg/UniswapExchange.py:560\u001b[0m, in \u001b[0;36mUniswapExchange.get_amount_out0\u001b[0;34m(self, amount_in)\u001b[0m\n\u001b[1;32m    543\u001b[0m \u001b[38;5;250m\u001b[39m\u001b[38;5;124;03m\"\"\" get_amount_out0\u001b[39;00m\n\u001b[1;32m    544\u001b[0m \n\u001b[1;32m    545\u001b[0m \u001b[38;5;124;03m    Get maximum amount of other asset given input amount of an asset\u001b[39;00m\n\u001b[0;32m   (...)\u001b[0m\n\u001b[1;32m    555\u001b[0m \u001b[38;5;124;03m        reserve1 * reserve0       \u001b[39;00m\n\u001b[1;32m    556\u001b[0m \u001b[38;5;124;03m\"\"\"\u001b[39;00m\n\u001b[1;32m    558\u001b[0m amount_in \u001b[38;5;241m=\u001b[39m \u001b[38;5;28mself\u001b[39m\u001b[38;5;241m.\u001b[39m_convert_to_machine(amount_in)\n\u001b[0;32m--> 560\u001b[0m \u001b[38;5;28;01massert\u001b[39;00m amount_in \u001b[38;5;241m>\u001b[39m \u001b[38;5;241m0\u001b[39m, \u001b[38;5;124m'\u001b[39m\u001b[38;5;124mUniswapV2Library: INSUFFICIENT_INPUT_AMOUNT\u001b[39m\u001b[38;5;124m'\u001b[39m\n\u001b[1;32m    561\u001b[0m \u001b[38;5;28;01massert\u001b[39;00m \u001b[38;5;28mself\u001b[39m\u001b[38;5;241m.\u001b[39mreserve0 \u001b[38;5;241m>\u001b[39m \u001b[38;5;241m0\u001b[39m \u001b[38;5;129;01mand\u001b[39;00m \u001b[38;5;28mself\u001b[39m\u001b[38;5;241m.\u001b[39mreserve1 \u001b[38;5;241m>\u001b[39m \u001b[38;5;241m0\u001b[39m, \u001b[38;5;124m'\u001b[39m\u001b[38;5;124mUniswapV2Library: INSUFFICIENT_LIQUIDITY\u001b[39m\u001b[38;5;124m'\u001b[39m\n\u001b[1;32m    563\u001b[0m amount_in_with_fee \u001b[38;5;241m=\u001b[39m amount_in \u001b[38;5;241m*\u001b[39m \u001b[38;5;241m997\u001b[39m  \n",
      "\u001b[0;31mAssertionError\u001b[0m: UniswapV2Library: INSUFFICIENT_INPUT_AMOUNT"
     ]
    }
   ],
   "source": [
    "tkn = ERC20(\"TKN\", \"0x111\")\n",
    "eth = ERC20(\"ETH\", \"0x09\")\n",
    "exchg_data = UniswapExchangeData(tkn0 = eth, tkn1 = tkn, symbol=\"LP\", address=\"0x011\")\n",
    "\n",
    "factory = UniswapFactory(\"ETH pool factory\", \"0x2\")\n",
    "lp = factory.deploy(exchg_data)\n",
    "lp.add_liquidity(user_nm, eth_amount, tkn_amount, eth_amount, tkn_amount)\n",
    "\n",
    "print('***\\nInitial LP\\n***')\n",
    "lp.summary()\n",
    "\n",
    "s_in = 100\n",
    "alpha = calc_deposit_portion(lp, eth, s_in)\n",
    "s_out = Swap().apply(lp, eth, user_nm, alpha*s_in)\n",
    "\n",
    "print('***\\nLP post step 1\\n***')\n",
    "lp.summary()\n",
    "    \n",
    "balance1 = s_out\n",
    "balance0 = lp.quote(s_out, lp.reserve1, lp.reserve0)\n",
    "lp.add_liquidity(user_nm, balance0, balance1, balance0, balance1) \n",
    "\n",
    "print('***\\nLP post step 2\\n***')\n",
    "lp.summary() \n",
    "\n",
    "\n",
    "print('Given {} initial ETH:'.format(s_in))\n",
    "print('  (step 1) {} ETH must first get swapped for {} TKN'.format(alpha*s_in, s_out))\n",
    "print('  (step 2) The received TKN gets deposited along with the remaining {} ETH'.format(balance0))\n",
    "\n",
    "print('\\nTotal deposited is {:.6f} + {:.6f} = {:.6f} ETH:'.format(alpha*s_in,  balance0, alpha*s_in + balance0))"
   ]
  },
  {
   "cell_type": "markdown",
   "id": "bfb02a28-21ee-451e-8085-a6d021744fd2",
   "metadata": {},
   "source": [
    "#### Let's check the opposing token"
   ]
  },
  {
   "cell_type": "code",
   "execution_count": null,
   "id": "d03bc54b-e95d-4325-b008-e7888a3094e1",
   "metadata": {},
   "outputs": [],
   "source": [
    "tkn = ERC20(\"TKN\", \"0x111\")\n",
    "eth = ERC20(\"ETH\", \"0x09\")\n",
    "exchg_data = UniswapExchangeData(tkn0 = eth, tkn1 = tkn, symbol=\"LP\", address=\"0x011\")\n",
    "\n",
    "factory = UniswapFactory(\"ETH pool factory\", \"0x2\")\n",
    "lp = factory.deploy(exchg_data)\n",
    "lp.add_liquidity(user_nm, eth_amount, tkn_amount, eth_amount, tkn_amount)\n",
    "\n",
    "print('***\\nInitial LP\\n***')\n",
    "lp.summary()\n",
    "\n",
    "s_in = 1000\n",
    "alpha = calc_deposit_portion(lp, tkn, s_in)\n",
    "s_out = Swap().apply(lp, tkn, user_nm, alpha*s_in)\n",
    "\n",
    "print('***\\nLP post step 1\\n***')\n",
    "lp.summary()\n",
    "   \n",
    "balance1 = lp.quote(s_out, lp.reserve0, lp.reserve1)    \n",
    "balance0 = s_out\n",
    "lp.add_liquidity(user_nm, balance0, balance1, balance0, balance1) \n",
    "\n",
    "print('***\\nLP post step 2\\n***')\n",
    "lp.summary() \n",
    "\n",
    "\n",
    "print('Given {} initial ETH:'.format(s_in))\n",
    "print('  (step 1) {} ETH must first get swapped for {} TKN'.format(alpha*s_in, s_out))\n",
    "print('  (step 2) The received TKN gets deposited along with the remaining {} ETH'.format(balance0))\n",
    "\n",
    "print('\\nTotal deposited is {:.6f} + {:.6f} = {:.6f} TKN:'.format(alpha*s_in,  balance1, alpha*s_in + balance1))"
   ]
  },
  {
   "cell_type": "markdown",
   "id": "7c209dd5-e720-48c0-8f8c-f147a23a1e91",
   "metadata": {},
   "source": [
    "#### Finally, let's check when our solution is integrated into ```SwapDeposit```"
   ]
  },
  {
   "cell_type": "code",
   "execution_count": null,
   "id": "1a759f47-2c3e-4c91-82bf-f338e0bc0b3e",
   "metadata": {},
   "outputs": [],
   "source": [
    "tkn = ERC20(\"TKN\", \"0x111\")\n",
    "eth = ERC20(\"ETH\", \"0x09\")\n",
    "exchg_data = UniswapExchangeData(tkn0 = eth, tkn1 = tkn, symbol=\"LP\", address=\"0x011\")\n",
    "\n",
    "factory = UniswapFactory(\"ETH pool factory\", \"0x2\")\n",
    "lp = factory.deploy(exchg_data)\n",
    "lp.add_liquidity(user_nm, eth_amount, tkn_amount, eth_amount, tkn_amount)\n",
    "lp.summary()\n",
    "\n",
    "s_in = 100\n",
    "dep = SwapDeposit().apply(lp, eth, user_nm, s_in)\n",
    "lp.summary()"
   ]
  },
  {
   "cell_type": "code",
   "execution_count": null,
   "id": "54e4120a-fcbb-4015-9d2d-6f922dbd1581",
   "metadata": {},
   "outputs": [],
   "source": [
    "tkn = ERC20(\"TKN\", \"0x111\")\n",
    "eth = ERC20(\"ETH\", \"0x09\")\n",
    "exchg_data = UniswapExchangeData(tkn0 = eth, tkn1 = tkn, symbol=\"LP\", address=\"0x011\")\n",
    "\n",
    "factory = UniswapFactory(\"ETH pool factory\", \"0x2\")\n",
    "lp = factory.deploy(exchg_data)\n",
    "lp.add_liquidity(user_nm, eth_amount, tkn_amount, eth_amount, tkn_amount)\n",
    "lp.summary()"
   ]
  },
  {
   "cell_type": "code",
   "execution_count": null,
   "id": "79e56404-365c-4388-8192-33517d91d6e0",
   "metadata": {},
   "outputs": [],
   "source": [
    "tkn = ERC20(\"TKN\", \"0x111\")\n",
    "eth = ERC20(\"ETH\", \"0x09\")\n",
    "exchg_data = UniswapExchangeData(tkn0 = eth, tkn1 = tkn, symbol=\"LP\", address=\"0x011\")\n",
    "\n",
    "factory = UniswapFactory(\"ETH pool factory\", \"0x2\")\n",
    "lp = factory.deploy(exchg_data)\n",
    "lp.add_liquidity(user_nm, eth_amount, tkn_amount, eth_amount, tkn_amount)\n",
    "lp.summary()\n",
    "\n",
    "dep = SwapDeposit().apply(lp, tkn, user_nm, 100)\n",
    "lp.summary()\n",
    "\n",
    "out = WithdrawSwap().apply(lp, tkn, user_nm, 100)\n",
    "lp.summary()"
   ]
  }
 ],
 "metadata": {
  "kernelspec": {
   "display_name": "Python 3 (ipykernel)",
   "language": "python",
   "name": "python3"
  },
  "language_info": {
   "codemirror_mode": {
    "name": "ipython",
    "version": 3
   },
   "file_extension": ".py",
   "mimetype": "text/x-python",
   "name": "python",
   "nbconvert_exporter": "python",
   "pygments_lexer": "ipython3",
   "version": "3.10.0rc2"
  }
 },
 "nbformat": 4,
 "nbformat_minor": 5
}
