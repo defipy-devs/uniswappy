{
 "cells": [
  {
   "cell_type": "markdown",
   "id": "fb6cd7f4-db41-4259-97c7-50e99e82c705",
   "metadata": {},
   "source": [
    "## Uniswap V3 Order Book\n",
    "\n",
    "Here we utilize UniswapPy to simulate an order book in Uniswap V3"
   ]
  },
  {
   "cell_type": "code",
   "execution_count": null,
   "id": "54d68f40-5184-403c-a548-fbb76c2a6476",
   "metadata": {
    "tags": []
   },
   "outputs": [],
   "source": [
    "from uniswappy import *\n",
    "import pandas as pd\n",
    "import seaborn as sns\n",
    "import matplotlib.pyplot as plt\n",
    "\n",
    "user_nm = MockAddress().apply()\n",
    "eth_amount = 100\n",
    "tkn_amount = 1000\n",
    "\n",
    "fee = UniV3Utils.FeeAmount.MEDIUM\n",
    "tick_spacing = UniV3Utils.TICK_SPACINGS[fee]"
   ]
  },
  {
   "cell_type": "markdown",
   "id": "7ebe5d04-9ecf-4275-ad2c-dae627bbfb2c",
   "metadata": {},
   "source": [
    "#### Simulate prices\n",
    "Simulate prices using a geometric brownian motion process"
   ]
  },
  {
   "cell_type": "code",
   "execution_count": null,
   "id": "e2169415-721d-4610-aaa9-54d7ced0ab08",
   "metadata": {
    "tags": []
   },
   "outputs": [],
   "source": [
    "n_steps = 1000\n",
    "start_price = eth_amount/tkn_amount\n",
    "mu = 0.1; sigma = 0.5\n",
    "n_paths = 1\n",
    "\n",
    "b = BrownianModel(start_price)\n",
    "p_arr = b.gen_gbms(mu, sigma, n_steps, n_paths)\n",
    "exp_p_arr = np.median(p_arr, axis = 1)\n",
    "\n",
    "accounts = MockAddress().apply(50)"
   ]
  },
  {
   "cell_type": "markdown",
   "id": "817ec6af-e839-490b-8e93-c83b5b94f77f",
   "metadata": {},
   "source": [
    "#### Setup pool"
   ]
  },
  {
   "cell_type": "code",
   "execution_count": null,
   "id": "e763dde4-902b-4047-9937-305226680abf",
   "metadata": {},
   "outputs": [],
   "source": [
    "eth = ERC20(\"ETH\", \"0x09\")\n",
    "tkn = ERC20(\"TKN\", \"0x111\")\n",
    "\n",
    "exchg_data = UniswapExchangeData(tkn0 = eth, tkn1 = tkn, symbol=\"LP\", \n",
    "                                   address=\"0x011\", version = 'V3', \n",
    "                                   tick_spacing = tick_spacing, \n",
    "                                   fee = fee)\n",
    "\n",
    "factory = UniswapFactory(\"ETH pool factory\", \"0x2\")\n",
    "lp = factory.deploy(exchg_data)\n",
    "\n",
    "lwr_tick = UniV3Helper().get_price_tick(lp, -1, 10, 1000)\n",
    "upr_tick = UniV3Helper().get_price_tick(lp, 1, 10, 1000)\n",
    "\n",
    "Join().apply(lp, user_nm, eth_amount, tkn_amount, lwr_tick, upr_tick)\n",
    "lp.summary()"
   ]
  },
  {
   "cell_type": "markdown",
   "id": "3265899d-985d-4128-acab-c47a05e69223",
   "metadata": {},
   "source": [
    "#### Simulate liquidity pool"
   ]
  },
  {
   "cell_type": "code",
   "execution_count": null,
   "id": "8b1abdc1-b9d1-40f7-a9f5-28b4b23f10ee",
   "metadata": {},
   "outputs": [],
   "source": [
    "arb = CorrectReserves(lp, x0 = 1/exp_p_arr[0])\n",
    "p_intervals = [500, 800, 1000, 1200, 1500, 1700, 2000]\n",
    "lp_prices = [lp.get_price(tkn)]\n",
    "lp_liquidity = [lp.total_supply]\n",
    "lp_swaps = []; lp_net_deposits = [];\n",
    "\n",
    "for k in range(1, n_steps):\n",
    "    p = 1/exp_p_arr[k]\n",
    "    arb.apply(p, lwr_tick, upr_tick)\n",
    "    \n",
    "    select_tkn = EventSelectionModel().bi_select(0.5)\n",
    "    rnd_add_amt = TokenDeltaModel(25).delta()\n",
    "    rnd_swap_amt = TokenDeltaModel(15).delta()\n",
    "    user_add = random.choice(accounts)\n",
    "    user_swap = random.choice(accounts)\n",
    "\n",
    "    p_interval = random.choice(p_intervals)\n",
    "    lwr_tick = UniV3Helper().get_price_tick(lp, -1, lp.get_price(eth), p_interval)\n",
    "    upr_tick = UniV3Helper().get_price_tick(lp, 1, lp.get_price(eth), p_interval)\n",
    "    \n",
    "    if(select_tkn == 0): \n",
    "        AddLiquidity().apply(lp, eth, user_add, rnd_add_amt, lwr_tick, upr_tick)\n",
    "        out = Swap().apply(lp, eth, user_swap, rnd_swap_amt) \n",
    "    else:\n",
    "        AddLiquidity().apply(lp, tkn, user_add, p*rnd_add_amt, lwr_tick, upr_tick)\n",
    "        out = Swap().apply(lp, tkn, user_swap,  p*rnd_swap_amt) \n",
    "        \n",
    "    lp_prices.append(lp.get_price(tkn))\n",
    "    lp_liquidity.append(lp.total_supply)\n",
    "    lp_swaps.append(rnd_swap_amt)\n",
    "    lp_net_deposits.append(rnd_add_amt)\n",
    "\n",
    "lp.summary()"
   ]
  },
  {
   "cell_type": "markdown",
   "id": "dfb14e06-e20a-4eaa-9838-da1f92825a67",
   "metadata": {},
   "source": [
    "#### Construct order book"
   ]
  },
  {
   "cell_type": "code",
   "execution_count": null,
   "id": "f1df3f81-006a-4d40-a901-f3abaee4fae1",
   "metadata": {},
   "outputs": [],
   "source": [
    "liquidity = {}\n",
    "df_liq = pd.DataFrame(columns=['tick', 'price', 'liquidity'])\n",
    "for k, pos in enumerate(lp.ticks):\n",
    "    price = UniV3Helper().tick_to_price(pos)\n",
    "    liq = lp.ticks[pos].liquidityGross/10**18\n",
    "    df_liq.loc[k] = [pos,price,liq]\n",
    "\n",
    "center_pos = UniV3Helper().price_to_tick(lp.get_price(eth))\n",
    "price = lp.get_price(tkn)\n",
    "df_liq.loc[k+1] = [center_pos,price,0]\n",
    "\n",
    "df_liq.sort_values(by=['price'], inplace=True)\n",
    "df_liq.reset_index(drop=True, inplace=True)\n",
    "\n",
    "side_arr = []\n",
    "for tick in df_liq['tick'].values:\n",
    "    if (tick > center_pos):\n",
    "        side_arr.append('asks')\n",
    "    elif (tick < center_pos):\n",
    "        side_arr.append('bids')\n",
    "    else:\n",
    "        side_arr.append('center')\n",
    "df_liq['side'] = side_arr\n",
    "idx = df_liq.index[df_liq['side'] == 'center']\n",
    "df_liq.drop(idx[0], inplace=True)"
   ]
  },
  {
   "cell_type": "code",
   "execution_count": null,
   "id": "afa72d35-d79d-4f9e-8839-95975fe3099f",
   "metadata": {},
   "outputs": [],
   "source": [
    "df_liq"
   ]
  },
  {
   "cell_type": "markdown",
   "id": "64cd244c-fee5-43ba-bb07-9f8380b415c6",
   "metadata": {},
   "source": [
    "#### Review simulation output"
   ]
  },
  {
   "cell_type": "code",
   "execution_count": null,
   "id": "4d5e0ef3-0fec-4a98-ad6c-7071dad5470e",
   "metadata": {},
   "outputs": [],
   "source": [
    "fig = plt.figure(figsize = (10, 5))\n",
    "\n",
    "current_price = lp.get_price(tkn)\n",
    "prices = 1/df_liq['price'].values\n",
    "liquidity = df_liq['liquidity'].values\n",
    "\n",
    "fig, (book_ax, price_ax, liq_ax) = plt.subplots(nrows=3, sharex=False, sharey=False, figsize=(12, 8))\n",
    "\n",
    "book_ax.bar(prices, liquidity, color ='steelblue', width = 0.0005, label = 'liquidity', alpha=0.7)\n",
    "book_ax.axvline(x=current_price, color = 'mediumvioletred', linewidth = 1, linestyle = 'dashdot', label = 'current price')\n",
    "book_ax.set_xlabel(\"Price (USD)\", size=10)\n",
    "book_ax.set_ylabel(\"Liquidity\", size=14)\n",
    "book_ax.set_title(\"Uniswap V3: Liquidity distribution\")\n",
    "book_ax.legend()\n",
    "\n",
    "x_val = np.arange(0,len(p_arr))\n",
    "price_ax.plot(x_val[1:-1], p_arr[1:-1], color = 'r',linestyle = 'dashdot', label='market price') \n",
    "price_ax.plot(x_val[1:-1], lp_prices[1:], color = 'b',linestyle = 'dashed', label='lp price') \n",
    "price_ax.set_ylabel('Price (ETH/TKN)', size=14)\n",
    "price_ax.set_xlabel('Time sample', size=10)\n",
    "price_ax.legend()\n",
    "\n",
    "liq_ax.plot(x_val[1:-1], lp_liquidity[1:], color = 'b',linestyle = 'dashed', label='lp liquidity') \n",
    "liq_ax.set_ylabel('Liquidity', size=14)\n",
    "liq_ax.set_xlabel('Time sample', size=10)\n",
    "liq_ax.legend()\n",
    "plt.tight_layout()"
   ]
  },
  {
   "cell_type": "code",
   "execution_count": null,
   "id": "b340ea9d-eafc-4342-b408-53d190650eff",
   "metadata": {},
   "outputs": [],
   "source": [
    "fig, ax = plt.subplots(1, 2, figsize=(12,5))\n",
    "\n",
    "sns.distplot(lp_net_deposits, hist=True, kde=False, bins=int(30), color = 'darkblue', \n",
    "             hist_kws={'edgecolor':'black'}, kde_kws={'linewidth': 2}, ax=ax[0])\n",
    "\n",
    "ax[0].set_title('Histogram: Net Deposit Volume')\n",
    "ax[0].set_xlabel('Volume ETH')\n",
    "ax[0].set_ylabel('Frequency')\n",
    "\n",
    "sns.distplot(lp_swaps, hist=True, kde=False, bins=int(30), color = 'darkblue', \n",
    "             hist_kws={'edgecolor':'black'}, kde_kws={'linewidth': 2}, ax=ax[1])\n",
    "\n",
    "ax[1].set_title('Histogram: Net Swap Volume')\n",
    "ax[1].set_xlabel('Volume ETH')\n",
    "ax[1].set_ylabel('Frequency')"
   ]
  },
  {
   "cell_type": "markdown",
   "id": "76c0e2fb-7041-4a2b-abcb-492c2f60eb2c",
   "metadata": {},
   "source": [
    "#### Plot order book"
   ]
  },
  {
   "cell_type": "code",
   "execution_count": null,
   "id": "8c5fe3ea-f693-479f-9142-78cf40c2b437",
   "metadata": {},
   "outputs": [],
   "source": [
    "fig, ax = plt.subplots(figsize = (10, 5))\n",
    "ax.set_title(f\"ETH/TKN Order Book - Scatterplot\")\n",
    "sns.scatterplot(x=\"price\", y=\"liquidity\", hue=\"side\", \n",
    "                data=df_liq, ax=ax, palette=[\"green\", \"red\"])\n",
    "ax.set_xlabel(\"Price (TKN/ETH)\", fontsize = 14)\n",
    "ax.set_ylabel(\"Liquidity\", fontsize = 14)"
   ]
  },
  {
   "cell_type": "code",
   "execution_count": null,
   "id": "d459615c-547f-42dd-a2dd-f33fa9cd0b50",
   "metadata": {},
   "outputs": [],
   "source": [
    "fig, ax = plt.subplots(figsize = (10, 5))\n",
    "ax.set_title(f\"ETH/TKN Order Book - Depth Chart\")\n",
    "sns.ecdfplot(x=\"price\", weights=\"liquidity\", stat=\"count\", \n",
    "             complementary=True, data=df_liq.query(\"side == 'bids'\"), \n",
    "             color=\"green\", ax=ax)\n",
    "sns.ecdfplot(x=\"price\", weights=\"liquidity\", stat=\"count\", \n",
    "             data=df_liq.query(\"side == 'asks'\"), color=\"red\", \n",
    "             ax=ax)\n",
    "ax.set_xlabel(\"Price (TKN/ETH)\", fontsize = 14)\n",
    "ax.set_ylabel(\"Liquidity\", fontsize = 14)"
   ]
  }
 ],
 "metadata": {
  "kernelspec": {
   "display_name": "py3",
   "language": "python",
   "name": "py3"
  },
  "language_info": {
   "codemirror_mode": {
    "name": "ipython",
    "version": 3
   },
   "file_extension": ".py",
   "mimetype": "text/x-python",
   "name": "python",
   "nbconvert_exporter": "python",
   "pygments_lexer": "ipython3",
   "version": "3.10.0rc2"
  }
 },
 "nbformat": 4,
 "nbformat_minor": 5
}
